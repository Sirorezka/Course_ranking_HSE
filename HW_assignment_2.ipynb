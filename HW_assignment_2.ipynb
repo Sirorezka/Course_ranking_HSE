{
 "cells": [
  {
   "cell_type": "code",
   "execution_count": null,
   "metadata": {
    "collapsed": true
   },
   "outputs": [],
   "source": [
    "##  http://ocelma.net/software/python-recsys/build/html/algorithm.html\n",
    "##  http://ocelma.net/software/python-recsys/build/html/quickstart.html"
   ]
  },
  {
   "cell_type": "code",
   "execution_count": 23,
   "metadata": {
    "collapsed": false
   },
   "outputs": [],
   "source": [
    "%matplotlib inline\n",
    "import matplotlib.pyplot as plt\n",
    "import os,re\n",
    "import numpy as np\n",
    "import pandas as pd\n",
    "import math\n",
    "import sys\n",
    "from recsys.algorithm.factorize import SVD\n",
    "\n",
    "sys.stdout.flush()"
   ]
  },
  {
   "cell_type": "code",
   "execution_count": 117,
   "metadata": {
    "collapsed": true
   },
   "outputs": [],
   "source": [
    "##\n",
    "## Load test and train sets for MovieLens_db\n",
    "##\n",
    "\n",
    "def loadMovieLens_train_test(path='data/movielens', k = 1):\n",
    "    \n",
    "# Получить названия фильмов\n",
    "    movies={}\n",
    "    for line in open(path+'/u.item'):\n",
    "        (id,title)=line.split('|')[0:2]\n",
    "        movies[id]=title\n",
    "# Загрузить данные\n",
    "    prefs_train={}\n",
    "    prefs_test={}\n",
    "    \n",
    "    print (path+'/u' + str(k) + '.base')\n",
    "    for line in open(path+'/u' + str(k) + '.base'):\n",
    "        (user,movieid,rating,ts)=line.split('\\t')\n",
    "        prefs_train.setdefault(user,{})\n",
    "        prefs_train[user][movies[movieid]]=float(rating)\n",
    "        \n",
    "    print (path+'/u' + str(k) + '.test')\n",
    "    for line in open(path+'/u' + str(k) + '.test'):\n",
    "        (user,movieid,rating,ts)=line.split('\\t')\n",
    "        prefs_test.setdefault(user,{})\n",
    "        prefs_test[user][movies[movieid]]=float(rating)                \n",
    "                \n",
    "    return prefs_train, prefs_test, movies"
   ]
  },
  {
   "cell_type": "code",
   "execution_count": 118,
   "metadata": {
    "collapsed": false
   },
   "outputs": [
    {
     "name": "stdout",
     "output_type": "stream",
     "text": [
      "data/movielens/u3.base\n",
      "data/movielens/u3.test\n"
     ]
    }
   ],
   "source": [
    "prefs_train, prefs_test, movies_list = loadMovieLens_train_test(k = 3)"
   ]
  },
  {
   "cell_type": "code",
   "execution_count": 124,
   "metadata": {
    "collapsed": true
   },
   "outputs": [],
   "source": [
    "## load data to svd algorithm\n",
    "\n",
    "svd = SVD()\n",
    "svd.load_data(filename='./data/movielens/u3.base', sep='\\t', format={'row':0,'col':1, 'value':2, 'ids': int})"
   ]
  },
  {
   "cell_type": "code",
   "execution_count": 137,
   "metadata": {
    "collapsed": true
   },
   "outputs": [],
   "source": [
    "## error score function:\n",
    "## pow_val = 1 - MAE\n",
    "## pow_val = 2 - RMSE\n",
    "\n",
    "def Error_score (user_recommendations, user_true_scores, pow_val = 1):\n",
    "    \n",
    "    mae_value    = 0\n",
    "    counter_val  = 0\n",
    "    for film_score_iter in user_recommendations:\n",
    "        ##print (film_score_iter[0])\n",
    "        film_name = film_score_iter[0]\n",
    "        film_score = film_score_iter[1]\n",
    "        \n",
    "        if film_name in user_true_scores:\n",
    "            mae_value += abs(film_score - user_true_scores[film_name]) **pow_val\n",
    "            counter_val += 1\n",
    "        ##print (film_name, film_score_iter[0], user_true_scores[film_name])\n",
    "    \n",
    "    return [counter_val, mae_value]"
   ]
  },
  {
   "cell_type": "code",
   "execution_count": 139,
   "metadata": {
    "collapsed": false
   },
   "outputs": [
    {
     "name": "stdout",
     "output_type": "stream",
     "text": [
      "[(427, 4.859944546843959), (285, 4.8419269350149792), (603, 4.8389513336848573), (318, 4.7596509835865604), (515, 4.7166061619841786), (523, 4.623491518763581), (513, 4.6206222130375192), (114, 4.6126998224667783), (169, 4.5740429299488827), (657, 4.5707174167168443)]\n"
     ]
    },
    {
     "data": {
      "text/plain": [
       "[2, 0.5840301350361381]"
      ]
     },
     "execution_count": 139,
     "metadata": {},
     "output_type": "execute_result"
    }
   ],
   "source": [
    "## Get recommendations for single user with user_id = 344\n",
    "\n",
    "k = 100\n",
    "svd.compute(k=k, min_values=5, pre_normalize=None, mean_center=True, post_normalize=True)\n",
    "\n",
    "print (svd.recommend(344, n=10, only_unknowns=True, is_row=True))\n",
    "recos = svd.recommend(344, n=10, only_unknowns=True, is_row=True)\n",
    "recos = map (lambda x: [movies_list[str(x[0])],x[1]], recos)\n",
    "\n",
    "Error_score (recos, prefs_test['344'], pow_val = 1)"
   ]
  },
  {
   "cell_type": "code",
   "execution_count": 140,
   "metadata": {
    "collapsed": false
   },
   "outputs": [],
   "source": [
    "## Calculate sum of error score\n",
    "##\n",
    "\n",
    "def get_error_score_for_test_data (prefs_test, prefs_train, itemsim, movies_list, n_neighb = 5,  pow_val = 1, n_reco = 5):\n",
    "    err_score_total = 0\n",
    "    counter_total = 0\n",
    "\n",
    "    for user_id in prefs_test.keys():\n",
    "        ##print (int(user_id))\n",
    "        user_recommendations = itemsim.recommend(int(user_id), n=n_reco, only_unknowns=True, is_row=True)\n",
    "        user_recommendations = map (lambda x: [movies_list[str(x[0])],x[1]], user_recommendations)\n",
    "        \n",
    "        counter_user, score_user = Error_score (user_recommendations, prefs_test[user_id], pow_val = pow_val)\n",
    "        err_score_total += score_user\n",
    "        counter_total += counter_user\n",
    "\n",
    "    \n",
    "    if (counter_total == 0): counter_total = 0.0001\n",
    "    \n",
    "    \n",
    "    err_score_total = err_score_total/counter_total\n",
    "    if pow_val == 2:\n",
    "        err_score_total = math.sqrt(err_score_total)\n",
    "    \n",
    "    return err_score_total"
   ]
  },
  {
   "cell_type": "code",
   "execution_count": 146,
   "metadata": {
    "collapsed": false
   },
   "outputs": [
    {
     "name": "stdout",
     "output_type": "stream",
     "text": [
      "(0.52818317395269043, 0.8012954297649374)\n"
     ]
    }
   ],
   "source": [
    "##\n",
    "##  Get svd recommendations\n",
    "##\n",
    "\n",
    "n_reco = 1\n",
    "mae_error_val = get_error_score_for_test_data (prefs_test, prefs_train, movies_list=movies_list, itemsim = svd, n_reco = n_reco, pow_val = 1)\n",
    "rmse_error_val = get_error_score_for_test_data (prefs_test, prefs_train, movies_list=movies_list, itemsim = svd, n_reco = n_reco, pow_val = 2)\n",
    "\n",
    "print (mae_error_val, rmse_error_val)"
   ]
  },
  {
   "cell_type": "code",
   "execution_count": 156,
   "metadata": {
    "collapsed": false,
    "scrolled": true
   },
   "outputs": [
    {
     "name": "stdout",
     "output_type": "stream",
     "text": [
      "[  1   5  10  15  20  25  30  35  40  45  50  55  60  65  70  75  80  85\n",
      "  90  95 100]\n"
     ]
    }
   ],
   "source": [
    "## create iteration list for number of recommendations\n",
    "##\n",
    "\n",
    "np_arr = np.arange(5,101,5)\n",
    "np_arr = np.concatenate([np.array([1]),np_arr])\n",
    "print (np_arr)\n"
   ]
  },
  {
   "cell_type": "code",
   "execution_count": 157,
   "metadata": {
    "collapsed": false
   },
   "outputs": [
    {
     "name": "stdout",
     "output_type": "stream",
     "text": [
      "('Number of recos: ', 1)\n",
      "(0.63460854945382683, 0.8655781585397048)\n",
      "('Number of recos: ', 5)\n",
      "(0.57850429027428019, 0.794195157428647)\n",
      "('Number of recos: ', 10)\n",
      "(0.57737748542604406, 0.7874171339990249)\n",
      "('Number of recos: ', 15)\n",
      "(0.59021533294235728, 0.7975228489701567)\n",
      "('Number of recos: ', 20)\n",
      "(0.58572518226758707, 0.7836696202604638)\n",
      "('Number of recos: ', 25)\n",
      "(0.60186559724188882, 0.8082938316889419)\n",
      "('Number of recos: ', 30)\n",
      "(0.61229420232370502, 0.8205944157443242)\n",
      "('Number of recos: ', 35)\n",
      "(0.62283007205449481, 0.8328904418016884)\n",
      "('Number of recos: ', 40)\n",
      "(0.6269634358723799, 0.8369595458036194)\n",
      "('Number of recos: ', 45)\n",
      "(0.62716410963239877, 0.8334182014617798)\n",
      "('Number of recos: ', 50)\n",
      "(0.63065121490550113, 0.8389618925085982)\n",
      "('Number of recos: ', 55)\n",
      "(0.63444568243634569, 0.8430137637170316)\n",
      "('Number of recos: ', 60)\n",
      "(0.63920483522668614, 0.8483020444957917)\n",
      "('Number of recos: ', 65)\n",
      "(0.63996704013951433, 0.8466955171453826)\n",
      "('Number of recos: ', 70)\n",
      "(0.6431713022505805, 0.8508550675752338)\n",
      "('Number of recos: ', 75)\n",
      "(0.64217359198323687, 0.849288497862718)\n",
      "('Number of recos: ', 80)\n",
      "(0.64458111635867987, 0.8519425453103083)\n",
      "('Number of recos: ', 85)\n",
      "(0.64724033453035124, 0.8555289404441658)\n",
      "('Number of recos: ', 90)\n",
      "(0.64791848196481472, 0.8546007173559967)\n",
      "('Number of recos: ', 95)\n",
      "(0.65316501060893406, 0.860885985349548)\n",
      "('Number of recos: ', 100)\n",
      "(0.65618639083149732, 0.8660813745982409)\n"
     ]
    }
   ],
   "source": [
    "##\n",
    "##  Get scores for different number of recommendations\n",
    "##\n",
    "\n",
    "mae_array = []\n",
    "rmse_array = []\n",
    "svd.compute(k=10, min_values=5, pre_normalize=None, mean_center=True, post_normalize=True)\n",
    "\n",
    "for n_reco in np_arr:\n",
    "    print (\"Number of recos: \", n_reco)\n",
    "    mae_error_val = get_error_score_for_test_data (prefs_test, prefs_train, movies_list=movies_list, itemsim = svd, n_reco = n_reco, pow_val = 1)\n",
    "    rmse_error_val = get_error_score_for_test_data (prefs_test, prefs_train, movies_list=movies_list, itemsim = svd, n_reco = n_reco, pow_val = 2)\n",
    "    print (mae_error_val, rmse_error_val)\n",
    "    mae_array +=[mae_error_val]\n",
    "    rmse_array +=[rmse_error_val]\n",
    "    "
   ]
  },
  {
   "cell_type": "code",
   "execution_count": 159,
   "metadata": {
    "collapsed": false
   },
   "outputs": [
    {
     "data": {
      "image/png": "[encoded data removed]",
      "text/plain": [
       "<matplotlib.figure.Figure at 0x7efe801c41d0>"
      ]
     },
     "metadata": {},
     "output_type": "display_data"
    }
   ],
   "source": [
    "##\n",
    "##  graph error score with number of recommended items as dependent variable\n",
    "##\n",
    "\n",
    "plt.plot(np_arr, mae_array, label='MAE')\n",
    "plt.plot(np_arr, rmse_array, label = 'RMSE')\n",
    "\n",
    "plt.legend()\n",
    "plt.ylabel('error val')\n",
    "plt.xlabel('number of given recos')\n",
    "\n",
    "plt.show()"
   ]
  },
  {
   "cell_type": "code",
   "execution_count": 160,
   "metadata": {
    "collapsed": false,
    "scrolled": false
   },
   "outputs": [
    {
     "data": {
      "text/plain": [
       "array([[  1.        ,   0.63460855],\n",
       "       [  5.        ,   0.57850429],\n",
       "       [ 10.        ,   0.57737749],\n",
       "       [ 15.        ,   0.59021533],\n",
       "       [ 20.        ,   0.58572518],\n",
       "       [ 25.        ,   0.6018656 ],\n",
       "       [ 30.        ,   0.6122942 ],\n",
       "       [ 35.        ,   0.62283007],\n",
       "       [ 40.        ,   0.62696344],\n",
       "       [ 45.        ,   0.62716411]])"
      ]
     },
     "execution_count": 160,
     "metadata": {},
     "output_type": "execute_result"
    }
   ],
   "source": [
    "## MAE score vs. number of recos\n",
    "\n",
    "np.column_stack ([np_arr,mae_array])[0:10]"
   ]
  },
  {
   "cell_type": "code",
   "execution_count": 161,
   "metadata": {
    "collapsed": false
   },
   "outputs": [
    {
     "name": "stdout",
     "output_type": "stream",
     "text": [
      "[  1   5  10  15  20  25  30  35  40  45  50  55  60  65  70  75  80  85\n",
      "  90  95 100]\n"
     ]
    }
   ],
   "source": [
    "np_arr = np.arange(5,101,5)\n",
    "np_arr = np.concatenate([np.array([1]),np_arr])\n",
    "print (np_arr)"
   ]
  },
  {
   "cell_type": "code",
   "execution_count": 162,
   "metadata": {
    "collapsed": false
   },
   "outputs": [
    {
     "name": "stdout",
     "output_type": "stream",
     "text": [
      "K value:  1\n",
      "0.640364182749 0.857912280902\n",
      "K value:  5\n",
      "0.605082433274 0.810178678994\n",
      "K value:  10\n",
      "0.612294202324 0.820594415744\n",
      "K value:  15\n",
      "0.618680391814 0.831867740177\n",
      "K value:  20\n",
      "0.617716349686 0.833282866615\n",
      "K value:  25\n",
      "0.630267568791 0.850358907356\n",
      "K value:  30\n",
      "0.628658523235 0.850837623264\n",
      "K value:  35\n",
      "0.626925105672 0.851696694757\n",
      "K value:  40\n",
      "0.622770660452 0.846493365094\n",
      "K value:  45\n",
      "0.626246063589 0.838878425415\n",
      "K value:  50\n",
      "0.63002058234 0.843521804923\n",
      "K value:  55\n",
      "0.631395616313 0.851764416838\n",
      "K value:  60\n",
      "0.639843199614 0.865346960527\n",
      "K value:  65\n",
      "0.630979326779 0.856804114891\n",
      "K value:  70\n",
      "0.629800097168 0.851547769001\n",
      "K value:  75\n",
      "0.620577305777 0.837551600167\n",
      "K value:  80\n",
      "0.626262059029 0.84897668225\n",
      "K value:  85\n",
      "0.625270763574 0.849291834585\n",
      "K value:  90\n",
      "0.632071739683 0.851636586893\n",
      "K value:  95\n",
      "0.625118931309 0.83820004993\n",
      "K value:  100\n",
      "0.626580231333 0.841810914993\n"
     ]
    }
   ],
   "source": [
    "##  SVD score versus number of vectors\n",
    "##\n",
    "\n",
    "mae_array = []\n",
    "rmse_array = []\n",
    "\n",
    "for k_value in np_arr:\n",
    "    \n",
    "    print \"K value: \", k_value\n",
    "    svd.compute(k=k_value, min_values=5, pre_normalize=None, mean_center=True, post_normalize=True)\n",
    "    mae_error_val = get_error_score_for_test_data (prefs_test, prefs_train, movies_list=movies_list, itemsim = svd, n_reco = 30, pow_val = 1)\n",
    "    rmse_error_val = get_error_score_for_test_data (prefs_test, prefs_train, movies_list=movies_list, itemsim = svd, n_reco = 30, pow_val = 2)\n",
    "    print mae_error_val, rmse_error_val\n",
    "    mae_array +=[mae_error_val]\n",
    "    rmse_array +=[rmse_error_val]\n",
    "    "
   ]
  },
  {
   "cell_type": "code",
   "execution_count": 163,
   "metadata": {
    "collapsed": false
   },
   "outputs": [
    {
     "data": {
      "image/png": "[encoded data removed]",
      "text/plain": [
       "<matplotlib.figure.Figure at 0x7efe80be8e90>"
      ]
     },
     "metadata": {},
     "output_type": "display_data"
    }
   ],
   "source": [
    "##\n",
    "##  Graph user based recommendations errors\n",
    "##\n",
    "\n",
    "plt.plot(np_arr, mae_array, label='MAE')\n",
    "plt.plot(np_arr, rmse_array, label = 'RMSE')\n",
    "\n",
    "plt.legend()\n",
    "plt.ylabel('error val')\n",
    "plt.xlabel('number of K vectors')\n",
    "\n",
    "plt.show()"
   ]
  },
  {
   "cell_type": "code",
   "execution_count": 164,
   "metadata": {
    "collapsed": false
   },
   "outputs": [
    {
     "data": {
      "text/plain": [
       "array([[  1.        ,   0.64036418],\n",
       "       [  5.        ,   0.60508243],\n",
       "       [ 10.        ,   0.6122942 ],\n",
       "       [ 15.        ,   0.61868039],\n",
       "       [ 20.        ,   0.61771635],\n",
       "       [ 25.        ,   0.63026757],\n",
       "       [ 30.        ,   0.62865852],\n",
       "       [ 35.        ,   0.62692511],\n",
       "       [ 40.        ,   0.62277066],\n",
       "       [ 45.        ,   0.62624606]])"
      ]
     },
     "execution_count": 164,
     "metadata": {},
     "output_type": "execute_result"
    }
   ],
   "source": [
    "## Минимум продолжает уменьшаться при увеличении количества пользователей.\n",
    "\n",
    "np.column_stack ([np_arr,mae_array])[0:10]"
   ]
  },
  {
   "cell_type": "markdown",
   "metadata": {},
   "source": [
    "#### Результат:\n",
    "\n",
    "SVD показывает на данных MovieLens результаты намного лучше, чем коллаборативная фильтрация. MAE ниже - 0.6 против 0.82 и RMSE 0.85 против 1.1 для 100 соседей (user-based)"
   ]
  }
 ],
 "metadata": {
  "kernelspec": {
   "display_name": "Python 2",
   "language": "python",
   "name": "python2"
  },
  "language_info": {
   "codemirror_mode": {
    "name": "ipython",
    "version": 2
   },
   "file_extension": ".py",
   "mimetype": "text/x-python",
   "name": "python",
   "nbconvert_exporter": "python",
   "pygments_lexer": "ipython2",
   "version": "2.7.12"
  },
  "name": "lesson11_recsys.ipynb"
 },
 "nbformat": 4,
 "nbformat_minor": 0
}
