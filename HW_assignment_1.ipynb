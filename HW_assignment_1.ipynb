{
 "cells": [
  {
   "cell_type": "code",
   "execution_count": 83,
   "metadata": {
    "collapsed": true
   },
   "outputs": [],
   "source": [
    "%matplotlib inline\n",
    "import matplotlib.pyplot as plt\n",
    "import os,re\n",
    "import numpy as np\n",
    "import pandas as pd\n",
    "import math\n",
    "import sys\n",
    "\n",
    "sys.stdout.flush()"
   ]
  },
  {
   "cell_type": "markdown",
   "metadata": {
    "collapsed": true
   },
   "source": [
    "# Курс \"Рекомендательные системы\" -- домашнее задание 1\n",
    "\n",
    "## Автор материала: доцент ФКН НИУ ВШЭ Дмитрий Игнатов\n",
    "Можно использовать материал в любых целях, кроме коммерческих. Примеры составлены по мотивам главы 2 книги Т.Сегаран \"Программируем коллективный разум\" http://www.symbol.ru/alphabet/613828.html\n",
    "\n",
    "### Срок выполнения: 19 июня 2016 (включительно)\n",
    "\n",
    "\n"
   ]
  },
  {
   "cell_type": "markdown",
   "metadata": {},
   "source": [
    "## Словарь с предпочтениями пользователи-фильмы"
   ]
  },
  {
   "cell_type": "code",
   "execution_count": 2,
   "metadata": {
    "collapsed": false
   },
   "outputs": [],
   "source": [
    "# Словарь кинокритиков и выставленных ими оценок для небольшого набора\n",
    "# данных о фильмах\n",
    "critics={'Lisa Rose': {'Lady in the Water': 2.5, 'Snakes on a Plane': 3.5,\n",
    " 'Just My Luck': 3.0, 'Superman Returns': 3.5, 'You, Me and Dupree': 2.5, \n",
    " 'The Night Listener': 3.0},\n",
    "'Gene Seymour': {'Lady in the Water': 3.0, 'Snakes on a Plane': 3.5, \n",
    " 'Just My Luck': 1.5, 'Superman Returns': 5.0, 'The Night Listener': 3.0, \n",
    " 'You, Me and Dupree': 3.5}, \n",
    "'Michael Phillips': {'Lady in the Water': 2.5, 'Snakes on a Plane': 3.0,\n",
    " 'Superman Returns': 3.5, 'The Night Listener': 4.0},\n",
    "'Claudia Puig': {'Snakes on a Plane': 3.5, 'Just My Luck': 3.0,\n",
    " 'The Night Listener': 4.5, 'Superman Returns': 4.0, \n",
    " 'You, Me and Dupree': 2.5},\n",
    "'Mick LaSalle': {'Lady in the Water': 3.0, 'Snakes on a Plane': 4.0, \n",
    " 'Just My Luck': 2.0, 'Superman Returns': 3.0, 'The Night Listener': 3.0,\n",
    " 'You, Me and Dupree': 2.0}, \n",
    "'Jack Matthews': {'Lady in the Water': 3.0, 'Snakes on a Plane': 4.0,\n",
    " 'The Night Listener': 3.0, 'Superman Returns': 5.0, 'You, Me and Dupree': 3.5},\n",
    "'Toby': {'Snakes on a Plane':4.5,'You, Me and Dupree':1.0,'Superman Returns':4.0}}"
   ]
  },
  {
   "cell_type": "code",
   "execution_count": 3,
   "metadata": {
    "collapsed": false
   },
   "outputs": [
    {
     "data": {
      "text/plain": [
       "{'Snakes on a Plane': 4.5, 'Superman Returns': 4.0, 'You, Me and Dupree': 1.0}"
      ]
     },
     "execution_count": 3,
     "metadata": {},
     "output_type": "execute_result"
    }
   ],
   "source": [
    "critics['Toby']"
   ]
  },
  {
   "cell_type": "code",
   "execution_count": 4,
   "metadata": {
    "collapsed": false
   },
   "outputs": [
    {
     "data": {
      "text/plain": [
       "2.5"
      ]
     },
     "execution_count": 4,
     "metadata": {},
     "output_type": "execute_result"
    }
   ],
   "source": [
    "critics['Lisa Rose']['Lady in the Water']\n"
   ]
  },
  {
   "cell_type": "code",
   "execution_count": 5,
   "metadata": {
    "collapsed": false
   },
   "outputs": [
    {
     "data": {
      "text/plain": [
       "3.1622776601683795"
      ]
     },
     "execution_count": 5,
     "metadata": {},
     "output_type": "execute_result"
    }
   ],
   "source": [
    "#вычисление расстояния Евклида\n",
    "from math import sqrt\n",
    "sqrt(pow(5-4,2)+pow(4-1,2))\n"
   ]
  },
  {
   "cell_type": "code",
   "execution_count": 6,
   "metadata": {
    "collapsed": false
   },
   "outputs": [
    {
     "data": {
      "text/plain": [
       "0.2402530733520421"
      ]
     },
     "execution_count": 6,
     "metadata": {},
     "output_type": "execute_result"
    }
   ],
   "source": [
    "#вычисление сходства\n",
    "1/(1+sqrt(pow(5-4,2)+pow(4-1,2)))\n"
   ]
  },
  {
   "cell_type": "code",
   "execution_count": 7,
   "metadata": {
    "collapsed": false
   },
   "outputs": [],
   "source": [
    "from math import sqrt\n",
    "# Возвращает сходство person1 и person2 на основе расстояния\n",
    "def sim_distance(prefs,person1,person2):\n",
    "# Получить список предметов, оцененных обоими\n",
    "    si={}\n",
    "    for item in prefs[person1]:\n",
    "        if item in prefs[person2]:\n",
    "            si[item]=1\n",
    "# Если нет ни одной общей оценки, вернуть 0\n",
    "    if len(si)==0: return 0\n",
    "# Сложить квадраты разностей\n",
    "    sum_of_squares=sum([pow(prefs[person1][item]-prefs[person2][item],2)\n",
    "    for item in prefs[person1] if item in prefs[person2]])\n",
    "    return 1/(1+sum_of_squares)\n"
   ]
  },
  {
   "cell_type": "code",
   "execution_count": 8,
   "metadata": {
    "collapsed": false
   },
   "outputs": [
    {
     "data": {
      "text/plain": [
       "0.14814814814814814"
      ]
     },
     "execution_count": 8,
     "metadata": {},
     "output_type": "execute_result"
    }
   ],
   "source": [
    "sim_distance(critics, 'Lisa Rose','Gene Seymour')"
   ]
  },
  {
   "cell_type": "code",
   "execution_count": 9,
   "metadata": {
    "collapsed": true
   },
   "outputs": [],
   "source": [
    "# Возвращает коэффициент корреляции Пирсона между p1 и p2\n",
    "def sim_pearson(prefs,p1,p2):\n",
    "# Получить список предметов, оцененных обоими\n",
    "    si={}\n",
    "    for item in prefs[p1]: \n",
    "        if item in prefs[p2]: si[item]=1\n",
    "\n",
    "    # Если нет ни одной общей оценки, вернуть 0\n",
    "    if len(si)==0: return 0\n",
    "\n",
    "    # Количество соместно оцененных фильм\n",
    "    n=len(si)\n",
    "  \n",
    "    # Вычислить сумму всех предпочтений\n",
    "    sum1=sum([prefs[p1][it] for it in si])\n",
    "    sum2=sum([prefs[p2][it] for it in si])\n",
    "  \n",
    "    # Вычислить сумму квадратов\n",
    "    sum1Sq=sum([pow(prefs[p1][it],2) for it in si])\n",
    "    sum2Sq=sum([pow(prefs[p2][it],2) for it in si])\t\n",
    "  \n",
    "    # Вычислить сумму произведений\n",
    "    pSum=sum([prefs[p1][it]*prefs[p2][it] for it in si])\n",
    "  \n",
    "    # Вычислить коэффициент Пирсона\n",
    "    num=pSum-(sum1*sum2/n)\n",
    "    den=sqrt((sum1Sq-pow(sum1,2)/n)*(sum2Sq-pow(sum2,2)/n))\n",
    "    if den==0: return 0\n",
    "\n",
    "    r=num/den\n",
    "\n",
    "    return r"
   ]
  },
  {
   "cell_type": "code",
   "execution_count": 10,
   "metadata": {
    "collapsed": false
   },
   "outputs": [
    {
     "data": {
      "text/plain": [
       "0.39605901719066977"
      ]
     },
     "execution_count": 10,
     "metadata": {},
     "output_type": "execute_result"
    }
   ],
   "source": [
    "sim_pearson(critics,'Lisa Rose','Gene Seymour')\n"
   ]
  },
  {
   "cell_type": "markdown",
   "metadata": {},
   "source": [
    "## Ранжирование критиков"
   ]
  },
  {
   "cell_type": "code",
   "execution_count": 11,
   "metadata": {
    "collapsed": true
   },
   "outputs": [],
   "source": [
    "# Возвращает список наилучших соответствий для человека из словаря prefs.\n",
    "# Количество результатов в списке и функция подобия – необязательные\n",
    "# параметры.\n",
    "def topMatches(prefs,person,n=5,similarity=sim_pearson):\n",
    "    scores=[(similarity(prefs,person,other),other)\n",
    "    for other in prefs if other!=person]\n",
    "    # Отсортировать список по убыванию оценок\n",
    "    scores.sort( )\n",
    "    scores.reverse( )\n",
    "    return scores[0:n]\n"
   ]
  },
  {
   "cell_type": "code",
   "execution_count": 12,
   "metadata": {
    "collapsed": false
   },
   "outputs": [
    {
     "data": {
      "text/plain": [
       "[(0.9912407071619299, 'Lisa Rose'),\n",
       " (0.9244734516419049, 'Mick LaSalle'),\n",
       " (0.8934051474415647, 'Claudia Puig')]"
      ]
     },
     "execution_count": 12,
     "metadata": {},
     "output_type": "execute_result"
    }
   ],
   "source": [
    "topMatches(critics,'Toby',n=3)"
   ]
  },
  {
   "cell_type": "markdown",
   "metadata": {},
   "source": [
    "## Рекомендация фильмов (User-based подход)"
   ]
  },
  {
   "cell_type": "code",
   "execution_count": 13,
   "metadata": {
    "collapsed": false
   },
   "outputs": [],
   "source": [
    "# Получить рекомендации для заданного человека, пользуясь взвешенным средним\n",
    "# оценок, данных всеми остальными пользователями\n",
    "def getRecommendations(prefs,person,similarity=sim_pearson):\n",
    "    \n",
    "    totals={}\n",
    "    simSums={}\n",
    "    for other in prefs:\n",
    "    # сравнивать меня с собой же не нужно\n",
    "        if other==person: continue\n",
    "        sim=similarity(prefs,person,other)\n",
    "    # игнорировать нулевые и отрицательные оценки\n",
    "        if sim<=0: continue\n",
    "        for item in prefs[other]:\n",
    "    # оценивать только фильмы, которые я еще не смотрел\n",
    "            if item not in prefs[person] or prefs[person][item]==0:\n",
    "    # Коэффициент подобия * Оценка\n",
    "                totals.setdefault(item,0)\n",
    "                totals[item]+=prefs[other][item]*sim\n",
    "        # Сумма коэффициентов подобия\n",
    "                simSums.setdefault(item,0)\n",
    "                simSums[item]+=sim\n",
    "    # Создать нормированный список\n",
    "    rankings=[(total/simSums[item],item) for item,total in totals.items( )]\n",
    "    # Вернуть отсортированный список\n",
    "    rankings.sort( )\n",
    "    rankings.reverse( )\n",
    "    return rankings"
   ]
  },
  {
   "cell_type": "code",
   "execution_count": 14,
   "metadata": {
    "collapsed": false
   },
   "outputs": [
    {
     "data": {
      "text/plain": [
       "[(3.3477895267131013, 'The Night Listener'),\n",
       " (2.8325499182641614, 'Lady in the Water'),\n",
       " (2.5309807037655645, 'Just My Luck')]"
      ]
     },
     "execution_count": 14,
     "metadata": {},
     "output_type": "execute_result"
    }
   ],
   "source": [
    "getRecommendations(critics,'Toby')"
   ]
  },
  {
   "cell_type": "code",
   "execution_count": 15,
   "metadata": {
    "collapsed": false
   },
   "outputs": [
    {
     "data": {
      "text/plain": [
       "[(3.5002478401415877, 'The Night Listener'),\n",
       " (2.7561242939959363, 'Lady in the Water'),\n",
       " (2.461988486074374, 'Just My Luck')]"
      ]
     },
     "execution_count": 15,
     "metadata": {},
     "output_type": "execute_result"
    }
   ],
   "source": [
    "getRecommendations(critics,'Toby', sim_distance)"
   ]
  },
  {
   "cell_type": "markdown",
   "metadata": {},
   "source": [
    "## Сходство предметов\n",
    "\n",
    "Как заменить\n",
    "\n",
    "{'Lisa Rose': {'Lady in the Water': 2.5, 'Snakes on a Plane': 3.5},\n",
    "'Gene Seymour': {'Lady in the Water': 3.0, 'Snakes on a Plane': 3.5}}\n",
    "\n",
    "на\n",
    "\n",
    "{'Lady in the Water':{'Lisa Rose':2.5,'Gene Seymour':3.0},\n",
    "'Snakes on a Plane':{'Lisa Rose':3.5,'Gene Seymour':3.5}}?\n"
   ]
  },
  {
   "cell_type": "code",
   "execution_count": 16,
   "metadata": {
    "collapsed": false
   },
   "outputs": [],
   "source": [
    "def transformPrefs(prefs):\n",
    "    result={}\n",
    "    for person in prefs:\n",
    "        for item in prefs[person]:\n",
    "            result.setdefault(item,{})\n",
    "    # Обменять местами человека и предмет\n",
    "            result[item][person]=prefs[person][item]\n",
    "    return result"
   ]
  },
  {
   "cell_type": "code",
   "execution_count": 17,
   "metadata": {
    "collapsed": false
   },
   "outputs": [],
   "source": [
    "movies=transformPrefs(critics)\n"
   ]
  },
  {
   "cell_type": "code",
   "execution_count": 18,
   "metadata": {
    "collapsed": false
   },
   "outputs": [
    {
     "data": {
      "text/plain": [
       "{'Just My Luck': {'Claudia Puig': 3.0,\n",
       "  'Gene Seymour': 1.5,\n",
       "  'Lisa Rose': 3.0,\n",
       "  'Mick LaSalle': 2.0},\n",
       " 'Lady in the Water': {'Gene Seymour': 3.0,\n",
       "  'Jack Matthews': 3.0,\n",
       "  'Lisa Rose': 2.5,\n",
       "  'Michael Phillips': 2.5,\n",
       "  'Mick LaSalle': 3.0},\n",
       " 'Snakes on a Plane': {'Claudia Puig': 3.5,\n",
       "  'Gene Seymour': 3.5,\n",
       "  'Jack Matthews': 4.0,\n",
       "  'Lisa Rose': 3.5,\n",
       "  'Michael Phillips': 3.0,\n",
       "  'Mick LaSalle': 4.0,\n",
       "  'Toby': 4.5},\n",
       " 'Superman Returns': {'Claudia Puig': 4.0,\n",
       "  'Gene Seymour': 5.0,\n",
       "  'Jack Matthews': 5.0,\n",
       "  'Lisa Rose': 3.5,\n",
       "  'Michael Phillips': 3.5,\n",
       "  'Mick LaSalle': 3.0,\n",
       "  'Toby': 4.0},\n",
       " 'The Night Listener': {'Claudia Puig': 4.5,\n",
       "  'Gene Seymour': 3.0,\n",
       "  'Jack Matthews': 3.0,\n",
       "  'Lisa Rose': 3.0,\n",
       "  'Michael Phillips': 4.0,\n",
       "  'Mick LaSalle': 3.0},\n",
       " 'You, Me and Dupree': {'Claudia Puig': 2.5,\n",
       "  'Gene Seymour': 3.5,\n",
       "  'Jack Matthews': 3.5,\n",
       "  'Lisa Rose': 2.5,\n",
       "  'Mick LaSalle': 2.0,\n",
       "  'Toby': 1.0}}"
      ]
     },
     "execution_count": 18,
     "metadata": {},
     "output_type": "execute_result"
    }
   ],
   "source": [
    "movies"
   ]
  },
  {
   "cell_type": "code",
   "execution_count": 19,
   "metadata": {
    "collapsed": false
   },
   "outputs": [
    {
     "data": {
      "text/plain": [
       "[(0.6579516949597695, 'You, Me and Dupree'),\n",
       " (0.4879500364742689, 'Lady in the Water'),\n",
       " (0.11180339887498941, 'Snakes on a Plane'),\n",
       " (-0.1798471947990544, 'The Night Listener'),\n",
       " (-0.42289003161103106, 'Just My Luck')]"
      ]
     },
     "execution_count": 19,
     "metadata": {},
     "output_type": "execute_result"
    }
   ],
   "source": [
    "topMatches(movies,'Superman Returns')"
   ]
  },
  {
   "cell_type": "code",
   "execution_count": 20,
   "metadata": {
    "collapsed": false
   },
   "outputs": [
    {
     "data": {
      "text/plain": [
       "[(4.0, 'Michael Phillips'), (3.0, 'Jack Matthews')]"
      ]
     },
     "execution_count": 20,
     "metadata": {},
     "output_type": "execute_result"
    }
   ],
   "source": [
    "getRecommendations(movies,'Just My Luck')"
   ]
  },
  {
   "cell_type": "markdown",
   "metadata": {},
   "source": [
    "## Коллаборативная фильтрация по сходству объектов (Item-based collaborative filtering)"
   ]
  },
  {
   "cell_type": "code",
   "execution_count": 21,
   "metadata": {
    "collapsed": false
   },
   "outputs": [],
   "source": [
    "def calculateSimilarItems(prefs,n=10, verbose = True):\n",
    "    # Создать словарь, содержащий для каждого образца те образцы, которые\n",
    "    # больше всего похожи на него.\n",
    "    result={}\n",
    "    # Обратить матрицу предпочтений, чтобы строки соответствовали образцам\n",
    "    itemPrefs=transformPrefs(prefs)\n",
    "    c=0\n",
    "    for item in itemPrefs:\n",
    "    # Обновление состояния для больших наборов данных\n",
    "        c+=1\n",
    "        if verbose:\n",
    "            if c%100==0: print \"%d / %d\" % (c,len(itemPrefs))\n",
    "    # Найти образцы, максимально похожие на данный\n",
    "        scores=topMatches(itemPrefs,item,n=n,similarity=sim_distance)\n",
    "        result[item]=scores\n",
    "    return result"
   ]
  },
  {
   "cell_type": "code",
   "execution_count": 22,
   "metadata": {
    "collapsed": false
   },
   "outputs": [
    {
     "data": {
      "text/plain": [
       "{'Just My Luck': [(0.2222222222222222, 'Lady in the Water'),\n",
       "  (0.18181818181818182, 'You, Me and Dupree'),\n",
       "  (0.15384615384615385, 'The Night Listener'),\n",
       "  (0.10526315789473684, 'Snakes on a Plane'),\n",
       "  (0.06451612903225806, 'Superman Returns')],\n",
       " 'Lady in the Water': [(0.4, 'You, Me and Dupree'),\n",
       "  (0.2857142857142857, 'The Night Listener'),\n",
       "  (0.2222222222222222, 'Snakes on a Plane'),\n",
       "  (0.2222222222222222, 'Just My Luck'),\n",
       "  (0.09090909090909091, 'Superman Returns')],\n",
       " 'Snakes on a Plane': [(0.2222222222222222, 'Lady in the Water'),\n",
       "  (0.18181818181818182, 'The Night Listener'),\n",
       "  (0.16666666666666666, 'Superman Returns'),\n",
       "  (0.10526315789473684, 'Just My Luck'),\n",
       "  (0.05128205128205128, 'You, Me and Dupree')],\n",
       " 'Superman Returns': [(0.16666666666666666, 'Snakes on a Plane'),\n",
       "  (0.10256410256410256, 'The Night Listener'),\n",
       "  (0.09090909090909091, 'Lady in the Water'),\n",
       "  (0.06451612903225806, 'Just My Luck'),\n",
       "  (0.05333333333333334, 'You, Me and Dupree')],\n",
       " 'The Night Listener': [(0.2857142857142857, 'Lady in the Water'),\n",
       "  (0.18181818181818182, 'Snakes on a Plane'),\n",
       "  (0.15384615384615385, 'Just My Luck'),\n",
       "  (0.14814814814814814, 'You, Me and Dupree'),\n",
       "  (0.10256410256410256, 'Superman Returns')],\n",
       " 'You, Me and Dupree': [(0.4, 'Lady in the Water'),\n",
       "  (0.18181818181818182, 'Just My Luck'),\n",
       "  (0.14814814814814814, 'The Night Listener'),\n",
       "  (0.05333333333333334, 'Superman Returns'),\n",
       "  (0.05128205128205128, 'Snakes on a Plane')]}"
      ]
     },
     "execution_count": 22,
     "metadata": {},
     "output_type": "execute_result"
    }
   ],
   "source": [
    "itemsim=calculateSimilarItems(critics)\n",
    "itemsim"
   ]
  },
  {
   "cell_type": "code",
   "execution_count": 23,
   "metadata": {
    "collapsed": false
   },
   "outputs": [],
   "source": [
    "def getRecommendedItems(prefs,itemMatch,user):\n",
    "    userRatings=prefs[user]\n",
    "    scores={}\n",
    "    totalSim={}\n",
    "\n",
    "    # Цикл по образцам, оцененным данным пользователем\n",
    "    for (item,rating) in userRatings.items():\n",
    "        \n",
    "    # Цикл по образцам, похожим на данный\n",
    "        for (similarity,item2) in itemMatch[item]:\n",
    "    # Пропускаем, если пользователь уже оценивал данный образец\n",
    "            if item2 in userRatings: continue\n",
    "        # Взвешенная суммы оценок, умноженных на коэффициент подобия\n",
    "            scores.setdefault(item2,0)\n",
    "            scores[item2]+=similarity*rating\n",
    "        # Сумма всех коэффициентов подобия\n",
    "            totalSim.setdefault(item2,0)\n",
    "            totalSim[item2]+=similarity\n",
    "            if totalSim[item2]==0: totalSim[item2]=0.0000001 # чтобы избежать деления на ноль\n",
    "    # Делим каждую итоговую оценку на взвешенную сумму, чтобы вычислить\n",
    "    # среднее\n",
    "    rankings=[(score/totalSim[item],item) for item,score in scores.items( ) ]\n",
    "\n",
    "    # Возвращает список rankings, отсортированный по убыванию\n",
    "    rankings.sort( )\n",
    "    rankings.reverse( )\n",
    "    return rankings"
   ]
  },
  {
   "cell_type": "code",
   "execution_count": 24,
   "metadata": {
    "collapsed": false
   },
   "outputs": [
    {
     "data": {
      "text/plain": [
       "[(3.182634730538922, 'The Night Listener'),\n",
       " (2.5983318700614575, 'Just My Luck'),\n",
       " (2.4730878186968837, 'Lady in the Water')]"
      ]
     },
     "execution_count": 24,
     "metadata": {},
     "output_type": "execute_result"
    }
   ],
   "source": [
    "getRecommendedItems(critics,itemsim,'Toby')\n"
   ]
  },
  {
   "cell_type": "markdown",
   "metadata": {},
   "source": [
    "## Рекомендация на данных MovieLens\n",
    "\n",
    "Источник: http://grouplens.org/datasets/movielens/"
   ]
  },
  {
   "cell_type": "code",
   "execution_count": 25,
   "metadata": {
    "collapsed": true
   },
   "outputs": [],
   "source": [
    "def loadMovieLens(path='data/movielens'):\n",
    "# Получить названия фильмов\n",
    "    movies={}\n",
    "    for line in open(path+'/u.item'):\n",
    "        (id,title)=line.split('|')[0:2]\n",
    "        movies[id]=title\n",
    "# Загрузить данные\n",
    "    prefs={}\n",
    "    for line in open(path+'/u.data'):\n",
    "        (user,movieid,rating,ts)=line.split('\\t')\n",
    "        prefs.setdefault(user,{})\n",
    "        prefs[user][movies[movieid]]=float(rating)\n",
    "    return prefs"
   ]
  },
  {
   "cell_type": "code",
   "execution_count": 26,
   "metadata": {
    "collapsed": false
   },
   "outputs": [
    {
     "data": {
      "text/plain": [
       "{'2001: A Space Odyssey (1968)': 5.0,\n",
       " 'Ace Ventura: Pet Detective (1994)': 4.0,\n",
       " 'Addams Family Values (1993)': 2.0,\n",
       " 'Addicted to Love (1997)': 4.0,\n",
       " 'Adventures of Priscilla, Queen of the Desert, The (1994)': 3.0,\n",
       " 'Adventures of Robin Hood, The (1938)': 5.0,\n",
       " 'Air Force One (1997)': 3.0,\n",
       " 'Air Up There, The (1994)': 3.0,\n",
       " 'Alien (1979)': 4.0,\n",
       " 'American President, The (1995)': 5.0,\n",
       " 'Annie Hall (1977)': 4.0,\n",
       " 'Apocalypse Now (1979)': 4.0,\n",
       " 'Babe (1995)': 5.0,\n",
       " 'Baby-Sitters Club, The (1995)': 2.0,\n",
       " 'Back to the Future (1985)': 5.0,\n",
       " 'Bad Boys (1995)': 4.0,\n",
       " 'Bananas (1971)': 5.0,\n",
       " 'Barcelona (1994)': 3.0,\n",
       " 'Batman & Robin (1997)': 4.0,\n",
       " 'Batman (1989)': 3.0,\n",
       " 'Batman Returns (1992)': 3.0,\n",
       " 'Big Green, The (1995)': 3.0,\n",
       " 'Big Squeeze, The (1996)': 2.0,\n",
       " 'Birdcage, The (1996)': 4.0,\n",
       " 'Blade Runner (1982)': 4.0,\n",
       " 'Blues Brothers, The (1980)': 5.0,\n",
       " 'Boomerang (1992)': 3.0,\n",
       " 'Boot, Das (1981)': 4.0,\n",
       " 'Brady Bunch Movie, The (1995)': 2.0,\n",
       " 'Braveheart (1995)': 4.0,\n",
       " 'Bridge on the River Kwai, The (1957)': 5.0,\n",
       " 'Broken Arrow (1996)': 3.0,\n",
       " 'Butch Cassidy and the Sundance Kid (1969)': 5.0,\n",
       " 'Citizen Kane (1941)': 4.0,\n",
       " \"City Slickers II: The Legend of Curly's Gold (1994)\": 3.0,\n",
       " 'Clear and Present Danger (1994)': 5.0,\n",
       " 'Cliffhanger (1993)': 3.0,\n",
       " 'Clockwork Orange, A (1971)': 4.0,\n",
       " 'Clueless (1995)': 4.0,\n",
       " 'Con Air (1997)': 4.0,\n",
       " 'Conan the Barbarian (1981)': 3.0,\n",
       " 'Coneheads (1993)': 4.0,\n",
       " 'Cool Hand Luke (1967)': 5.0,\n",
       " 'Cops and Robbersons (1994)': 3.0,\n",
       " 'Cowboy Way, The (1994)': 3.0,\n",
       " 'Crow, The (1994)': 3.0,\n",
       " 'Dances with Wolves (1990)': 5.0,\n",
       " \"Dante's Peak (1997)\": 3.0,\n",
       " 'Dave (1993)': 4.0,\n",
       " 'Days of Thunder (1990)': 5.0,\n",
       " 'Dead Man Walking (1995)': 4.0,\n",
       " 'Dead Poets Society (1989)': 5.0,\n",
       " 'Deer Hunter, The (1978)': 3.0,\n",
       " 'Demolition Man (1993)': 3.0,\n",
       " 'Desperado (1995)': 3.0,\n",
       " 'Die Hard (1988)': 4.0,\n",
       " 'Die Hard: With a Vengeance (1995)': 4.0,\n",
       " 'Down Periscope (1996)': 4.0,\n",
       " 'Dragonheart (1996)': 4.0,\n",
       " 'Dumb & Dumber (1994)': 4.0,\n",
       " 'Dunston Checks In (1996)': 1.0,\n",
       " 'E.T. the Extra-Terrestrial (1982)': 3.0,\n",
       " 'Ed Wood (1994)': 3.0,\n",
       " 'Empire Strikes Back, The (1980)': 5.0,\n",
       " 'Endless Summer 2, The (1994)': 3.0,\n",
       " 'Evil Dead II (1987)': 2.0,\n",
       " 'Executive Decision (1996)': 3.0,\n",
       " 'Fargo (1996)': 5.0,\n",
       " 'First Wives Club, The (1996)': 2.0,\n",
       " 'Fish Called Wanda, A (1988)': 5.0,\n",
       " 'Forget Paris (1995)': 4.0,\n",
       " 'Four Weddings and a Funeral (1994)': 5.0,\n",
       " 'French Kiss (1995)': 5.0,\n",
       " 'Fugitive, The (1993)': 5.0,\n",
       " 'Full Metal Jacket (1987)': 4.0,\n",
       " 'Get Shorty (1995)': 5.0,\n",
       " 'Glory (1989)': 4.0,\n",
       " 'Godfather, The (1972)': 4.0,\n",
       " 'GoldenEye (1995)': 4.0,\n",
       " 'Good, The Bad and The Ugly, The (1966)': 5.0,\n",
       " 'GoodFellas (1990)': 4.0,\n",
       " 'Grease (1978)': 4.0,\n",
       " 'Great White Hype, The (1996)': 3.0,\n",
       " 'Groundhog Day (1993)': 5.0,\n",
       " 'Grumpier Old Men (1995)': 4.0,\n",
       " 'Hard Target (1993)': 4.0,\n",
       " 'Heat (1995)': 3.0,\n",
       " 'Heathers (1989)': 3.0,\n",
       " 'Home Alone (1990)': 4.0,\n",
       " 'Hoop Dreams (1994)': 4.0,\n",
       " 'Hot Shots! Part Deux (1993)': 4.0,\n",
       " 'House Arrest (1996)': 3.0,\n",
       " 'I Love Trouble (1994)': 3.0,\n",
       " 'I.Q. (1994)': 5.0,\n",
       " 'In the Army Now (1994)': 4.0,\n",
       " 'In the Line of Fire (1993)': 5.0,\n",
       " 'Independence Day (ID4) (1996)': 5.0,\n",
       " 'Indiana Jones and the Last Crusade (1989)': 5.0,\n",
       " 'Inkwell, The (1994)': 3.0,\n",
       " \"It's a Wonderful Life (1946)\": 5.0,\n",
       " 'Jack (1996)': 3.0,\n",
       " 'Jeffrey (1995)': 3.0,\n",
       " 'Jimmy Hollywood (1994)': 3.0,\n",
       " \"Joe's Apartment (1996)\": 2.0,\n",
       " 'Junior (1994)': 4.0,\n",
       " 'Jurassic Park (1993)': 5.0,\n",
       " 'Kingpin (1996)': 4.0,\n",
       " 'Lightning Jack (1994)': 3.0,\n",
       " 'Lost World: Jurassic Park, The (1997)': 3.0,\n",
       " 'Low Down Dirty Shame, A (1994)': 3.0,\n",
       " 'M*A*S*H (1970)': 5.0,\n",
       " 'Magnificent Seven, The (1954)': 5.0,\n",
       " 'Major Payne (1994)': 3.0,\n",
       " 'Man of the House (1995)': 3.0,\n",
       " 'Manchurian Candidate, The (1962)': 4.0,\n",
       " 'Mars Attacks! (1996)': 3.0,\n",
       " 'Mask, The (1994)': 3.0,\n",
       " 'Matilda (1996)': 3.0,\n",
       " 'Maverick (1994)': 3.0,\n",
       " 'Michael (1996)': 4.0,\n",
       " 'Mighty Aphrodite (1995)': 3.0,\n",
       " 'Milk Money (1994)': 4.0,\n",
       " 'Mission: Impossible (1996)': 4.0,\n",
       " \"Monty Python's Life of Brian (1979)\": 4.0,\n",
       " 'Mother (1996)': 2.0,\n",
       " 'Mrs. Doubtfire (1993)': 4.0,\n",
       " 'Multiplicity (1996)': 3.0,\n",
       " 'Muppet Treasure Island (1996)': 3.0,\n",
       " 'My Favorite Year (1982)': 3.0,\n",
       " 'Naked Gun 33 1/3: The Final Insult (1994)': 4.0,\n",
       " 'Net, The (1995)': 5.0,\n",
       " 'Nine Months (1995)': 4.0,\n",
       " 'Nutty Professor, The (1996)': 4.0,\n",
       " 'Platoon (1986)': 3.0,\n",
       " 'Prefontaine (1997)': 5.0,\n",
       " 'Private Benjamin (1980)': 4.0,\n",
       " 'Professional, The (1994)': 4.0,\n",
       " 'Program, The (1993)': 3.0,\n",
       " 'Pulp Fiction (1994)': 4.0,\n",
       " \"Pyromaniac's Love Story, A (1995)\": 3.0,\n",
       " 'Quiet Man, The (1952)': 5.0,\n",
       " 'Raging Bull (1980)': 3.0,\n",
       " 'Raiders of the Lost Ark (1981)': 5.0,\n",
       " 'Raising Arizona (1987)': 3.0,\n",
       " 'Reality Bites (1994)': 3.0,\n",
       " 'Renaissance Man (1994)': 5.0,\n",
       " 'Return of the Jedi (1983)': 5.0,\n",
       " 'Return of the Pink Panther, The (1974)': 4.0,\n",
       " 'River Wild, The (1994)': 4.0,\n",
       " 'Sabrina (1995)': 4.0,\n",
       " 'Santa Clause, The (1994)': 4.0,\n",
       " \"Schindler's List (1993)\": 4.0,\n",
       " 'Searching for Bobby Fischer (1993)': 4.0,\n",
       " 'Serial Mom (1994)': 1.0,\n",
       " 'Shadow, The (1994)': 3.0,\n",
       " 'Shawshank Redemption, The (1994)': 5.0,\n",
       " \"Singin' in the Rain (1952)\": 4.0,\n",
       " 'Sleeper (1973)': 4.0,\n",
       " 'Sleepers (1996)': 4.0,\n",
       " 'Sleepless in Seattle (1993)': 5.0,\n",
       " 'Sneakers (1992)': 4.0,\n",
       " 'So I Married an Axe Murderer (1993)': 2.0,\n",
       " 'Something to Talk About (1995)': 2.0,\n",
       " 'Son in Law (1993)': 4.0,\n",
       " 'Speechless (1994)': 4.0,\n",
       " 'Speed (1994)': 5.0,\n",
       " 'Speed 2: Cruise Control (1997)': 3.0,\n",
       " 'Star Trek III: The Search for Spock (1984)': 4.0,\n",
       " 'Star Trek IV: The Voyage Home (1986)': 5.0,\n",
       " 'Star Trek: First Contact (1996)': 4.0,\n",
       " 'Star Trek: The Motion Picture (1979)': 3.0,\n",
       " 'Star Trek: The Wrath of Khan (1982)': 5.0,\n",
       " 'Star Wars (1977)': 5.0,\n",
       " 'Stargate (1994)': 5.0,\n",
       " 'Sting, The (1973)': 5.0,\n",
       " 'Strange Days (1995)': 3.0,\n",
       " 'Strictly Ballroom (1992)': 3.0,\n",
       " 'Striptease (1996)': 2.0,\n",
       " 'Supercop (1992)': 3.0,\n",
       " 'Swimming with Sharks (1995)': 3.0,\n",
       " 'Switchblade Sisters (1975)': 2.0,\n",
       " 'Terminator 2: Judgment Day (1991)': 5.0,\n",
       " 'Terminator, The (1984)': 5.0,\n",
       " 'That Old Feeling (1997)': 4.0,\n",
       " 'That Thing You Do! (1996)': 4.0,\n",
       " 'This Is Spinal Tap (1984)': 5.0,\n",
       " 'To Die For (1995)': 3.0,\n",
       " 'To Kill a Mockingbird (1962)': 4.0,\n",
       " 'To Wong Foo, Thanks for Everything! Julie Newmar (1995)': 3.0,\n",
       " 'Tommy Boy (1995)': 4.0,\n",
       " 'Top Gun (1986)': 5.0,\n",
       " 'Treasure of the Sierra Madre, The (1948)': 4.0,\n",
       " 'True Lies (1994)': 5.0,\n",
       " 'Truth About Cats & Dogs, The (1996)': 4.0,\n",
       " 'Twelve Monkeys (1995)': 4.0,\n",
       " 'Twister (1996)': 4.0,\n",
       " \"Ulee's Gold (1997)\": 3.0,\n",
       " 'Under Siege (1992)': 4.0,\n",
       " 'Up in Smoke (1978)': 3.0,\n",
       " 'Vegas Vacation (1997)': 4.0,\n",
       " 'Victor/Victoria (1982)': 4.0,\n",
       " 'Waterworld (1995)': 4.0,\n",
       " \"Weekend at Bernie's (1989)\": 3.0,\n",
       " 'When Harry Met Sally... (1989)': 5.0,\n",
       " 'While You Were Sleeping (1995)': 5.0,\n",
       " 'Wizard of Oz, The (1939)': 5.0,\n",
       " 'Wyatt Earp (1994)': 3.0,\n",
       " 'Young Frankenstein (1974)': 5.0,\n",
       " 'Young Guns (1988)': 3.0,\n",
       " 'Young Guns II (1990)': 2.0}"
      ]
     },
     "execution_count": 26,
     "metadata": {},
     "output_type": "execute_result"
    }
   ],
   "source": [
    "prefs=loadMovieLens( )\n",
    "prefs['87']"
   ]
  },
  {
   "cell_type": "code",
   "execution_count": 27,
   "metadata": {
    "collapsed": false
   },
   "outputs": [
    {
     "data": {
      "text/plain": [
       "[(5.0, 'They Made Me a Criminal (1939)'),\n",
       " (5.0, 'Star Kid (1997)'),\n",
       " (5.0, 'Santa with Muscles (1996)'),\n",
       " (5.0, 'Saint of Fort Washington, The (1993)'),\n",
       " (5.0, 'Marlene Dietrich: Shadow and Light (1996) '),\n",
       " (5.0, 'Great Day in Harlem, A (1994)'),\n",
       " (5.0, 'Entertaining Angels: The Dorothy Day Story (1996)'),\n",
       " (5.0, 'Boys, Les (1997)'),\n",
       " (4.89884443128923, 'Legal Deceit (1997)'),\n",
       " (4.815019082242709, 'Letter From Death Row, A (1998)'),\n",
       " (4.7321082983941425, 'Hearts and Minds (1996)'),\n",
       " (4.696244466490867, 'Pather Panchali (1955)'),\n",
       " (4.652397061026758, 'Lamerica (1994)'),\n",
       " (4.538723693474813, 'Leading Man, The (1996)'),\n",
       " (4.535081339106103, 'Mrs. Dalloway (1997)'),\n",
       " (4.532337612572981, 'Innocents, The (1961)'),\n",
       " (4.527998574747079, 'Casablanca (1942)'),\n",
       " (4.510270149719864, 'Everest (1998)'),\n",
       " (4.493967755428439, 'Dangerous Beauty (1998)'),\n",
       " (4.485151301801342, 'Wallace & Gromit: The Best of Aardman Animation (1996)'),\n",
       " (4.463287461290222, 'Wrong Trousers, The (1993)'),\n",
       " (4.450979436941035, 'Kaspar Hauser (1993)'),\n",
       " (4.431079071179518, 'Usual Suspects, The (1995)'),\n",
       " (4.427520682864959, 'Maya Lin: A Strong Clear Vision (1994)'),\n",
       " (4.414870784592075, 'Wedding Gift, The (1994)'),\n",
       " (4.377445252656464, 'Affair to Remember, An (1957)'),\n",
       " (4.376071110447771, 'Good Will Hunting (1997)'),\n",
       " (4.376011099001396, 'As Good As It Gets (1997)'),\n",
       " (4.374146179500976, 'Anna (1996)'),\n",
       " (4.367437266504598, 'Close Shave, A (1995)')]"
      ]
     },
     "execution_count": 27,
     "metadata": {},
     "output_type": "execute_result"
    }
   ],
   "source": [
    "getRecommendations(prefs,'87')[0:30]"
   ]
  },
  {
   "cell_type": "code",
   "execution_count": 28,
   "metadata": {
    "collapsed": false
   },
   "outputs": [
    {
     "name": "stdout",
     "output_type": "stream",
     "text": [
      "100 / 1664\n",
      "200 / 1664\n",
      "300 / 1664\n",
      "400 / 1664\n",
      "500 / 1664\n",
      "600 / 1664\n",
      "700 / 1664\n",
      "800 / 1664\n",
      "900 / 1664\n",
      "1000 / 1664\n",
      "1100 / 1664\n",
      "1200 / 1664\n",
      "1300 / 1664\n",
      "1400 / 1664\n",
      "1500 / 1664\n",
      "1600 / 1664\n"
     ]
    }
   ],
   "source": [
    "itemsim=calculateSimilarItems(prefs,n=50)"
   ]
  },
  {
   "cell_type": "code",
   "execution_count": 29,
   "metadata": {
    "collapsed": false
   },
   "outputs": [
    {
     "data": {
      "text/plain": [
       "[(5.0, \"What's Eating Gilbert Grape (1993)\"),\n",
       " (5.0, 'Vertigo (1958)'),\n",
       " (5.0, 'Usual Suspects, The (1995)'),\n",
       " (5.0, 'Toy Story (1995)'),\n",
       " (5.0, 'Titanic (1997)'),\n",
       " (5.0, 'Sword in the Stone, The (1963)'),\n",
       " (5.0, 'Stand by Me (1986)'),\n",
       " (5.0, 'Sling Blade (1996)'),\n",
       " (5.0, 'Silence of the Lambs, The (1991)'),\n",
       " (5.0, 'Shining, The (1980)'),\n",
       " (5.0, 'Shine (1996)'),\n",
       " (5.0, 'Sense and Sensibility (1995)'),\n",
       " (5.0, 'Scream (1996)'),\n",
       " (5.0, 'Rumble in the Bronx (1995)'),\n",
       " (5.0, 'Rock, The (1996)'),\n",
       " (5.0, 'Robin Hood: Prince of Thieves (1991)'),\n",
       " (5.0, 'Reservoir Dogs (1992)'),\n",
       " (5.0, 'Police Story 4: Project S (Chao ji ji hua) (1993)'),\n",
       " (5.0, 'House of the Spirits, The (1993)'),\n",
       " (5.0, 'Fresh (1994)'),\n",
       " (5.0, 'Denise Calls Up (1995)'),\n",
       " (5.0, 'Day the Sun Turned Cold, The (Tianguo niezi) (1994)'),\n",
       " (5.0, 'Before the Rain (Pred dozhdot) (1994)'),\n",
       " (5.0, 'Assignment, The (1997)'),\n",
       " (5.0, '1-900 (1994)'),\n",
       " (4.875, \"Ed's Next Move (1996)\"),\n",
       " (4.833333333333333, 'Anna (1996)'),\n",
       " (4.8, 'Dark City (1998)'),\n",
       " (4.75, 'Flower of My Secret, The (Flor de mi secreto, La) (1995)'),\n",
       " (4.75, 'Broken English (1996)')]"
      ]
     },
     "execution_count": 29,
     "metadata": {},
     "output_type": "execute_result"
    }
   ],
   "source": [
    "getRecommendedItems(prefs,itemsim,'87')[0:30]"
   ]
  },
  {
   "cell_type": "markdown",
   "metadata": {},
   "source": [
    "# Задание 1. Сравнение методов коллаборативной фильтрации по сходству пользователей и по сходству объектов\n",
    "\n",
    "\n",
    "1. Требуется реализовать вычисление ошибки [MAE](http://www.recsyswiki.com/wiki/Mean_absolute_error) и [RMSE](http://www.recsyswiki.com/wiki/Root_mean_square_error-mean-square_deviation) на тестовых данных [Movie Lens](http://grouplens.org/datasets/movielens/).  \n",
    "В качестве данных обучения можно использовать файлы с расширением base, а тестирование качества провести на файле test: пары файлов u1.base и u1.test, ..., u5.base и u5.test. Каждая пара -- это разбиение 80%/20%  данных для всех пользователей $u$ на обучащие и тестовые данные.\n",
    "2. Для каждого метода (user-based и item-based) постройте графики зависимости [MAE](http://www.recsyswiki.com/wiki/Mean_absolute_error) и [RMSE](http://www.recsyswiki.com/wiki/Root_mean_square_error-mean-square_deviation) от числа соседей (диапазон от 1 до 100 с разумным шагом).\n",
    "3. Если качество предсказаний слишком низкое (MAE>2,0), то попробуйте формулы 2.6 и 2.7 из обзора http://files.grouplens.org/papers/FnT%20CF%20Recsys%20Survey.pdf.\n",
    "Можно использовать альтернативные формулы для исходной модели $r_{u,i} = k\\sum\\limits_{u^\\prime \\in U}\\operatorname{sim}(u,u^\\prime)r_{u^\\prime, i} \\mbox{ (случай user-based модели):}$\n",
    "$$r_{u,i} = \\frac{1}{N}\\sum\\limits_{u^\\prime \\in U}r_{u^\\prime, i}$$\n",
    "$$r_{u,i} = \\bar{r_u} +  k\\sum\\limits_{u^\\prime \\in U} sim(u,u^\\prime)(r_{u^\\prime, i}-\\bar{r_{u^\\prime}} ) \\mbox{, где } k =1/\\sum_{u^\\prime \\in U}|\\operatorname{sim}(u,u^\\prime)|.$$\n",
    "4. Сравните подходы на основе полученных результатов по аналогии с пунктами 1 и 2. \n",
    "5. Как изменяется величина MAE (RMSE) от числа выдаваемых рекомендаций (top-n): $n \\in \\{1,3,5,10,15,20,30,40,50,100\\}$? \n",
    "6. Как Вы считаете, какие фильмы чаще рекомендуются -- популярные с высокими оценками или редкие (те, которые редко оцениваются) с высокими оценками?\n",
    "7. Что делать, если соседей (то есть похожих на целевого пользователя или конкретный товар) мало? Нужно/можно ли как-то учитывать достоверность таких рекомендаций? \n",
    "8. *Необязательное подзадание.* Насколько различны списки из top-n рекомендаций. Попробуйте улучшить результаты подбором $\\beta$ для минимизации MAE (RMSE) в гибридных рекомендациях в зависимости от числа соседей:\n",
    "$$\\beta\\cdot r^{user-based}_{ui} + (1-\\beta)\\cdot r^{item-based}_{ui}, \\mbox{ где } 0 \\leq \\beta \\leq 1.$$ \n",
    "\n"
   ]
  },
  {
   "cell_type": "code",
   "execution_count": 30,
   "metadata": {
    "collapsed": true
   },
   "outputs": [],
   "source": [
    "##\n",
    "## Load test and train sets for MovieLens_db\n",
    "##\n",
    "\n",
    "def loadMovieLens_train_test(path='data/movielens', k = 1):\n",
    "    \n",
    "# Получить названия фильмов\n",
    "    movies={}\n",
    "    for line in open(path+'/u.item'):\n",
    "        (id,title)=line.split('|')[0:2]\n",
    "        movies[id]=title\n",
    "# Загрузить данные\n",
    "    prefs_train={}\n",
    "    prefs_test={}\n",
    "    \n",
    "    print (path+'/u' + str(k) + '.base')\n",
    "    for line in open(path+'/u' + str(k) + '.base'):\n",
    "        (user,movieid,rating,ts)=line.split('\\t')\n",
    "        prefs_train.setdefault(user,{})\n",
    "        prefs_train[user][movies[movieid]]=float(rating)\n",
    "        \n",
    "    print (path+'/u' + str(k) + '.test')\n",
    "    for line in open(path+'/u' + str(k) + '.test'):\n",
    "        (user,movieid,rating,ts)=line.split('\\t')\n",
    "        prefs_test.setdefault(user,{})\n",
    "        prefs_test[user][movies[movieid]]=float(rating)                \n",
    "                \n",
    "    return prefs_train, prefs_test"
   ]
  },
  {
   "cell_type": "code",
   "execution_count": 31,
   "metadata": {
    "collapsed": false
   },
   "outputs": [
    {
     "name": "stdout",
     "output_type": "stream",
     "text": [
      "data/movielens/u3.base\n",
      "data/movielens/u3.test\n"
     ]
    }
   ],
   "source": [
    "prefs_train, prefs_test = loadMovieLens_train_test(k=3)"
   ]
  },
  {
   "cell_type": "code",
   "execution_count": 32,
   "metadata": {
    "collapsed": false
   },
   "outputs": [
    {
     "name": "stdout",
     "output_type": "stream",
     "text": [
      "943\n",
      "869\n"
     ]
    }
   ],
   "source": [
    "print (len(prefs_train.keys()))\n",
    "print (len(prefs_test.keys()))"
   ]
  },
  {
   "cell_type": "code",
   "execution_count": 33,
   "metadata": {
    "collapsed": true
   },
   "outputs": [],
   "source": [
    "##\n",
    "##   Get recommendations for test users - only recommendations on films that they've ranked \n",
    "##\n",
    "\n",
    "def getRecommended_Item_based(prefs_test, prefs_train, itemMatch,user):\n",
    "    \n",
    "    userRatings_test  = prefs_test[user]\n",
    "    userRatings_train = prefs_train[user]\n",
    "    scores = {}\n",
    "    totalSim={}\n",
    "\n",
    "    # Цикл по образцам, оцененным данным пользователем\n",
    "    for (item,rating) in userRatings_train.items():\n",
    "        \n",
    "        if item not in itemMatch: continue\n",
    "            \n",
    "        # Цикл по образцам, похожим на данный\n",
    "        for (similarity,item2) in itemMatch[item]:\n",
    "            \n",
    "        # Пропускаем, если пользователь не оценивал данный образец в тестовой выборке\n",
    "        \n",
    "            if item2 not in userRatings_test: continue\n",
    "        # Взвешенная суммы оценок, умноженных на коэффициент подобия\n",
    "            scores.setdefault(item2,0)\n",
    "            scores[item2]+=similarity*rating\n",
    "        # Сумма всех коэффициентов подобия\n",
    "            totalSim.setdefault(item2,0)\n",
    "            totalSim[item2]+=similarity\n",
    "            if totalSim[item2]==0: totalSim[item2]=0.0000001 # чтобы избежать деления на ноль\n",
    "    # Делим каждую итоговую оценку на взвешенную сумму, чтобы вычислить\n",
    "    # среднее\n",
    "    rankings=[(score/totalSim[item],item) for item,score in scores.items( ) ]\n",
    "\n",
    "    # Возвращает список rankings, отсортированный по убыванию\n",
    "    rankings.sort( )\n",
    "    rankings.reverse( )\n",
    "    return rankings"
   ]
  },
  {
   "cell_type": "code",
   "execution_count": 34,
   "metadata": {
    "collapsed": false
   },
   "outputs": [],
   "source": [
    "###\n",
    "###  User based recommendations\n",
    "###\n",
    "\n",
    "def getRecommended_User_based (prefs_test, prefs_train, item_sim, user):\n",
    "    \n",
    "    prefs_top_matches = item_sim[user]\n",
    "    totals={}\n",
    "    simSums={}\n",
    "    \n",
    "    for (sim, other) in prefs_top_matches:\n",
    "    # сравнивать меня с собой же не нужно\n",
    "        if other == user: continue\n",
    "\n",
    "    # игнорировать нулевые и отрицательные оценки\n",
    "        if sim<=0: continue\n",
    "        for item in prefs_train[other]:\n",
    "    # оценивать только фильмы, которые есть в тесте\n",
    "            if item in prefs_test[user]:\n",
    "    # Коэффициент подобия * Оценка\n",
    "                totals.setdefault(item,0)\n",
    "                totals[item] += prefs_train[other][item]*sim\n",
    "        # Сумма коэффициентов подобия\n",
    "                simSums.setdefault(item,0)\n",
    "                simSums[item] += sim\n",
    "                \n",
    "    # Создать нормированный список\n",
    "    rankings=[(total/simSums[item],item) for item,total in totals.items( )]\n",
    "    # Вернуть отсортированный список\n",
    "    rankings.sort( )\n",
    "    rankings.reverse( )\n",
    "    return rankings"
   ]
  },
  {
   "cell_type": "code",
   "execution_count": 35,
   "metadata": {
    "collapsed": true
   },
   "outputs": [],
   "source": [
    "## error score function:\n",
    "## pow_val = 1 - MAE\n",
    "## pow_val = 2 - RMSE\n",
    "\n",
    "def Error_score (user_recommendations, user_true_scores, pow_val = 1):\n",
    "    \n",
    "    mae_value    = 0\n",
    "    counter_val  = 0\n",
    "    for film_score_iter in user_recommendations:\n",
    "        film_name = film_score_iter[1]\n",
    "        film_score = film_score_iter[0]\n",
    "        \n",
    "        if film_name in user_true_scores:\n",
    "            mae_value += abs(film_score - user_true_scores[film_name]) **pow_val\n",
    "            counter_val += 1\n",
    "        ##print (film_name, film_score_iter[0], user_true_scores[film_name])\n",
    "    \n",
    "    return [counter_val, mae_value]"
   ]
  },
  {
   "cell_type": "code",
   "execution_count": 36,
   "metadata": {
    "collapsed": false
   },
   "outputs": [],
   "source": [
    "## Calculate sum of error score\n",
    "##\n",
    "\n",
    "def get_error_score_for_test_data (prefs_test, prefs_train, itemsim = {}, \n",
    "                                   recom_type = \"item-based\", n_neighb = 5,  pow_val = 1, n_reco = 0):\n",
    "    err_score_total = 0\n",
    "    counter_total = 0\n",
    "\n",
    "    for user_id in prefs_test.keys():\n",
    "        ##print (user_id)\n",
    "        user_recommendations =  []\n",
    "        if recom_type == \"item-based\":\n",
    "            user_recommendations = getRecommended_Item_based (prefs_test, prefs_train, itemsim, user_id)\n",
    "            \n",
    "        elif recom_type == \"user-based\":\n",
    "            user_recommendations = getRecommended_User_based (prefs_test, prefs_train, itemsim, user_id)\n",
    "        \n",
    "        elif recom_type == \"user-based2\":\n",
    "            ## with user mean substraction\n",
    "            user_recommendations = getRecommended_User_based_v2 (prefs_test, prefs_train, itemsim, user_id)\n",
    "\n",
    "        elif recom_type == \"user-based3\":\n",
    "            ## with user mean substraction\n",
    "            user_recommendations = getRecommended_User_based_v3 (prefs_test, prefs_train, itemsim, user_id)\n",
    "            \n",
    "        else:\n",
    "            print ('\"recom_type\" not found')\n",
    "            break\n",
    "        \n",
    "        \n",
    "        if n_reco>0:\n",
    "            user_recommendations = user_recommendations[0:n_reco] \n",
    "        \n",
    "        ## print (user_recommendations[0:10])\n",
    "        counter_user, score_user = Error_score (user_recommendations, prefs_test[user_id], pow_val = pow_val)\n",
    "        err_score_total += score_user\n",
    "        counter_total += counter_user\n",
    "        ## print (user_recommendations)\n",
    "        \n",
    "        ## print (user_id)\n",
    "        ## print (score_user)\n",
    "    \n",
    "    if (counter_total == 0): counter_total = 0.0001\n",
    "    ## print (counter_total)    \n",
    "    \n",
    "    \n",
    "    err_score_total = err_score_total/counter_total\n",
    "    if pow_val == 2:\n",
    "        err_score_total = math.sqrt(err_score_total)\n",
    "    \n",
    "    return err_score_total"
   ]
  },
  {
   "cell_type": "code",
   "execution_count": 37,
   "metadata": {
    "collapsed": false
   },
   "outputs": [
    {
     "name": "stdout",
     "output_type": "stream",
     "text": [
      "100 / 1634\n",
      "200 / 1634\n",
      "300 / 1634\n",
      "400 / 1634\n",
      "500 / 1634\n",
      "600 / 1634\n",
      "700 / 1634\n",
      "800 / 1634\n",
      "900 / 1634\n",
      "1000 / 1634\n",
      "1100 / 1634\n",
      "1200 / 1634\n",
      "1300 / 1634\n",
      "1400 / 1634\n",
      "1500 / 1634\n",
      "1600 / 1634\n",
      "(1.1834073831552823, 1.5779550501084765)\n"
     ]
    }
   ],
   "source": [
    "##\n",
    "##  Get item-based recommendations errors\n",
    "##\n",
    "\n",
    "n_neighb_val = 1\n",
    "itemsim=calculateSimilarItems(prefs_train, n = n_neighb_val, verbose = True)\n",
    "mae_error_val = get_error_score_for_test_data (prefs_test, prefs_train,  itemsim = itemsim, n_neighb = n_neighb_val, recom_type = \"item-based\", pow_val = 1)\n",
    "rmse_error_val = get_error_score_for_test_data (prefs_test, prefs_train, itemsim = itemsim, n_neighb = n_neighb_val, recom_type = \"item-based\", pow_val = 2)\n",
    "\n",
    "print (mae_error_val, rmse_error_val)"
   ]
  },
  {
   "cell_type": "code",
   "execution_count": 38,
   "metadata": {
    "collapsed": false,
    "scrolled": true
   },
   "outputs": [
    {
     "name": "stdout",
     "output_type": "stream",
     "text": [
      "[  1   5  10  15  20  25  30  35  40  45  50  55  60  65  70  75  80  85\n",
      "  90  95 100]\n"
     ]
    }
   ],
   "source": [
    "## create iteration list for number of neigbours\n",
    "##\n",
    "\n",
    "np_arr = np.arange(5,101,5)\n",
    "np_arr = np.concatenate([np.array([1]),np_arr])\n",
    "print (np_arr)\n"
   ]
  },
  {
   "cell_type": "code",
   "execution_count": 39,
   "metadata": {
    "collapsed": false
   },
   "outputs": [
    {
     "name": "stdout",
     "output_type": "stream",
     "text": [
      "('Number of neighbours: ', 1)\n",
      "(1.1834073831552823, 1.5779550501084765)\n",
      "('Number of neighbours: ', 5)\n",
      "(1.150383927489475, 1.5091736340707136)\n",
      "('Number of neighbours: ', 10)\n",
      "(1.1290321094204092, 1.4795130409456059)\n",
      "('Number of neighbours: ', 15)\n",
      "(1.0996235866885324, 1.4353830126602236)\n",
      "('Number of neighbours: ', 20)\n",
      "(1.075851074683617, 1.414227021256659)\n",
      "('Number of neighbours: ', 25)\n",
      "(1.078064309392916, 1.4162216447690368)\n",
      "('Number of neighbours: ', 30)\n",
      "(1.063875318932803, 1.401499231772736)\n",
      "('Number of neighbours: ', 35)\n",
      "(1.0495215504897015, 1.3814185258269174)\n",
      "('Number of neighbours: ', 40)\n",
      "(1.0531158931630005, 1.3896663977421313)\n",
      "('Number of neighbours: ', 45)\n",
      "(1.0547651754137664, 1.3887041187301925)\n",
      "('Number of neighbours: ', 50)\n",
      "(1.04341401576094, 1.3777025528327773)\n",
      "('Number of neighbours: ', 55)\n",
      "(1.0425486340705583, 1.3735384844340535)\n",
      "('Number of neighbours: ', 60)\n",
      "(1.0422008752075747, 1.3711265465548692)\n",
      "('Number of neighbours: ', 65)\n",
      "(1.040399074448417, 1.366326244119988)\n",
      "('Number of neighbours: ', 70)\n",
      "(1.0442365952984212, 1.3698413133921852)\n",
      "('Number of neighbours: ', 75)\n",
      "(1.0399429148663104, 1.3663761656387257)\n",
      "('Number of neighbours: ', 80)\n",
      "(1.038247587661176, 1.3656523124619144)\n",
      "('Number of neighbours: ', 85)\n",
      "(1.0341514751448464, 1.3611729497587333)\n",
      "('Number of neighbours: ', 90)\n",
      "(1.034908863955758, 1.3602439725424271)\n",
      "('Number of neighbours: ', 95)\n",
      "(1.035016144230985, 1.3560830476653256)\n",
      "('Number of neighbours: ', 100)\n",
      "(1.0323663660493194, 1.3561826234934449)\n"
     ]
    }
   ],
   "source": [
    "##\n",
    "##  Get item-based recommendations errors\n",
    "##\n",
    "\n",
    "mae_array = []\n",
    "rmse_array = []\n",
    "\n",
    "for neighb_val in np_arr:\n",
    "    print (\"Number of neighbours: \", neighb_val)\n",
    "    itemsim=calculateSimilarItems(prefs_train,n=neighb_val, verbose = False)\n",
    "    mae_error_val = get_error_score_for_test_data (prefs_test, prefs_train, itemsim = itemsim, pow_val = 1)\n",
    "    rmse_error_val = get_error_score_for_test_data (prefs_test, prefs_train, itemsim = itemsim, pow_val = 2)\n",
    "    print (mae_error_val, rmse_error_val)\n",
    "    mae_array +=[mae_error_val]\n",
    "    rmse_array +=[rmse_error_val]\n",
    "    "
   ]
  },
  {
   "cell_type": "code",
   "execution_count": 40,
   "metadata": {
    "collapsed": false
   },
   "outputs": [
    {
     "data": {
      "image/png": "[encoded data removed]",
      "text/plain": [
       "<matplotlib.figure.Figure at 0x1158b7b90>"
      ]
     },
     "metadata": {},
     "output_type": "display_data"
    }
   ],
   "source": [
    "##\n",
    "##  Graph item based recommendations errors\n",
    "##\n",
    "\n",
    "plt.plot(np_arr, mae_array, label='MAE')\n",
    "plt.plot(np_arr, rmse_array, label = 'RMSE')\n",
    "\n",
    "plt.legend()\n",
    "plt.ylabel('error val')\n",
    "plt.xlabel('number of neigbours')\n",
    "\n",
    "plt.show()"
   ]
  },
  {
   "cell_type": "code",
   "execution_count": 41,
   "metadata": {
    "collapsed": false,
    "scrolled": true
   },
   "outputs": [
    {
     "data": {
      "text/plain": [
       "array([[  1.        ,   1.18340738],\n",
       "       [  5.        ,   1.15038393],\n",
       "       [ 10.        ,   1.12903211],\n",
       "       [ 15.        ,   1.09962359],\n",
       "       [ 20.        ,   1.07585107],\n",
       "       [ 25.        ,   1.07806431],\n",
       "       [ 30.        ,   1.06387532],\n",
       "       [ 35.        ,   1.04952155],\n",
       "       [ 40.        ,   1.05311589],\n",
       "       [ 45.        ,   1.05476518]])"
      ]
     },
     "execution_count": 41,
     "metadata": {},
     "output_type": "execute_result"
    }
   ],
   "source": [
    "## Item based filtering have minimum on 30 neighbours\n",
    "\n",
    "np.column_stack ([np_arr,mae_array])[0:10]"
   ]
  },
  {
   "cell_type": "code",
   "execution_count": 42,
   "metadata": {
    "collapsed": false
   },
   "outputs": [],
   "source": [
    "def calculateSimilarUsers(prefs_train, prefs_test, n = 40, similarity=sim_pearson, verbose = True):\n",
    "    # Создать словарь, содержащий для каждого образца те образцы, которые\n",
    "    # больше всего похожи на него.\n",
    "    result={}\n",
    "    c=0\n",
    "\n",
    "    for user in prefs_test.keys():\n",
    "        c+=1\n",
    "        if verbose:\n",
    "            if c%100==0: print \"%d / %d\" % (c,len(prefs_test.keys()))\n",
    "                \n",
    "        matches = topMatches (prefs_train, user, n=n, similarity=sim_pearson)\n",
    "        result.setdefault(user,[])\n",
    "        result [user] = matches\n",
    "    return result\n",
    "\n"
   ]
  },
  {
   "cell_type": "code",
   "execution_count": 43,
   "metadata": {
    "collapsed": false
   },
   "outputs": [
    {
     "name": "stdout",
     "output_type": "stream",
     "text": [
      "('Number of neighbours: ', 1)\n",
      "(1.1139630390143738, 1.4581780987096427)\n",
      "('Number of neighbours: ', 5)\n",
      "(1.070338882937175, 1.3913393200476403)\n",
      "('Number of neighbours: ', 10)\n",
      "(1.0351232453057773, 1.3460348551437828)\n",
      "('Number of neighbours: ', 15)\n",
      "(1.0212361245943915, 1.3308384065857712)\n",
      "('Number of neighbours: ', 20)\n",
      "(0.9941357796864864, 1.296996449262244)\n",
      "('Number of neighbours: ', 25)\n",
      "(0.9829414081067129, 1.2824042448560082)\n",
      "('Number of neighbours: ', 30)\n",
      "(0.9680824506983491, 1.2634397401365238)\n",
      "('Number of neighbours: ', 35)\n",
      "(0.9611271342629553, 1.2532468573855247)\n",
      "('Number of neighbours: ', 40)\n",
      "(0.9467473146031321, 1.23818461568183)\n",
      "('Number of neighbours: ', 45)\n",
      "(0.9355611337104225, 1.2210466508729751)\n",
      "('Number of neighbours: ', 50)\n",
      "(0.9300202011488066, 1.2095076532849376)\n",
      "('Number of neighbours: ', 55)\n",
      "(0.917953330721559, 1.1924860435545355)\n",
      "('Number of neighbours: ', 60)\n",
      "(0.9110005681475773, 1.1831046458906906)\n",
      "('Number of neighbours: ', 65)\n",
      "(0.9054906104051773, 1.174492984862275)\n",
      "('Number of neighbours: ', 70)\n",
      "(0.9013408256848153, 1.1663877818963404)\n",
      "('Number of neighbours: ', 75)\n",
      "(0.8955667940722616, 1.1577556311264068)\n",
      "('Number of neighbours: ', 80)\n",
      "(0.88562594678588, 1.1447718653585903)\n",
      "('Number of neighbours: ', 85)\n",
      "(0.8811094038470978, 1.1389538513511033)\n",
      "('Number of neighbours: ', 90)\n",
      "(0.8767510448616278, 1.131457069115451)\n",
      "('Number of neighbours: ', 95)\n",
      "(0.8710182903140229, 1.123384109240543)\n",
      "('Number of neighbours: ', 100)\n",
      "(0.861013777425351, 1.1111580484537267)\n"
     ]
    }
   ],
   "source": [
    "##  User based recommendations\n",
    "##\n",
    "\n",
    "mae_array = []\n",
    "rmse_array = []\n",
    "\n",
    "for neighb_val in np_arr:\n",
    "    \n",
    "    print (\"Number of neighbours: \", neighb_val)\n",
    "    item_sim = calculateSimilarUsers (prefs_train, prefs_test, n = neighb_val, verbose = False)\n",
    "    mae_error_val  = get_error_score_for_test_data (prefs_test, prefs_train,  itemsim = item_sim, n_neighb = neighb_val, recom_type = \"user-based\", pow_val = 1)\n",
    "    rmse_error_val = get_error_score_for_test_data (prefs_test, prefs_train,  itemsim = item_sim, n_neighb = neighb_val, recom_type = \"user-based\", pow_val = 2)\n",
    "    print (mae_error_val, rmse_error_val)\n",
    "    mae_array +=[mae_error_val]\n",
    "    rmse_array +=[rmse_error_val]\n",
    "    "
   ]
  },
  {
   "cell_type": "code",
   "execution_count": 44,
   "metadata": {
    "collapsed": false
   },
   "outputs": [
    {
     "data": {
      "image/png": "[encoded data removed]",
      "text/plain": [
       "<matplotlib.figure.Figure at 0x1063384d0>"
      ]
     },
     "metadata": {},
     "output_type": "display_data"
    }
   ],
   "source": [
    "##\n",
    "##  Graph user based recommendations errors\n",
    "##\n",
    "\n",
    "plt.plot(np_arr, mae_array, label='MAE')\n",
    "plt.plot(np_arr, rmse_array, label = 'RMSE')\n",
    "\n",
    "plt.legend()\n",
    "plt.ylabel('error val')\n",
    "plt.xlabel('number of neigbours')\n",
    "\n",
    "plt.show()"
   ]
  },
  {
   "cell_type": "code",
   "execution_count": 45,
   "metadata": {
    "collapsed": false
   },
   "outputs": [
    {
     "data": {
      "text/plain": [
       "array([[  1.        ,   1.11396304],\n",
       "       [  5.        ,   1.07033888],\n",
       "       [ 10.        ,   1.03512325],\n",
       "       [ 15.        ,   1.02123612],\n",
       "       [ 20.        ,   0.99413578],\n",
       "       [ 25.        ,   0.98294141],\n",
       "       [ 30.        ,   0.96808245],\n",
       "       [ 35.        ,   0.96112713],\n",
       "       [ 40.        ,   0.94674731],\n",
       "       [ 45.        ,   0.93556113]])"
      ]
     },
     "execution_count": 45,
     "metadata": {},
     "output_type": "execute_result"
    }
   ],
   "source": [
    "## Минимум продолжает уменьшаться при увеличении количества пользователей.\n",
    "\n",
    "np.column_stack ([np_arr,mae_array])[0:10]"
   ]
  },
  {
   "cell_type": "markdown",
   "metadata": {},
   "source": [
    "3. Если качество предсказаний слишком низкое (MAE>2,0), то попробуйте формулы 2.6 и 2.7 из обзора http://files.grouplens.org/papers/FnT%20CF%20Recsys%20Survey.pdf.\n",
    "Можно использовать альтернативные формулы для исходной модели $r_{u,i} = k\\sum\\limits_{u^\\prime \\in U}\\operatorname{sim}(u,u^\\prime)r_{u^\\prime, i} \\mbox{ (случай user-based модели):}$\n",
    "$$r_{u,i} = \\frac{1}{N}\\sum\\limits_{u^\\prime \\in U}r_{u^\\prime, i}$$\n",
    "$$r_{u,i} = \\bar{r_u} +  k\\sum\\limits_{u^\\prime \\in U} sim(u,u^\\prime)(r_{u^\\prime, i}-\\bar{r_{u^\\prime}} ) \\mbox{, где } k =1/\\sum_{u^\\prime \\in U}|\\operatorname{sim}(u,u^\\prime)|.$$"
   ]
  },
  {
   "cell_type": "code",
   "execution_count": 46,
   "metadata": {
    "collapsed": true
   },
   "outputs": [],
   "source": [
    "###\n",
    "###  User based recommendations\n",
    "###\n",
    "\n",
    "## with mean substraction\n",
    "\n",
    "def getRecommended_User_based_v2 (prefs_test, prefs_train, item_sim, user):\n",
    "    \n",
    "    prefs_top_matches = item_sim[user]\n",
    "    totals={}\n",
    "    simSums={}\n",
    "    \n",
    "    mean_user = sum(prefs_train[user][item] for item in prefs_train[user])/len(prefs_train[user])\n",
    "    \n",
    "    \n",
    "    for (sim, other) in prefs_top_matches:\n",
    "    # сравнивать меня с собой же не нужно\n",
    "        if other == user: continue\n",
    "        mean_other = sum(prefs_train[other][item] for item in prefs_train[other])/len(prefs_train[other])\n",
    "        \n",
    "    # игнорировать нулевые и отрицательные оценки\n",
    "        if sim<=0: continue\n",
    "        for item in prefs_train[other]:\n",
    "    # оценивать только фильмы, которые есть в тесте\n",
    "            if item in prefs_test[user]:\n",
    "    # Коэффициент подобия * Оценка\n",
    "                totals.setdefault(item,0)\n",
    "                totals[item] += (prefs_train[other][item] - mean_other) *sim\n",
    "        # Сумма коэффициентов подобия\n",
    "                simSums.setdefault(item,0)\n",
    "                simSums[item] += sim\n",
    "                \n",
    "\n",
    "                \n",
    "    # Создать нормированный список\n",
    "    rankings=[(mean_user + total/simSums[item],item) for item,total in totals.items( )]\n",
    "    # Вернуть отсортированный список\n",
    "    rankings.sort( )\n",
    "    rankings.reverse( )\n",
    "    return rankings"
   ]
  },
  {
   "cell_type": "code",
   "execution_count": 47,
   "metadata": {
    "collapsed": false
   },
   "outputs": [],
   "source": [
    "item_sim = calculateSimilarUsers (prefs_train, prefs_test, n = 30, verbose = False)\n"
   ]
  },
  {
   "cell_type": "code",
   "execution_count": 48,
   "metadata": {
    "collapsed": false
   },
   "outputs": [
    {
     "name": "stdout",
     "output_type": "stream",
     "text": [
      "old recommendation list:\n",
      "[(4.513167019494862, 'Secrets & Lies (1996)'), (4.510333259442322, 'Clueless (1995)'), (4.39329978324303, 'Godfather, The (1972)'), (4.30056337382839, 'Tomorrow Never Dies (1997)'), (4.244776452610301, 'Full Monty, The (1997)'), (4.16271173892865, \"Ulee's Gold (1997)\"), (4.0, 'Mighty Aphrodite (1995)'), (4.0, 'Heat (1995)'), (3.973849333685201, 'Leaving Las Vegas (1995)'), (3.9207896100569415, 'Wings of the Dove, The (1997)'), (3.690711997094568, 'Silence of the Lambs, The (1991)'), (3.0, 'Wrong Trousers, The (1993)'), (3.0, 'First Wives Club, The (1996)'), (3.0, 'Aladdin (1992)')]\n",
      "\n",
      "\n",
      "new recommendation list:\n",
      "[(4.629305258575195, 'Godfather, The (1972)'), (4.46342812163157, 'Secrets & Lies (1996)'), (4.416972192942474, \"Ulee's Gold (1997)\"), (4.413432395363291, 'Clueless (1995)'), (4.391707234977075, 'Full Monty, The (1997)'), (4.388154257552725, 'Tomorrow Never Dies (1997)'), (4.289499171405507, 'Wings of the Dove, The (1997)'), (4.193392477414005, 'Silence of the Lambs, The (1991)'), (4.173283575973565, 'Leaving Las Vegas (1995)'), (3.745873874665813, 'Mighty Aphrodite (1995)'), (3.4276315789473686, 'Heat (1995)'), (3.106203007518797, 'Wrong Trousers, The (1993)'), (3.0776315789473685, 'Aladdin (1992)'), (2.730263157894737, 'First Wives Club, The (1996)')]\n"
     ]
    }
   ],
   "source": [
    "print (\"old recommendation list:\")\n",
    "print (getRecommended_User_based (prefs_test, prefs_train, item_sim, '344'))\n",
    "\n",
    "print (\"\\n\")\n",
    "print (\"new recommendation list:\")\n",
    "print (getRecommended_User_based_v2 (prefs_test, prefs_train, item_sim, '344'))"
   ]
  },
  {
   "cell_type": "code",
   "execution_count": 49,
   "metadata": {
    "collapsed": false
   },
   "outputs": [
    {
     "name": "stdout",
     "output_type": "stream",
     "text": [
      "('Number of neighbours: ', 1)\n",
      "(1.1048103811817984, 1.4128340998041455)\n",
      "('Number of neighbours: ', 5)\n",
      "(1.0597483495228304, 1.353555271313155)\n",
      "('Number of neighbours: ', 10)\n",
      "(1.0233788223979357, 1.3082965495636922)\n",
      "('Number of neighbours: ', 15)\n",
      "(1.005834836938332, 1.288255011466573)\n",
      "('Number of neighbours: ', 20)\n",
      "(0.9744212535343494, 1.249603843828416)\n",
      "('Number of neighbours: ', 25)\n",
      "(0.9626122539415799, 1.2338437899609844)\n",
      "('Number of neighbours: ', 30)\n",
      "(0.948646692216957, 1.2144420810195284)\n",
      "('Number of neighbours: ', 35)\n",
      "(0.9414603519897505, 1.206892772289036)\n",
      "('Number of neighbours: ', 40)\n",
      "(0.9289377066760013, 1.194592129220388)\n",
      "('Number of neighbours: ', 45)\n",
      "(0.9156148192528134, 1.1769691344290412)\n",
      "('Number of neighbours: ', 50)\n",
      "(0.9065442806398335, 1.1640551056034218)\n",
      "('Number of neighbours: ', 55)\n",
      "(0.8943733776745365, 1.1483281468297768)\n",
      "('Number of neighbours: ', 60)\n",
      "(0.886618848060713, 1.1384707171035062)\n",
      "('Number of neighbours: ', 65)\n",
      "(0.8792661709951153, 1.1295762506742804)\n",
      "('Number of neighbours: ', 70)\n",
      "(0.8742165031274598, 1.1212264418028275)\n",
      "('Number of neighbours: ', 75)\n",
      "(0.864515819612174, 1.1083329190141404)\n",
      "('Number of neighbours: ', 80)\n",
      "(0.8560462428836737, 1.097371331173645)\n",
      "('Number of neighbours: ', 85)\n",
      "(0.8503315506958243, 1.0900255983063665)\n",
      "('Number of neighbours: ', 90)\n",
      "(0.8435961995135735, 1.0805051586728518)\n",
      "('Number of neighbours: ', 95)\n",
      "(0.8345112076585632, 1.0705503097932365)\n",
      "('Number of neighbours: ', 100)\n",
      "(0.8243988864852083, 1.0579155170209111)\n"
     ]
    }
   ],
   "source": [
    "##  User based recommendations\n",
    "##\n",
    "\n",
    "##  with mean substraction\n",
    "##\n",
    "\n",
    "mae_array = []\n",
    "rmse_array = []\n",
    "\n",
    "for neighb_val in np_arr:\n",
    "    \n",
    "    print (\"Number of neighbours: \", neighb_val)\n",
    "    item_sim = calculateSimilarUsers (prefs_train, prefs_test, n = neighb_val, verbose = False)\n",
    "    mae_error_val  = get_error_score_for_test_data (prefs_test, prefs_train,  itemsim = item_sim, n_neighb = neighb_val, recom_type = \"user-based2\", pow_val = 1)\n",
    "    rmse_error_val = get_error_score_for_test_data (prefs_test, prefs_train,  itemsim = item_sim, n_neighb = neighb_val, recom_type = \"user-based2\", pow_val = 2)\n",
    "    print (mae_error_val, rmse_error_val)\n",
    "    mae_array +=[mae_error_val]\n",
    "    rmse_array +=[rmse_error_val]"
   ]
  },
  {
   "cell_type": "code",
   "execution_count": 50,
   "metadata": {
    "collapsed": false
   },
   "outputs": [
    {
     "data": {
      "image/png": "[encoded data removed]",
      "text/plain": [
       "<matplotlib.figure.Figure at 0x115f22d10>"
      ]
     },
     "metadata": {},
     "output_type": "display_data"
    }
   ],
   "source": [
    "##\n",
    "##  Graph user based recommendations errors with mean substracted\n",
    "##\n",
    "\n",
    "plt.plot(np_arr, mae_array, label='MAE')\n",
    "plt.plot(np_arr, rmse_array, label = 'RMSE')\n",
    "\n",
    "plt.legend()\n",
    "plt.ylabel('error val')\n",
    "plt.xlabel('number of neigbours')\n",
    "\n",
    "plt.show()"
   ]
  },
  {
   "cell_type": "code",
   "execution_count": 51,
   "metadata": {
    "collapsed": false
   },
   "outputs": [],
   "source": [
    "###\n",
    "###  User based recommendations\n",
    "###\n",
    "\n",
    "##  with mean and std substraction\n",
    "##\n",
    "\n",
    "def getRecommended_User_based_v3 (prefs_test, prefs_train, item_sim, user):\n",
    "    \n",
    "    prefs_top_matches = item_sim[user]\n",
    "    totals={}\n",
    "    simSums={}\n",
    "    \n",
    "    mean_user = sum(prefs_train[user][item] for item in prefs_train[user])/len(prefs_train[user])\n",
    "    std_user  = np.std(list(prefs_train[user][item] for item in prefs_train[user]))\n",
    "    \n",
    "    for (sim, other) in prefs_top_matches:\n",
    "    # сравнивать меня с собой же не нужно\n",
    "        if other == user: continue\n",
    "        mean_other = sum(prefs_train[other][item] for item in prefs_train[other])/len(prefs_train[other])\n",
    "        std_other  = np.std(list(prefs_train[other][item] for item in prefs_train[other]))\n",
    "                           \n",
    "    # игнорировать нулевые и отрицательные оценки\n",
    "        if sim<=0: continue\n",
    "        for item in prefs_train[other]:\n",
    "    # оценивать только фильмы, которые есть в тесте\n",
    "            if item in prefs_test[user]:\n",
    "    # Коэффициент подобия * Оценка\n",
    "                totals.setdefault(item,0)\n",
    "                totals[item] += (prefs_train[other][item] - mean_other) *sim / std_other\n",
    "        # Сумма коэффициентов подобия\n",
    "                simSums.setdefault(item,0)\n",
    "                simSums[item] += sim\n",
    "                \n",
    "\n",
    "                \n",
    "    # Создать нормированный список\n",
    "    rankings=[(mean_user + std_user * total/simSums[item],item) for item,total in totals.items( )]\n",
    "    # Вернуть отсортированный список\n",
    "    rankings.sort( )\n",
    "    rankings.reverse( )\n",
    "    return rankings"
   ]
  },
  {
   "cell_type": "code",
   "execution_count": 52,
   "metadata": {
    "collapsed": false
   },
   "outputs": [
    {
     "name": "stdout",
     "output_type": "stream",
     "text": [
      "old recommendation list:\n",
      "[(5.0, 'Beautiful Thing (1996)'), (4.552004480775902, 'Local Hero (1983)'), (4.482393162712514, 'Godfather, The (1972)'), (4.354656753935738, 'Secrets & Lies (1996)'), (4.28628478179148, 'Strictly Ballroom (1992)'), (4.192336245439397, 'Philadelphia Story, The (1940)'), (4.138206746680092, 'Full Monty, The (1997)'), (4.13250921706428, 'Remains of the Day, The (1993)'), (4.08168348309007, 'Silence of the Lambs, The (1991)'), (4.009339232524528, 'Lion King, The (1994)'), (4.0, 'Persuasion (1995)'), (3.944860537495577, 'Wings of the Dove, The (1997)'), (3.9318231529209036, 'Leaving Las Vegas (1995)'), (3.868875935471928, \"Ulee's Gold (1997)\"), (3.844333059148385, 'Mighty Aphrodite (1995)'), (3.8352370234569495, 'Get Shorty (1995)'), (3.5796017574932044, 'Unforgiven (1992)'), (3.5399598892880633, 'Seven (Se7en) (1995)'), (3.5133884217515052, 'His Girl Friday (1940)'), (3.5129924428235286, 'Brothers McMullen, The (1995)'), (3.4720312596111307, 'Tomorrow Never Dies (1997)'), (3.365228334004978, 'Heat (1995)'), (3.3448132429589275, 'Terminator 2: Judgment Day (1991)'), (3.343286652543617, 'Clueless (1995)'), (3.2854021740060504, 'Wrong Trousers, The (1993)'), (3.248609701779783, 'Othello (1995)'), (3.1482699677585835, 'Twister (1996)'), (3.094173000527302, 'Ransom (1996)'), (3.0, 'Female Perversions (1996)'), (2.926286895017758, 'River Wild, The (1994)'), (2.839954429299015, 'Mars Attacks! (1996)'), (2.521650553930222, 'Craft, The (1996)'), (2.4741313724481833, 'My Fellow Americans (1996)'), (2.4002746425611714, 'Aladdin (1992)'), (2.3875838015612247, 'Cable Guy, The (1996)'), (2.3428070274066597, 'First Wives Club, The (1996)'), (1.0, 'Quick and the Dead, The (1995)')]\n",
      "\n",
      "\n",
      "new recommendation list:\n",
      "[(4.6841250079206205, 'Godfather, The (1972)'), (4.4225984216363159, 'Lion King, The (1994)'), (4.4188576012130714, 'Secrets & Lies (1996)'), (4.4103355369192778, 'Beautiful Thing (1996)'), (4.38109393463745, 'Silence of the Lambs, The (1991)'), (4.3377856479449139, 'Full Monty, The (1997)'), (4.2983732418790348, 'Local Hero (1983)'), (4.2485866698504635, 'Strictly Ballroom (1992)'), (4.1511305113170796, 'Philadelphia Story, The (1940)'), (4.0985311421365589, 'Remains of the Day, The (1993)'), (4.0797057141165487, 'Wings of the Dove, The (1997)'), (3.9930903047948689, 'Leaving Las Vegas (1995)'), (3.9709883131119463, 'Female Perversions (1996)'), (3.9644837673727582, 'Mighty Aphrodite (1995)'), (3.956038340113758, 'Get Shorty (1995)'), (3.9524559483295447, \"Ulee's Gold (1997)\"), (3.7316406300737492, 'Othello (1995)'), (3.6837980815896674, 'Seven (Se7en) (1995)'), (3.6193894050234272, 'Unforgiven (1992)'), (3.569870494657005, 'Twister (1996)'), (3.543485603672325, 'Persuasion (1995)'), (3.4919264601985063, 'Wrong Trousers, The (1993)'), (3.4775691964775599, 'Clueless (1995)'), (3.4650721806950142, 'Tomorrow Never Dies (1997)'), (3.4346292065580877, 'Terminator 2: Judgment Day (1991)'), (3.4331013824826435, 'Heat (1995)'), (3.3554394111849897, 'His Girl Friday (1940)'), (3.2633514127480221, 'River Wild, The (1994)'), (3.176365863689405, 'Brothers McMullen, The (1995)'), (3.1381169232394637, 'Cable Guy, The (1996)'), (3.1157148651779001, 'Ransom (1996)'), (3.1022427891238076, 'Mars Attacks! (1996)'), (2.9795235227483765, 'Craft, The (1996)'), (2.8999745417559875, 'My Fellow Americans (1996)'), (2.8168907699927033, 'First Wives Club, The (1996)'), (2.8150772846754943, 'Aladdin (1992)'), (1.8481319943510075, 'Quick and the Dead, The (1995)')]\n"
     ]
    }
   ],
   "source": [
    "print (\"old recommendation list:\")\n",
    "print (getRecommended_User_based (prefs_test, prefs_train, item_sim, '344'))\n",
    "\n",
    "print (\"\\n\")\n",
    "print (\"new recommendation list:\")\n",
    "print (getRecommended_User_based_v3 (prefs_test, prefs_train, item_sim, '344'))"
   ]
  },
  {
   "cell_type": "code",
   "execution_count": 117,
   "metadata": {
    "collapsed": false
   },
   "outputs": [
    {
     "name": "stdout",
     "output_type": "stream",
     "text": [
      "('Number of neighbours: ', 1)\n",
      "(1.0846672949716039, 1.4078007050856596)\n",
      "('Number of neighbours: ', 5)\n",
      "(1.0355053629341651, 1.3390703363357486)\n",
      "('Number of neighbours: ', 10)\n",
      "(1.0033147636610391, 1.2988316155205542)\n",
      "('Number of neighbours: ', 15)\n",
      "(0.98681788603139475, 1.2770799043383154)\n",
      "('Number of neighbours: ', 20)\n",
      "(0.95799892220847971, 1.2420786244293998)\n",
      "('Number of neighbours: ', 25)\n",
      "(0.94620064724520103, 1.224847276436161)\n",
      "('Number of neighbours: ', 30)\n",
      "(0.93570775045240329, 1.208820761785288)\n",
      "('Number of neighbours: ', 35)\n",
      "(0.93004070263048577, 1.2015586533076275)\n",
      "('Number of neighbours: ', 40)\n",
      "(0.91793844903560351, 1.188851121241454)\n",
      "('Number of neighbours: ', 45)\n",
      "(0.90484079584964239, 1.1706895104167974)\n",
      "('Number of neighbours: ', 50)\n",
      "(0.89648800013448182, 1.1584720571637082)\n",
      "('Number of neighbours: ', 55)\n",
      "(0.88456029893592913, 1.1441464301577418)\n",
      "('Number of neighbours: ', 60)\n",
      "(0.87569996179706588, 1.1313628912580385)\n",
      "('Number of neighbours: ', 65)\n",
      "(0.87104900130414797, 1.1253959887424296)\n",
      "('Number of neighbours: ', 70)\n",
      "(0.86574409989924361, 1.116914659899652)\n",
      "('Number of neighbours: ', 75)\n",
      "(0.85767343254060202, 1.1043857129042443)\n",
      "('Number of neighbours: ', 80)\n",
      "(0.84868490535808316, 1.0924841565497234)\n",
      "('Number of neighbours: ', 85)\n",
      "(0.84303404733597198, 1.0860706830202775)\n",
      "('Number of neighbours: ', 90)\n",
      "(0.83692299525167257, 1.0780338996886525)\n",
      "('Number of neighbours: ', 95)\n",
      "(0.82749090444810758, 1.0673307022547505)\n",
      "('Number of neighbours: ', 100)\n",
      "(0.81766900093396533, 1.0543104092030624)\n"
     ]
    }
   ],
   "source": [
    "##  User based recommendations\n",
    "##\n",
    "\n",
    "##  with mean and std substraction\n",
    "##\n",
    "\n",
    "mae_array = []\n",
    "rmse_array = []\n",
    "\n",
    "for neighb_val in np_arr:\n",
    "    \n",
    "    print (\"Number of neighbours: \", neighb_val)\n",
    "    item_sim = calculateSimilarUsers (prefs_train, prefs_test, n = neighb_val, verbose = False)\n",
    "    mae_error_val  = get_error_score_for_test_data (prefs_test, prefs_train,  itemsim = item_sim, n_neighb = neighb_val, recom_type = \"user-based3\", pow_val = 1)\n",
    "    rmse_error_val = get_error_score_for_test_data (prefs_test, prefs_train,  itemsim = item_sim, n_neighb = neighb_val, recom_type = \"user-based3\", pow_val = 2)\n",
    "    print (mae_error_val, rmse_error_val)\n",
    "    mae_array +=[mae_error_val]\n",
    "    rmse_array +=[rmse_error_val]"
   ]
  },
  {
   "cell_type": "code",
   "execution_count": 118,
   "metadata": {
    "collapsed": false
   },
   "outputs": [
    {
     "data": {
      "image/png": "[encoded data removed]",
      "text/plain": [
       "<matplotlib.figure.Figure at 0x109236b90>"
      ]
     },
     "metadata": {},
     "output_type": "display_data"
    }
   ],
   "source": [
    "##\n",
    "##  Graph user based recommendations errors with mean substracted\n",
    "##\n",
    "\n",
    "plt.plot(np_arr, mae_array, label='MAE')\n",
    "plt.plot(np_arr, rmse_array, label = 'RMSE')\n",
    "\n",
    "plt.legend()\n",
    "plt.ylabel('error val')\n",
    "plt.xlabel('number of neigbours')\n",
    "\n",
    "plt.show()"
   ]
  },
  {
   "cell_type": "markdown",
   "metadata": {},
   "source": [
    "##### Сравните подходы на основе полученных результатов по аналогии с пунктами 1 и 2:\n",
    "\n",
    "формулы 2.6 и 2.7 дают лучшие результаты по сравнению с обычными формулами для user_based и item_based. Для 30 соседей видим улучшение с 0.982 (user-based) до 0.946 (user-based + mean + std)\n"
   ]
  },
  {
   "cell_type": "markdown",
   "metadata": {},
   "source": [
    "#####  Как изменяется величина MAE (RMSE) от числа выдаваемых рекомендаций (top-n): $n \\in \\{1,3,5,10,15,20,30,40,50,100\\}$? \n"
   ]
  },
  {
   "cell_type": "code",
   "execution_count": 55,
   "metadata": {
    "collapsed": true
   },
   "outputs": [],
   "source": [
    "n_reco_arr = [1,3,5,10,15,20,30,40,50,100]"
   ]
  },
  {
   "cell_type": "code",
   "execution_count": 56,
   "metadata": {
    "collapsed": false
   },
   "outputs": [
    {
     "name": "stdout",
     "output_type": "stream",
     "text": [
      "('Number of recommendations: ', 1)\n",
      "(0.98305074600815234, 1.2819546166183862)\n",
      "('Number of recommendations: ', 3)\n",
      "(0.92936360809444651, 1.216489046376814)\n",
      "('Number of recommendations: ', 5)\n",
      "(0.90570277971983126, 1.1794918349310322)\n",
      "('Number of recommendations: ', 10)\n",
      "(0.91406273309656161, 1.187176504437101)\n",
      "('Number of recommendations: ', 15)\n",
      "(0.91859956260127962, 1.1898045757416373)\n",
      "('Number of recommendations: ', 20)\n",
      "(0.92227730836538202, 1.1931044321894848)\n",
      "('Number of recommendations: ', 30)\n",
      "(0.92832146176630415, 1.198480869783702)\n",
      "('Number of recommendations: ', 40)\n",
      "(0.93234724049385365, 1.203952994392385)\n",
      "('Number of recommendations: ', 50)\n",
      "(0.93403106680682679, 1.2056484190525723)\n",
      "('Number of recommendations: ', 100)\n",
      "(0.93568972077222134, 1.2088337441802592)\n"
     ]
    }
   ],
   "source": [
    "mae_array = []\n",
    "rmse_array = []\n",
    "\n",
    "neighb_val = 30\n",
    "for n_reco_val in n_reco_arr:\n",
    "    \n",
    "    print (\"Number of recommendations: \", n_reco_val)\n",
    "    item_sim = calculateSimilarUsers (prefs_train, prefs_test, n = neighb_val, verbose = False)\n",
    "    mae_error_val  = get_error_score_for_test_data (prefs_test, prefs_train,  itemsim = item_sim, n_neighb = neighb_val, \n",
    "                                                    recom_type = \"user-based3\", pow_val = 1, n_reco = n_reco_val)\n",
    "    rmse_error_val = get_error_score_for_test_data (prefs_test, prefs_train,  itemsim = item_sim, n_neighb = neighb_val, \n",
    "                                                    recom_type = \"user-based3\", pow_val = 2, n_reco = n_reco_val)\n",
    "    print (mae_error_val, rmse_error_val)\n",
    "    mae_array +=[mae_error_val]\n",
    "    rmse_array +=[rmse_error_val]"
   ]
  },
  {
   "cell_type": "code",
   "execution_count": 57,
   "metadata": {
    "collapsed": false
   },
   "outputs": [
    {
     "data": {
      "image/png": "[encoded data removed]",
      "text/plain": [
       "<matplotlib.figure.Figure at 0x117a44cd0>"
      ]
     },
     "metadata": {},
     "output_type": "display_data"
    }
   ],
   "source": [
    "##\n",
    "##  Graph user based recommendations errors with mean substracted\n",
    "##\n",
    "\n",
    "plt.plot(n_reco_arr, mae_array, label='MAE')\n",
    "plt.plot(n_reco_arr, rmse_array, label = 'RMSE')\n",
    "\n",
    "plt.legend()\n",
    "plt.ylabel('error val')\n",
    "plt.xlabel('number of neigbours')\n",
    "\n",
    "plt.show()"
   ]
  },
  {
   "cell_type": "markdown",
   "metadata": {},
   "source": [
    "#####  Как Вы считаете, какие фильмы чаще рекомендуются -- популярные с высокими оценками или редкие (те, которые редко оцениваются) с высокими оценками?\n",
    "\n",
    "Чаще всего рекомедуют фильмы популярные с высокими оценками. Фильмы, для которых мало оценок не рекомендуют, потому что высока вероятность нерелевантности выдачи из-за недостоверности оценки.\n"
   ]
  },
  {
   "cell_type": "markdown",
   "metadata": {},
   "source": [
    "#####  Что делать, если соседей (то есть похожих на целевого пользователя или конкретный товар) мало? Нужно/можно ли как-то учитывать достоверность таких рекомендаций?\n",
    "\n",
    "Достоверность таких рекомендаций должна ставиться под вопрос. Из-за недостаточности данных оценки нельзя считать релевантными. \n",
    "\n",
    "В общем случае можно придумать отдельную модель для всех фильмов, у которых мало оценок и давать им оценку в зависимости от того, что будет показывать эта модель. Например, взять линейную регрессию с кучей фич на основе данных по фильмам (описания, год выпуска, жанра, режиссёра и тп.), плюс фичи на основе статистик по имеющимся оценкам (средние, отклонения и тп.).\n",
    "\n",
    "Также, как вариант, можно использовать метод, описанный в книге \"Баесовские методы для Хакеров\" - ранжирование фильмов на основе доверительных интервалов для оценки: http://nbviewer.jupyter.org/github/CamDavidsonPilon/Probabilistic-Programming-and-Bayesian-Methods-for-Hackers/blob/master/Chapter4_TheGreatestTheoremNeverTold/Chapter4.ipynb\n",
    "\n"
   ]
  },
  {
   "cell_type": "markdown",
   "metadata": {},
   "source": [
    "#####   *Необязательное подзадание.* Насколько различны списки из top-n рекомендаций. Попробуйте улучшить результаты подбором $\\beta$ для минимизации MAE (RMSE) в гибридных рекомендациях в зависимости от числа соседей:\n",
    "$$\\beta\\cdot r^{user-based}_{ui} + (1-\\beta)\\cdot r^{item-based}_{ui}, \\mbox{ где } 0 \\leq \\beta \\leq 1.$$ \n"
   ]
  },
  {
   "cell_type": "code",
   "execution_count": 108,
   "metadata": {
    "collapsed": false
   },
   "outputs": [],
   "source": [
    "\n",
    "def get_error_score_for_hybrid_model_test_data (prefs_test, prefs_train, itemsim = {}, usersim = {},\n",
    "                                                pow_val = 1, n_reco = 0, beta = 0):\n",
    "    err_score_total = 0\n",
    "    counter_total = 0\n",
    "    \n",
    "    if (beta<0 or beta>1):\n",
    "        return \"Error beta value\"\n",
    "    \n",
    "    for user_id in prefs_test.keys():\n",
    "        ##print (user_id)\n",
    "        user_recommendations = []\n",
    "        \n",
    "        user_recommendations_item =  []\n",
    "        user_recommendations_item = getRecommended_Item_based  (prefs_test, prefs_train, itemsim, user_id)\n",
    "\n",
    "            ## with user mean substraction\n",
    "        user_recommendations_user =  []\n",
    "        user_recommendations_user = getRecommended_User_based_v3 (prefs_test, prefs_train, usersim, user_id)\n",
    "        \n",
    "\n",
    "        dict_hybrid_reco = {}\n",
    "        for (score, film_name) in user_recommendations_user:\n",
    "            dict_hybrid_reco.setdefault(film_name,0)\n",
    "            dict_hybrid_reco[film_name] = score\n",
    "        \n",
    "        ## print (dict_hybrid_reco)\n",
    "        \n",
    "        ## Only apply beta adjustment for films ranked by user-user approach\n",
    "        for (score, film_name) in user_recommendations_item:\n",
    "            if film_name in dict_hybrid_reco.keys():\n",
    "                dict_hybrid_reco[film_name] = dict_hybrid_reco[film_name] * beta + score * (1-beta)\n",
    "\n",
    "\n",
    "\n",
    "        user_recommendations = []\n",
    "        user_recommendations = [(total,item) for item, total in dict_hybrid_reco.items( )]\n",
    "        user_recommendations.sort()\n",
    "        user_recommendations.reverse()\n",
    "        \n",
    "        if n_reco>0:\n",
    "            user_recommendations = user_recommendations[0:n_reco] \n",
    "        \n",
    "        counter_user, score_user = Error_score (user_recommendations, prefs_test[user_id], pow_val = pow_val)\n",
    "        err_score_total += score_user\n",
    "        counter_total += counter_user\n",
    "\n",
    "    \n",
    "    if (counter_total == 0): counter_total = 0.0001    \n",
    "    \n",
    "    err_score_total = err_score_total/counter_total\n",
    "    if pow_val == 2:\n",
    "        err_score_total = math.sqrt(err_score_total)\n",
    "    \n",
    "    return err_score_total"
   ]
  },
  {
   "cell_type": "code",
   "execution_count": 111,
   "metadata": {
    "collapsed": false
   },
   "outputs": [
    {
     "data": {
      "text/plain": [
       "0.93010953759596848"
      ]
     },
     "execution_count": 111,
     "metadata": {},
     "output_type": "execute_result"
    }
   ],
   "source": [
    "## user based reco:\n",
    "neighb_val = 30 \n",
    "user_sim = calculateSimilarUsers (prefs_train, prefs_test, n = neighb_val, verbose = True)\n",
    "item_sim  = calculateSimilarItems (prefs_train, n=neighb_val, verbose = True)\n",
    "\n",
    "get_error_score_for_hybrid_model_test_data (prefs_test, prefs_train, item_sim, user_sim, pow_val = 1, beta = 0.5 )"
   ]
  },
  {
   "cell_type": "code",
   "execution_count": 114,
   "metadata": {
    "collapsed": false
   },
   "outputs": [
    {
     "name": "stdout",
     "output_type": "stream",
     "text": [
      "('beta value: ', 0.0)\n",
      "(0.94190562897757379, 1.2209907347453302)\n",
      "('beta value: ', 0.10000000000000001)\n",
      "(0.93897142695339886, 1.2144497227444624)\n",
      "('beta value: ', 0.20000000000000001)\n",
      "(0.93610736251248217, 1.209066090317733)\n",
      "('beta value: ', 0.30000000000000004)\n",
      "(0.93365364981048649, 1.204855352056944)\n",
      "('beta value: ', 0.40000000000000002)\n",
      "(0.93155104192765537, 1.2018298361025421)\n",
      "('beta value: ', 0.5)\n",
      "(0.93010953759596848, 1.1999985072716592)\n",
      "('beta value: ', 0.60000000000000009)\n",
      "(0.92954349880954279, 1.1993668358363538)\n",
      "('beta value: ', 0.70000000000000007)\n",
      "(0.92973819065498153, 1.199936716371305)\n",
      "('beta value: ', 0.80000000000000004)\n",
      "(0.93085626835672686, 1.2017064394558847)\n",
      "('beta value: ', 0.90000000000000002)\n",
      "(0.9328717334965172, 1.2046707172109228)\n",
      "('beta value: ', 1.0)\n",
      "(0.93570775045240329, 1.208820761785288)\n"
     ]
    }
   ],
   "source": [
    "mae_array = []\n",
    "rmse_array = []\n",
    "beta_array = np.arange (0,1.1,0.1)\n",
    "\n",
    "for beta_iter_val in beta_array:\n",
    "    print (\"beta value: \", beta_iter_val)\n",
    "    mae_error_val = get_error_score_for_hybrid_model_test_data (prefs_test, prefs_train, item_sim, user_sim,  pow_val = 1, beta = beta_iter_val)\n",
    "    rmse_error_val = get_error_score_for_hybrid_model_test_data (prefs_test, prefs_train, item_sim, user_sim, pow_val = 2, beta = beta_iter_val)\n",
    "    \n",
    "    print (mae_error_val, rmse_error_val)\n",
    "    mae_array +=[mae_error_val]\n",
    "    rmse_array +=[rmse_error_val]"
   ]
  },
  {
   "cell_type": "code",
   "execution_count": 115,
   "metadata": {
    "collapsed": false
   },
   "outputs": [
    {
     "data": {
      "image/png": "[encoded data removed]",
      "text/plain": [
       "<matplotlib.figure.Figure at 0x114647710>"
      ]
     },
     "metadata": {},
     "output_type": "display_data"
    }
   ],
   "source": [
    "##\n",
    "##  Plot beta value compare with \n",
    "##\n",
    "\n",
    "plt.plot(beta_array, mae_array, label='MAE')\n",
    "plt.plot(beta_array, rmse_array, label = 'RMSE')\n",
    "\n",
    "plt.legend()\n",
    "plt.ylabel('error val')\n",
    "plt.xlabel('beta value')\n",
    "\n",
    "plt.show()"
   ]
  },
  {
   "cell_type": "markdown",
   "metadata": {},
   "source": [
    "Самое лучшее качество при beta = 0.6"
   ]
  }
 ],
 "metadata": {
  "kernelspec": {
   "display_name": "Python 2",
   "language": "python",
   "name": "python2"
  },
  "language_info": {
   "codemirror_mode": {
    "name": "ipython",
    "version": 2
   },
   "file_extension": ".py",
   "mimetype": "text/x-python",
   "name": "python",
   "nbconvert_exporter": "python",
   "pygments_lexer": "ipython2",
   "version": "2.7.12"
  },
  "name": "lesson11_recsys.ipynb"
 },
 "nbformat": 4,
 "nbformat_minor": 0
}
