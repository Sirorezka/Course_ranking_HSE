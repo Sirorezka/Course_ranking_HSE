{
 "cells": [
  {
   "cell_type": "markdown",
   "metadata": {},
   "source": [
    "Пример взят с http://orange.biolab.si/docs/latest/reference/rst/Orange.associate.html"
   ]
  },
  {
   "cell_type": "code",
   "execution_count": 2,
   "metadata": {
    "collapsed": true
   },
   "outputs": [],
   "source": [
    "import Orange"
   ]
  },
  {
   "cell_type": "code",
   "execution_count": 17,
   "metadata": {
    "collapsed": false
   },
   "outputs": [],
   "source": [
    "##  Read terms\n",
    "##\n",
    "\n",
    "terms = list()\n",
    "for line in open('data/hw3/adw_3k_2k_terms.tab'):\n",
    "    line = line.replace('\\n', '').replace('\\r', '')\n",
    "    terms.append(line)"
   ]
  },
  {
   "cell_type": "code",
   "execution_count": 21,
   "metadata": {
    "collapsed": false,
    "scrolled": true
   },
   "outputs": [
    {
     "data": {
      "text/plain": [
       "['12a1970 lexmark',\n",
       " '2 stacker',\n",
       " '21 black jack',\n",
       " '2nd mortgage',\n",
       " 'acapulco hotel',\n",
       " 'accept account card credit merchant',\n",
       " 'accept card credit',\n",
       " 'accept card credit online',\n",
       " 'accessory computer',\n",
       " 'accessory desk',\n",
       " 'accommodation',\n",
       " 'accommodation hotel',\n",
       " 'accommodation las vegas',\n",
       " 'accommodation new york',\n",
       " 'accommodation orlando',\n",
       " 'accommodation paris',\n",
       " 'account card credit merchant',\n",
       " 'account cost low merchant',\n",
       " 'account ecommerce merchant',\n",
       " 'account internet merchant']"
      ]
     },
     "execution_count": 21,
     "metadata": {},
     "output_type": "execute_result"
    }
   ],
   "source": [
    "terms[0:20]"
   ]
  },
  {
   "cell_type": "code",
   "execution_count": 98,
   "metadata": {
    "collapsed": false
   },
   "outputs": [],
   "source": [
    "## read associations\n",
    "with open('data/hw3/adw_3k_2k.tab') as file_stdin:\n",
    "    file_data = file_stdin.readlines()\n",
    "    all_associations = []\n",
    "    for line in file_data[2:]:\n",
    "        line = line.replace('\\n', '').replace('\\r', '').split(\" \")\n",
    "        line_dict = []\n",
    "        line_dict.append(terms[int(line[0])])\n",
    "        line_dict.append(terms[int(line[1])])\n",
    "\n",
    "        \n",
    "        ##line_dict[terms[int(line[0])]] = 1\n",
    "        ##line_dict[terms[int(line[1])]] = 1\n",
    "        all_associations.append(line_dict)\n"
   ]
  },
  {
   "cell_type": "code",
   "execution_count": 85,
   "metadata": {
    "collapsed": false
   },
   "outputs": [
    {
     "data": {
      "text/plain": [
       "[{'12a1970 lexmark': 1, 'account merchant service': 1},\n",
       " {'12a1970 lexmark': 1, 'advertising web': 1},\n",
       " {'12a1970 lexmark': 1, 'anal sex': 1},\n",
       " {'12a1970 lexmark': 1, 'barcelona': 1},\n",
       " {'12a1970 lexmark': 1, 'black jack online play': 1},\n",
       " {'12a1970 lexmark': 1, 'buffalo hotel': 1},\n",
       " {'12a1970 lexmark': 1, 'business home mlm': 1},\n",
       " {'12a1970 lexmark': 1, 'business internet starting': 1},\n",
       " {'12a1970 lexmark': 1, 'business online starting': 1},\n",
       " {'12a1970 lexmark': 1, 'buy flower online': 1}]"
      ]
     },
     "execution_count": 85,
     "metadata": {},
     "output_type": "execute_result"
    }
   ],
   "source": [
    "all_associations[0:10]"
   ]
  },
  {
   "cell_type": "code",
   "execution_count": 101,
   "metadata": {
    "collapsed": false
   },
   "outputs": [
    {
     "data": {
      "text/plain": [
       "[['12a1970 lexmark', 'account merchant service'],\n",
       " ['12a1970 lexmark', 'advertising web'],\n",
       " ['12a1970 lexmark', 'anal sex'],\n",
       " ['12a1970 lexmark', 'barcelona'],\n",
       " ['12a1970 lexmark', 'black jack online play'],\n",
       " ['12a1970 lexmark', 'buffalo hotel'],\n",
       " ['12a1970 lexmark', 'business home mlm'],\n",
       " ['12a1970 lexmark', 'business internet starting'],\n",
       " ['12a1970 lexmark', 'business online starting'],\n",
       " ['12a1970 lexmark', 'buy flower online']]"
      ]
     },
     "execution_count": 101,
     "metadata": {},
     "output_type": "execute_result"
    }
   ],
   "source": [
    "all_associations[0:10]"
   ]
  },
  {
   "cell_type": "code",
   "execution_count": 102,
   "metadata": {
    "collapsed": false
   },
   "outputs": [
    {
     "ename": "IndexError",
     "evalue": "invalid list size (got 2, expected 3000 items) (at example 0)",
     "output_type": "error",
     "traceback": [
      "\u001b[1;31m---------------------------------------------------------------------------\u001b[0m",
      "\u001b[1;31mIndexError\u001b[0m                                Traceback (most recent call last)",
      "\u001b[1;32m<ipython-input-102-394df867d6bb>\u001b[0m in \u001b[0;36m<module>\u001b[1;34m()\u001b[0m\n\u001b[1;32m----> 1\u001b[1;33m \u001b[0mOrange\u001b[0m\u001b[1;33m.\u001b[0m\u001b[0mdata\u001b[0m\u001b[1;33m.\u001b[0m\u001b[0mTable\u001b[0m\u001b[1;33m(\u001b[0m\u001b[0mdomain\u001b[0m\u001b[1;33m,\u001b[0m\u001b[0mall_associations\u001b[0m\u001b[1;33m)\u001b[0m\u001b[1;33m\u001b[0m\u001b[0m\n\u001b[0m",
      "\u001b[1;31mIndexError\u001b[0m: invalid list size (got 2, expected 3000 items) (at example 0)"
     ]
    }
   ],
   "source": [
    "domain = Orange.data.Domain([Orange.feature.Discrete(x) for x in terms])\n",
    "Orange.data.Table(domain,all_associations)"
   ]
  },
  {
   "cell_type": "code",
   "execution_count": 59,
   "metadata": {
    "collapsed": false
   },
   "outputs": [
    {
     "ename": "TypeError",
     "evalue": "invalid sequence element at 0",
     "output_type": "error",
     "traceback": [
      "\u001b[1;31m---------------------------------------------------------------------------\u001b[0m",
      "\u001b[1;31mTypeError\u001b[0m                                 Traceback (most recent call last)",
      "\u001b[1;32m<ipython-input-59-7bc13a1fe408>\u001b[0m in \u001b[0;36m<module>\u001b[1;34m()\u001b[0m\n\u001b[1;32m----> 1\u001b[1;33m \u001b[0mrules\u001b[0m \u001b[1;33m=\u001b[0m \u001b[0mOrange\u001b[0m\u001b[1;33m.\u001b[0m\u001b[0massociate\u001b[0m\u001b[1;33m.\u001b[0m\u001b[0mAssociationRulesSparseInducer\u001b[0m\u001b[1;33m(\u001b[0m\u001b[0mall_associations\u001b[0m\u001b[1;33m,\u001b[0m \u001b[0msupport\u001b[0m\u001b[1;33m=\u001b[0m\u001b[1;36m0.3\u001b[0m\u001b[1;33m)\u001b[0m\u001b[1;33m\u001b[0m\u001b[0m\n\u001b[0m",
      "\u001b[1;31mTypeError\u001b[0m: invalid sequence element at 0"
     ]
    }
   ],
   "source": [
    "rules = Orange.associate.AssociationRulesSparseInducer(all_associations, support=0.3)"
   ]
  },
  {
   "cell_type": "code",
   "execution_count": null,
   "metadata": {
    "collapsed": true
   },
   "outputs": [],
   "source": [
    "##  Read associations\n",
    "##\n",
    "file_data = open('data/hw3/adw_3k_2k.tab')\n",
    "\n",
    "terms = list()\n"
   ]
  },
  {
   "cell_type": "code",
   "execution_count": 2,
   "metadata": {
    "collapsed": false
   },
   "outputs": [],
   "source": [
    "data = Orange.data.Table(\"data/hw3/yahoo.tab\")\n",
    "# загружаем данные из набора c покупками"
   ]
  },
  {
   "cell_type": "code",
   "execution_count": 4,
   "metadata": {
    "collapsed": false
   },
   "outputs": [
    {
     "data": {
      "text/plain": [
       "[[0, 0, 0, 0, 0, ...],\n",
       " [0, 0, 0, 0, 0, ...],\n",
       " [0, 0, 0, 0, 0, ...],\n",
       " [0, 0, 0, 0, 0, ...],\n",
       " [0, 0, 0, 0, 0, ...],\n",
       " ...\n",
       "]"
      ]
     },
     "execution_count": 4,
     "metadata": {},
     "output_type": "execute_result"
    }
   ],
   "source": [
    "data[:]"
   ]
  },
  {
   "cell_type": "code",
   "execution_count": 14,
   "metadata": {
    "collapsed": false
   },
   "outputs": [
    {
     "name": "stdout",
     "output_type": "stream",
     "text": [
      "Supp Conf  Rule\n",
      " 0.4  1.0  Cola -> Diapers\n",
      " 0.4  0.5  Diapers -> Cola\n",
      " 0.4  1.0  Cola -> Diapers Milk\n",
      " 0.4  1.0  Cola Diapers -> Milk\n",
      " 0.4  1.0  Cola Milk -> Diapers\n"
     ]
    }
   ],
   "source": [
    "rules = Orange.associate.AssociationRulesSparseInducer(data, support=0.3)\n",
    "# находим все ассоциативные правила с поддержкой 0.3\n",
    "print \"%4s %4s  %s\" % (\"Supp\", \"Conf\", \"Rule\")\n",
    "for r in rules[:5]:\n",
    "    print \"%4.1f %4.1f  %s\" % (r.support, r.confidence, r)\n",
    "#выводим пять правил и значения поддержки и достоверности"
   ]
  },
  {
   "cell_type": "code",
   "execution_count": 15,
   "metadata": {
    "collapsed": false
   },
   "outputs": [
    {
     "name": "stdout",
     "output_type": "stream",
     "text": [
      "(0.40) Cola\n",
      "(0.40) Cola Diapers\n",
      "(0.40) Cola Diapers Milk\n",
      "(0.40) Cola Milk\n",
      "(0.60) Beer\n"
     ]
    }
   ],
   "source": [
    "data = Orange.data.Table(\"market-basket.basket\")\n",
    "\n",
    "ind = Orange.associate.AssociationRulesSparseInducer(support=0.4, storeExamples = True)\n",
    "itemsets = ind.get_itemsets(data)\n",
    "for itemset, tids in itemsets[:5]:\n",
    "    print \"(%4.2f) %s\" % (len(tids)/float(len(data)),\n",
    "                          \" \".join(data.domain[item].name for item in itemset))\n",
    "# относительная поддержка и частые множества"
   ]
  },
  {
   "cell_type": "code",
   "execution_count": null,
   "metadata": {
    "collapsed": true
   },
   "outputs": [],
   "source": []
  }
 ],
 "metadata": {
  "kernelspec": {
   "display_name": "Python 2",
   "language": "python",
   "name": "python2"
  },
  "language_info": {
   "codemirror_mode": {
    "name": "ipython",
    "version": 2
   },
   "file_extension": ".py",
   "mimetype": "text/x-python",
   "name": "python",
   "nbconvert_exporter": "python",
   "pygments_lexer": "ipython2",
   "version": "2.7.12"
  }
 },
 "nbformat": 4,
 "nbformat_minor": 0
}
