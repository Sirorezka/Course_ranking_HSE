{
 "cells": [
  {
   "cell_type": "code",
   "execution_count": 59,
   "metadata": {
    "collapsed": true
   },
   "outputs": [],
   "source": [
    "%matplotlib inline\n",
    "import matplotlib.pyplot as plt\n",
    "import os,re\n",
    "import numpy as np\n",
    "import pandas as pd\n",
    "import math\n",
    "import sys\n",
    "\n",
    "sys.stdout.flush()"
   ]
  },
  {
   "cell_type": "markdown",
   "metadata": {
    "collapsed": true
   },
   "source": [
    "# Курс \"Рекомендательные системы\" -- домашнее задание 1\n",
    "\n",
    "## Автор материала: доцент ФКН НИУ ВШЭ Дмитрий Игнатов\n",
    "Можно использовать материал в любых целях, кроме коммерческих. Примеры составлены по мотивам главы 2 книги Т.Сегаран \"Программируем коллективный разум\" http://www.symbol.ru/alphabet/613828.html\n",
    "\n",
    "### Срок выполнения: 19 июня 2016 (включительно)\n",
    "\n",
    "\n"
   ]
  },
  {
   "cell_type": "markdown",
   "metadata": {},
   "source": [
    "## Словарь с предпочтениями пользователи-фильмы"
   ]
  },
  {
   "cell_type": "code",
   "execution_count": 60,
   "metadata": {
    "collapsed": false
   },
   "outputs": [],
   "source": [
    "# Словарь кинокритиков и выставленных ими оценок для небольшого набора\n",
    "# данных о фильмах\n",
    "critics={'Lisa Rose': {'Lady in the Water': 2.5, 'Snakes on a Plane': 3.5,\n",
    " 'Just My Luck': 3.0, 'Superman Returns': 3.5, 'You, Me and Dupree': 2.5, \n",
    " 'The Night Listener': 3.0},\n",
    "'Gene Seymour': {'Lady in the Water': 3.0, 'Snakes on a Plane': 3.5, \n",
    " 'Just My Luck': 1.5, 'Superman Returns': 5.0, 'The Night Listener': 3.0, \n",
    " 'You, Me and Dupree': 3.5}, \n",
    "'Michael Phillips': {'Lady in the Water': 2.5, 'Snakes on a Plane': 3.0,\n",
    " 'Superman Returns': 3.5, 'The Night Listener': 4.0},\n",
    "'Claudia Puig': {'Snakes on a Plane': 3.5, 'Just My Luck': 3.0,\n",
    " 'The Night Listener': 4.5, 'Superman Returns': 4.0, \n",
    " 'You, Me and Dupree': 2.5},\n",
    "'Mick LaSalle': {'Lady in the Water': 3.0, 'Snakes on a Plane': 4.0, \n",
    " 'Just My Luck': 2.0, 'Superman Returns': 3.0, 'The Night Listener': 3.0,\n",
    " 'You, Me and Dupree': 2.0}, \n",
    "'Jack Matthews': {'Lady in the Water': 3.0, 'Snakes on a Plane': 4.0,\n",
    " 'The Night Listener': 3.0, 'Superman Returns': 5.0, 'You, Me and Dupree': 3.5},\n",
    "'Toby': {'Snakes on a Plane':4.5,'You, Me and Dupree':1.0,'Superman Returns':4.0}}"
   ]
  },
  {
   "cell_type": "code",
   "execution_count": 61,
   "metadata": {
    "collapsed": false
   },
   "outputs": [
    {
     "data": {
      "text/plain": [
       "{'Snakes on a Plane': 4.5, 'Superman Returns': 4.0, 'You, Me and Dupree': 1.0}"
      ]
     },
     "execution_count": 61,
     "metadata": {},
     "output_type": "execute_result"
    }
   ],
   "source": [
    "critics['Toby']"
   ]
  },
  {
   "cell_type": "code",
   "execution_count": 62,
   "metadata": {
    "collapsed": false
   },
   "outputs": [
    {
     "data": {
      "text/plain": [
       "2.5"
      ]
     },
     "execution_count": 62,
     "metadata": {},
     "output_type": "execute_result"
    }
   ],
   "source": [
    "critics['Lisa Rose']['Lady in the Water']\n"
   ]
  },
  {
   "cell_type": "code",
   "execution_count": 63,
   "metadata": {
    "collapsed": false
   },
   "outputs": [
    {
     "data": {
      "text/plain": [
       "3.1622776601683795"
      ]
     },
     "execution_count": 63,
     "metadata": {},
     "output_type": "execute_result"
    }
   ],
   "source": [
    "#вычисление расстояния Евклида\n",
    "from math import sqrt\n",
    "sqrt(pow(5-4,2)+pow(4-1,2))\n"
   ]
  },
  {
   "cell_type": "code",
   "execution_count": 64,
   "metadata": {
    "collapsed": false
   },
   "outputs": [
    {
     "data": {
      "text/plain": [
       "0.2402530733520421"
      ]
     },
     "execution_count": 64,
     "metadata": {},
     "output_type": "execute_result"
    }
   ],
   "source": [
    "#вычисление сходства\n",
    "1/(1+sqrt(pow(5-4,2)+pow(4-1,2)))\n"
   ]
  },
  {
   "cell_type": "code",
   "execution_count": 65,
   "metadata": {
    "collapsed": false
   },
   "outputs": [],
   "source": [
    "from math import sqrt\n",
    "# Возвращает сходство person1 и person2 на основе расстояния\n",
    "def sim_distance(prefs,person1,person2):\n",
    "# Получить список предметов, оцененных обоими\n",
    "    si={}\n",
    "    for item in prefs[person1]:\n",
    "        if item in prefs[person2]:\n",
    "            si[item]=1\n",
    "# Если нет ни одной общей оценки, вернуть 0\n",
    "    if len(si)==0: return 0\n",
    "# Сложить квадраты разностей\n",
    "    sum_of_squares=sum([pow(prefs[person1][item]-prefs[person2][item],2)\n",
    "    for item in prefs[person1] if item in prefs[person2]])\n",
    "    return 1/(1+sum_of_squares)\n"
   ]
  },
  {
   "cell_type": "code",
   "execution_count": 66,
   "metadata": {
    "collapsed": false
   },
   "outputs": [
    {
     "data": {
      "text/plain": [
       "0.14814814814814814"
      ]
     },
     "execution_count": 66,
     "metadata": {},
     "output_type": "execute_result"
    }
   ],
   "source": [
    "sim_distance(critics, 'Lisa Rose','Gene Seymour')"
   ]
  },
  {
   "cell_type": "code",
   "execution_count": 67,
   "metadata": {
    "collapsed": true
   },
   "outputs": [],
   "source": [
    "# Возвращает коэффициент корреляции Пирсона между p1 и p2\n",
    "def sim_pearson(prefs,p1,p2):\n",
    "# Получить список предметов, оцененных обоими\n",
    "    si={}\n",
    "    for item in prefs[p1]: \n",
    "        if item in prefs[p2]: si[item]=1\n",
    "\n",
    "    # Если нет ни одной общей оценки, вернуть 0\n",
    "    if len(si)==0: return 0\n",
    "\n",
    "    # Количество соместно оцененных фильм\n",
    "    n=len(si)\n",
    "  \n",
    "    # Вычислить сумму всех предпочтений\n",
    "    sum1=sum([prefs[p1][it] for it in si])\n",
    "    sum2=sum([prefs[p2][it] for it in si])\n",
    "  \n",
    "    # Вычислить сумму квадратов\n",
    "    sum1Sq=sum([pow(prefs[p1][it],2) for it in si])\n",
    "    sum2Sq=sum([pow(prefs[p2][it],2) for it in si])\t\n",
    "  \n",
    "    # Вычислить сумму произведений\n",
    "    pSum=sum([prefs[p1][it]*prefs[p2][it] for it in si])\n",
    "  \n",
    "    # Вычислить коэффициент Пирсона\n",
    "    num=pSum-(sum1*sum2/n)\n",
    "    den=sqrt((sum1Sq-pow(sum1,2)/n)*(sum2Sq-pow(sum2,2)/n))\n",
    "    if den==0: return 0\n",
    "\n",
    "    r=num/den\n",
    "\n",
    "    return r"
   ]
  },
  {
   "cell_type": "code",
   "execution_count": 68,
   "metadata": {
    "collapsed": false
   },
   "outputs": [
    {
     "data": {
      "text/plain": [
       "0.39605901719066977"
      ]
     },
     "execution_count": 68,
     "metadata": {},
     "output_type": "execute_result"
    }
   ],
   "source": [
    "sim_pearson(critics,'Lisa Rose','Gene Seymour')\n"
   ]
  },
  {
   "cell_type": "markdown",
   "metadata": {},
   "source": [
    "## Ранжирование критиков"
   ]
  },
  {
   "cell_type": "code",
   "execution_count": 69,
   "metadata": {
    "collapsed": true
   },
   "outputs": [],
   "source": [
    "# Возвращает список наилучших соответствий для человека из словаря prefs.\n",
    "# Количество результатов в списке и функция подобия – необязательные\n",
    "# параметры.\n",
    "def topMatches(prefs,person,n=5,similarity=sim_pearson):\n",
    "    scores=[(similarity(prefs,person,other),other)\n",
    "    for other in prefs if other!=person]\n",
    "    # Отсортировать список по убыванию оценок\n",
    "    scores.sort( )\n",
    "    scores.reverse( )\n",
    "    return scores[0:n]\n"
   ]
  },
  {
   "cell_type": "code",
   "execution_count": 70,
   "metadata": {
    "collapsed": false
   },
   "outputs": [
    {
     "data": {
      "text/plain": [
       "[(0.9912407071619299, 'Lisa Rose'),\n",
       " (0.9244734516419049, 'Mick LaSalle'),\n",
       " (0.8934051474415647, 'Claudia Puig')]"
      ]
     },
     "execution_count": 70,
     "metadata": {},
     "output_type": "execute_result"
    }
   ],
   "source": [
    "topMatches(critics,'Toby',n=3)"
   ]
  },
  {
   "cell_type": "markdown",
   "metadata": {},
   "source": [
    "## Рекомендация фильмов (User-based подход)"
   ]
  },
  {
   "cell_type": "code",
   "execution_count": 58,
   "metadata": {
    "collapsed": false
   },
   "outputs": [],
   "source": [
    "# Получить рекомендации для заданного человека, пользуясь взвешенным средним\n",
    "# оценок, данных всеми остальными пользователями\n",
    "def getRecommendations(prefs,person,similarity=sim_pearson):\n",
    "    \n",
    "    totals={}\n",
    "    simSums={}\n",
    "    for other in prefs:\n",
    "    # сравнивать меня с собой же не нужно\n",
    "        if other==person: continue\n",
    "        sim=similarity(prefs,person,other)\n",
    "    # игнорировать нулевые и отрицательные оценки\n",
    "        if sim<=0: continue\n",
    "        for item in prefs[other]:\n",
    "    # оценивать только фильмы, которые я еще не смотрел\n",
    "            if item not in prefs[person] or prefs[person][item]==0:\n",
    "    # Коэффициент подобия * Оценка\n",
    "                totals.setdefault(item,0)\n",
    "                totals[item]+=prefs[other][item]*sim\n",
    "        # Сумма коэффициентов подобия\n",
    "                simSums.setdefault(item,0)\n",
    "                simSums[item]+=sim\n",
    "    # Создать нормированный список\n",
    "    rankings=[(total/simSums[item],item) for item,total in totals.items( )]\n",
    "    # Вернуть отсортированный список\n",
    "    rankings.sort( )\n",
    "    rankings.reverse( )\n",
    "    return rankings"
   ]
  },
  {
   "cell_type": "code",
   "execution_count": null,
   "metadata": {
    "collapsed": false
   },
   "outputs": [],
   "source": [
    "getRecommendations(critics,'Toby')"
   ]
  },
  {
   "cell_type": "code",
   "execution_count": null,
   "metadata": {
    "collapsed": false
   },
   "outputs": [],
   "source": [
    "getRecommendations(critics,'Toby', sim_distance)"
   ]
  },
  {
   "cell_type": "markdown",
   "metadata": {},
   "source": [
    "## Сходство предметов\n",
    "\n",
    "Как заменить\n",
    "\n",
    "{'Lisa Rose': {'Lady in the Water': 2.5, 'Snakes on a Plane': 3.5},\n",
    "'Gene Seymour': {'Lady in the Water': 3.0, 'Snakes on a Plane': 3.5}}\n",
    "\n",
    "на\n",
    "\n",
    "{'Lady in the Water':{'Lisa Rose':2.5,'Gene Seymour':3.0},\n",
    "'Snakes on a Plane':{'Lisa Rose':3.5,'Gene Seymour':3.5}}?\n"
   ]
  },
  {
   "cell_type": "code",
   "execution_count": 17,
   "metadata": {
    "collapsed": false
   },
   "outputs": [],
   "source": [
    "def transformPrefs(prefs):\n",
    "    result={}\n",
    "    for person in prefs:\n",
    "        for item in prefs[person]:\n",
    "            result.setdefault(item,{})\n",
    "    # Обменять местами человека и предмет\n",
    "            result[item][person]=prefs[person][item]\n",
    "    return result"
   ]
  },
  {
   "cell_type": "code",
   "execution_count": null,
   "metadata": {
    "collapsed": false
   },
   "outputs": [],
   "source": [
    "movies=transformPrefs(critics)\n"
   ]
  },
  {
   "cell_type": "code",
   "execution_count": null,
   "metadata": {
    "collapsed": false
   },
   "outputs": [],
   "source": [
    "movies"
   ]
  },
  {
   "cell_type": "code",
   "execution_count": null,
   "metadata": {
    "collapsed": false
   },
   "outputs": [],
   "source": [
    "topMatches(movies,'Superman Returns')"
   ]
  },
  {
   "cell_type": "code",
   "execution_count": null,
   "metadata": {
    "collapsed": false
   },
   "outputs": [],
   "source": [
    "getRecommendations(movies,'Just My Luck')"
   ]
  },
  {
   "cell_type": "markdown",
   "metadata": {},
   "source": [
    "## Коллаборативная фильтрация по сходству объектов (Item-based collaborative filtering)"
   ]
  },
  {
   "cell_type": "code",
   "execution_count": 15,
   "metadata": {
    "collapsed": false
   },
   "outputs": [],
   "source": [
    "def calculateSimilarItems(prefs,n=10, verbose = True):\n",
    "    # Создать словарь, содержащий для каждого образца те образцы, которые\n",
    "    # больше всего похожи на него.\n",
    "    result={}\n",
    "    # Обратить матрицу предпочтений, чтобы строки соответствовали образцам\n",
    "    itemPrefs=transformPrefs(prefs)\n",
    "    c=0\n",
    "    for item in itemPrefs:\n",
    "    # Обновление состояния для больших наборов данных\n",
    "        c+=1\n",
    "        if verbose:\n",
    "            if c%100==0: print \"%d / %d\" % (c,len(itemPrefs))\n",
    "    # Найти образцы, максимально похожие на данный\n",
    "        scores=topMatches(itemPrefs,item,n=n,similarity=sim_distance)\n",
    "        result[item]=scores\n",
    "    return result"
   ]
  },
  {
   "cell_type": "code",
   "execution_count": null,
   "metadata": {
    "collapsed": false
   },
   "outputs": [],
   "source": [
    "itemsim=calculateSimilarItems(critics)\n",
    "itemsim"
   ]
  },
  {
   "cell_type": "code",
   "execution_count": null,
   "metadata": {
    "collapsed": false
   },
   "outputs": [],
   "source": [
    "def getRecommendedItems(prefs,itemMatch,user):\n",
    "    userRatings=prefs[user]\n",
    "    scores={}\n",
    "    totalSim={}\n",
    "\n",
    "    # Цикл по образцам, оцененным данным пользователем\n",
    "    for (item,rating) in userRatings.items():\n",
    "        \n",
    "    # Цикл по образцам, похожим на данный\n",
    "        for (similarity,item2) in itemMatch[item]:\n",
    "    # Пропускаем, если пользователь уже оценивал данный образец\n",
    "            if item2 in userRatings: continue\n",
    "        # Взвешенная суммы оценок, умноженных на коэффициент подобия\n",
    "            scores.setdefault(item2,0)\n",
    "            scores[item2]+=similarity*rating\n",
    "        # Сумма всех коэффициентов подобия\n",
    "            totalSim.setdefault(item2,0)\n",
    "            totalSim[item2]+=similarity\n",
    "            if totalSim[item2]==0: totalSim[item2]=0.0000001 # чтобы избежать деления на ноль\n",
    "    # Делим каждую итоговую оценку на взвешенную сумму, чтобы вычислить\n",
    "    # среднее\n",
    "    rankings=[(score/totalSim[item],item) for item,score in scores.items( ) ]\n",
    "\n",
    "    # Возвращает список rankings, отсортированный по убыванию\n",
    "    rankings.sort( )\n",
    "    rankings.reverse( )\n",
    "    return rankings"
   ]
  },
  {
   "cell_type": "code",
   "execution_count": null,
   "metadata": {
    "collapsed": false
   },
   "outputs": [],
   "source": [
    "getRecommendedItems(critics,itemsim,'Toby')\n"
   ]
  },
  {
   "cell_type": "markdown",
   "metadata": {},
   "source": [
    "## Рекомендация на данных MovieLens\n",
    "\n",
    "Источник: http://grouplens.org/datasets/movielens/"
   ]
  },
  {
   "cell_type": "code",
   "execution_count": null,
   "metadata": {
    "collapsed": true
   },
   "outputs": [],
   "source": [
    "def loadMovieLens(path='data/movielens'):\n",
    "# Получить названия фильмов\n",
    "    movies={}\n",
    "    for line in open(path+'/u.item'):\n",
    "        (id,title)=line.split('|')[0:2]\n",
    "        movies[id]=title\n",
    "# Загрузить данные\n",
    "    prefs={}\n",
    "    for line in open(path+'/u.data'):\n",
    "        (user,movieid,rating,ts)=line.split('\\t')\n",
    "        prefs.setdefault(user,{})\n",
    "        prefs[user][movies[movieid]]=float(rating)\n",
    "    return prefs"
   ]
  },
  {
   "cell_type": "code",
   "execution_count": null,
   "metadata": {
    "collapsed": false
   },
   "outputs": [],
   "source": [
    "prefs=loadMovieLens( )\n",
    "prefs['87']"
   ]
  },
  {
   "cell_type": "code",
   "execution_count": null,
   "metadata": {
    "collapsed": false
   },
   "outputs": [],
   "source": [
    "getRecommendations(prefs,'87')[0:30]"
   ]
  },
  {
   "cell_type": "code",
   "execution_count": null,
   "metadata": {
    "collapsed": false
   },
   "outputs": [],
   "source": [
    "itemsim=calculateSimilarItems(prefs,n=50)"
   ]
  },
  {
   "cell_type": "code",
   "execution_count": null,
   "metadata": {
    "collapsed": false
   },
   "outputs": [],
   "source": [
    "getRecommendedItems(prefs,itemsim,'87')[0:30]"
   ]
  },
  {
   "cell_type": "markdown",
   "metadata": {},
   "source": [
    "# Задание 1. Сравнение методов коллаборативной фильтрации по сходству пользователей и по сходству объектов\n",
    "\n",
    "\n",
    "1. Требуется реализовать вычисление ошибки [MAE](http://www.recsyswiki.com/wiki/Mean_absolute_error) и [RMSE](http://www.recsyswiki.com/wiki/Root_mean_square_error-mean-square_deviation) на тестовых данных [Movie Lens](http://grouplens.org/datasets/movielens/).  \n",
    "В качестве данных обучения можно использовать файлы с расширением base, а тестирование качества провести на файле test: пары файлов u1.base и u1.test, ..., u5.base и u5.test. Каждая пара -- это разбиение 80%/20%  данных для всех пользователей $u$ на обучащие и тестовые данные.\n",
    "2. Для каждого метода (user-based и item-based) постройте графики зависимости [MAE](http://www.recsyswiki.com/wiki/Mean_absolute_error) и [RMSE](http://www.recsyswiki.com/wiki/Root_mean_square_error-mean-square_deviation) от числа соседей (диапазон от 1 до 100 с разумным шагом).\n",
    "3. Если качество предсказаний слишком низкое (MAE>2,0), то попробуйте формулы 2.6 и 2.7 из обзора http://files.grouplens.org/papers/FnT%20CF%20Recsys%20Survey.pdf.\n",
    "Можно использовать альтернативные формулы для исходной модели $r_{u,i} = k\\sum\\limits_{u^\\prime \\in U}\\operatorname{sim}(u,u^\\prime)r_{u^\\prime, i} \\mbox{ (случай user-based модели):}$\n",
    "$$r_{u,i} = \\frac{1}{N}\\sum\\limits_{u^\\prime \\in U}r_{u^\\prime, i}$$\n",
    "$$r_{u,i} = \\bar{r_u} +  k\\sum\\limits_{u^\\prime \\in U} sim(u,u^\\prime)(r_{u^\\prime, i}-\\bar{r_{u^\\prime}} ) \\mbox{, где } k =1/\\sum_{u^\\prime \\in U}|\\operatorname{sim}(u,u^\\prime)|.$$\n",
    "4. Сравните подходы на основе полученных результатов по аналогии с пунктами 1 и 2. \n",
    "5. Как изменяется величина MAE (RMSE) от числа выдаваемых рекомендаций (top-n): $n \\in \\{1,3,5,10,15,20,30,40,50,100\\}$? \n",
    "6. Как Вы считаете, какие фильмы чаще рекомендуются -- популярные с высокими оценками или редкие (те, которые редко оцениваются) с высокими оценками?\n",
    "7. Что делать, если соседей (то есть похожих на целевого пользователя или конкретный товар) мало? Нужно/можно ли как-то учитывать достоверность таких рекомендаций? \n",
    "8. *Необязательное подзадание.* Насколько различны списки из top-n рекомендаций. Попробуйте улучшить результаты подбором $\\beta$ для минимизации MAE (RMSE) в гибридных рекомендациях в зависимости от числа соседей:\n",
    "$$\\beta\\cdot r^{user-based}_{ui} + (1-\\beta)\\cdot r^{item-based}_{ui}, \\mbox{ где } 0 \\leq \\beta \\leq 1.$$ \n",
    "\n"
   ]
  },
  {
   "cell_type": "code",
   "execution_count": 71,
   "metadata": {
    "collapsed": true
   },
   "outputs": [],
   "source": [
    "##\n",
    "## Load test and train sets for MovieLens_db\n",
    "##\n",
    "\n",
    "def loadMovieLens_train_test(path='data/movielens', k = 1):\n",
    "    \n",
    "# Получить названия фильмов\n",
    "    movies={}\n",
    "    for line in open(path+'/u.item'):\n",
    "        (id,title)=line.split('|')[0:2]\n",
    "        movies[id]=title\n",
    "# Загрузить данные\n",
    "    prefs_train={}\n",
    "    prefs_test={}\n",
    "    \n",
    "    print (path+'/u' + str(k) + '.base')\n",
    "    for line in open(path+'/u' + str(k) + '.base'):\n",
    "        (user,movieid,rating,ts)=line.split('\\t')\n",
    "        prefs_train.setdefault(user,{})\n",
    "        prefs_train[user][movies[movieid]]=float(rating)\n",
    "        \n",
    "    print (path+'/u' + str(k) + '.test')\n",
    "    for line in open(path+'/u' + str(k) + '.test'):\n",
    "        (user,movieid,rating,ts)=line.split('\\t')\n",
    "        prefs_test.setdefault(user,{})\n",
    "        prefs_test[user][movies[movieid]]=float(rating)                \n",
    "                \n",
    "    return prefs_train, prefs_test"
   ]
  },
  {
   "cell_type": "code",
   "execution_count": 72,
   "metadata": {
    "collapsed": false
   },
   "outputs": [
    {
     "name": "stdout",
     "output_type": "stream",
     "text": [
      "data/movielens/u3.base\n",
      "data/movielens/u3.test\n"
     ]
    }
   ],
   "source": [
    "prefs_train, prefs_test = loadMovieLens_train_test(k=3)"
   ]
  },
  {
   "cell_type": "code",
   "execution_count": 4,
   "metadata": {
    "collapsed": false
   },
   "outputs": [
    {
     "name": "stdout",
     "output_type": "stream",
     "text": [
      "943\n",
      "869\n"
     ]
    }
   ],
   "source": [
    "print (len(prefs_train.keys()))\n",
    "print (len(prefs_test.keys()))"
   ]
  },
  {
   "cell_type": "code",
   "execution_count": 5,
   "metadata": {
    "collapsed": true
   },
   "outputs": [],
   "source": [
    "##\n",
    "##   Get recommendations for test users - only recommendations on films that they've ranked \n",
    "##\n",
    "\n",
    "def getRecommended_Item_based(prefs_test, prefs_train, itemMatch,user):\n",
    "    \n",
    "    userRatings_test  = prefs_test[user]\n",
    "    userRatings_train = prefs_train[user]\n",
    "    scores = {}\n",
    "    totalSim={}\n",
    "\n",
    "    # Цикл по образцам, оцененным данным пользователем\n",
    "    for (item,rating) in userRatings_train.items():\n",
    "        \n",
    "        if item not in itemMatch: continue\n",
    "            \n",
    "        # Цикл по образцам, похожим на данный\n",
    "        for (similarity,item2) in itemMatch[item]:\n",
    "            \n",
    "        # Пропускаем, если пользователь не оценивал данный образец в тестовой выборке\n",
    "        \n",
    "            if item2 not in userRatings_test: continue\n",
    "        # Взвешенная суммы оценок, умноженных на коэффициент подобия\n",
    "            scores.setdefault(item2,0)\n",
    "            scores[item2]+=similarity*rating\n",
    "        # Сумма всех коэффициентов подобия\n",
    "            totalSim.setdefault(item2,0)\n",
    "            totalSim[item2]+=similarity\n",
    "            if totalSim[item2]==0: totalSim[item2]=0.0000001 # чтобы избежать деления на ноль\n",
    "    # Делим каждую итоговую оценку на взвешенную сумму, чтобы вычислить\n",
    "    # среднее\n",
    "    rankings=[(score/totalSim[item],item) for item,score in scores.items( ) ]\n",
    "\n",
    "    # Возвращает список rankings, отсортированный по убыванию\n",
    "    rankings.sort( )\n",
    "    rankings.reverse( )\n",
    "    return rankings"
   ]
  },
  {
   "cell_type": "code",
   "execution_count": 104,
   "metadata": {
    "collapsed": false
   },
   "outputs": [],
   "source": [
    "###\n",
    "###  User based recommendations\n",
    "###\n",
    "\n",
    "def getRecommended_User_based (prefs_test, prefs_train, item_sim, user):\n",
    "    \n",
    "    prefs_top_matches = item_sim[user]\n",
    "    totals={}\n",
    "    simSums={}\n",
    "    \n",
    "    for (sim, other) in prefs_top_matches:\n",
    "    # сравнивать меня с собой же не нужно\n",
    "        if other == user: continue\n",
    "\n",
    "    # игнорировать нулевые и отрицательные оценки\n",
    "        if sim<=0: continue\n",
    "        for item in prefs_train[other]:\n",
    "    # оценивать только фильмы, которые есть в тесте\n",
    "            if item in prefs_test[user]:\n",
    "    # Коэффициент подобия * Оценка\n",
    "                totals.setdefault(item,0)\n",
    "                totals[item] += prefs_train[other][item]*sim\n",
    "        # Сумма коэффициентов подобия\n",
    "                simSums.setdefault(item,0)\n",
    "                simSums[item] += sim\n",
    "                \n",
    "    # Создать нормированный список\n",
    "    rankings=[(total/simSums[item],item) for item,total in totals.items( )]\n",
    "    # Вернуть отсортированный список\n",
    "    rankings.sort( )\n",
    "    rankings.reverse( )\n",
    "    return rankings"
   ]
  },
  {
   "cell_type": "code",
   "execution_count": 173,
   "metadata": {
    "collapsed": true
   },
   "outputs": [],
   "source": [
    "## error score function:\n",
    "## pow_val = 1 - MAE\n",
    "## pow_val = 2 - RMSE\n",
    "\n",
    "def Error_score (user_recommendations, user_true_scores, pow_val = 1):\n",
    "    \n",
    "    mae_value    = 0\n",
    "    counter_val  = 0\n",
    "    for film_score_iter in user_recommendations:\n",
    "        film_name = film_score_iter[1]\n",
    "        film_score = film_score_iter[0]\n",
    "        \n",
    "        if film_name in user_true_scores:\n",
    "            mae_value += abs(film_score - user_true_scores[film_name]) **pow_val\n",
    "            counter_val += 1\n",
    "        ##print (film_name, film_score_iter[0], user_true_scores[film_name])\n",
    "    \n",
    "    return [counter_val, mae_value]"
   ]
  },
  {
   "cell_type": "code",
   "execution_count": 174,
   "metadata": {
    "collapsed": false
   },
   "outputs": [],
   "source": [
    "## Calculate sum of error score\n",
    "##\n",
    "\n",
    "def get_error_score_for_test_data (prefs_test, prefs_train, itemsim = {}, \n",
    "                                   recom_type = \"item-based\", n_neighb = 5,  pow_val = 1, n_reco = 0):\n",
    "    err_score_total = 0\n",
    "    counter_total = 0\n",
    "\n",
    "    for user_id in prefs_test.keys():\n",
    "        ##print (user_id)\n",
    "        user_recommendations =  []\n",
    "        if recom_type == \"item-based\":\n",
    "            user_recommendations = getRecommended_Item_based (prefs_test, prefs_train, itemsim, user_id)\n",
    "            \n",
    "        elif recom_type == \"user-based\":\n",
    "            user_recommendations = getRecommended_User_based (prefs_test, prefs_train, item_sim, user_id)\n",
    "        \n",
    "        elif recom_type == \"user-based2\":\n",
    "            ## with user mean substraction\n",
    "            user_recommendations = getRecommended_User_based_v2 (prefs_test, prefs_train, item_sim, user_id)\n",
    "\n",
    "        elif recom_type == \"user-based3\":\n",
    "            ## with user mean substraction\n",
    "            user_recommendations = getRecommended_User_based_v3 (prefs_test, prefs_train, item_sim, user_id)\n",
    "            \n",
    "        else:\n",
    "            print ('\"recom_type\" not found')\n",
    "            break\n",
    "        \n",
    "        \n",
    "        if n_reco>0:\n",
    "            user_recommendations = user_recommendations[0:n_reco] \n",
    "        \n",
    "        ## print (user_recommendations[0:10])\n",
    "        counter_user, score_user = Error_score (user_recommendations, prefs_test[user_id], pow_val = pow_val)\n",
    "        err_score_total += score_user\n",
    "        counter_total += counter_user\n",
    "        ## print (user_recommendations)\n",
    "        \n",
    "        ## print (user_id)\n",
    "        ## print (score_user)\n",
    "    \n",
    "    if (counter_total == 0): counter_total = 0.0001\n",
    "    ## print (counter_total)    \n",
    "    \n",
    "    \n",
    "    err_score_total = err_score_total/counter_total\n",
    "    if pow_val == 2:\n",
    "        err_score_total = math.sqrt(err_score_total)\n",
    "    \n",
    "    return err_score_total"
   ]
  },
  {
   "cell_type": "code",
   "execution_count": 175,
   "metadata": {
    "collapsed": false
   },
   "outputs": [
    {
     "name": "stdout",
     "output_type": "stream",
     "text": [
      "100 / 1634\n",
      "200 / 1634\n",
      "300 / 1634\n",
      "400 / 1634\n",
      "500 / 1634\n",
      "600 / 1634\n",
      "700 / 1634\n",
      "800 / 1634\n",
      "900 / 1634\n",
      "1000 / 1634\n",
      "1100 / 1634\n",
      "1200 / 1634\n",
      "1300 / 1634\n",
      "1400 / 1634\n",
      "1500 / 1634\n",
      "1600 / 1634\n",
      "(1.1834073831552823, 1.5779550501084765)\n"
     ]
    }
   ],
   "source": [
    "##\n",
    "##  Get item-based recommendations errors\n",
    "##\n",
    "\n",
    "n_neighb_val = 1\n",
    "itemsim=calculateSimilarItems(prefs_train, n = n_neighb_val, verbose = True)\n",
    "mae_error_val = get_error_score_for_test_data (prefs_test, prefs_train,  itemsim = itemsim, n_neighb = n_neighb_val, recom_type = \"item-based\", pow_val = 1)\n",
    "rmse_error_val = get_error_score_for_test_data (prefs_test, prefs_train, itemsim = itemsim, n_neighb = n_neighb_val, recom_type = \"item-based\", pow_val = 2)\n",
    "\n",
    "print (mae_error_val, rmse_error_val)"
   ]
  },
  {
   "cell_type": "code",
   "execution_count": 176,
   "metadata": {
    "collapsed": false,
    "scrolled": true
   },
   "outputs": [
    {
     "name": "stdout",
     "output_type": "stream",
     "text": [
      "[  1   5  10  15  20  25  30  35  40  45  50  55  60  65  70  75  80  85\n",
      "  90  95 100]\n"
     ]
    }
   ],
   "source": [
    "## create iteration list for number of neigbours\n",
    "##\n",
    "\n",
    "np_arr = np.arange(5,101,5)\n",
    "np_arr = np.concatenate([np.array([1]),np_arr])\n",
    "print (np_arr)\n"
   ]
  },
  {
   "cell_type": "code",
   "execution_count": 177,
   "metadata": {
    "collapsed": false
   },
   "outputs": [
    {
     "name": "stdout",
     "output_type": "stream",
     "text": [
      "('Number of neighbours: ', 1)\n",
      "(1.1834073831552823, 1.5779550501084765)\n",
      "('Number of neighbours: ', 5)\n",
      "(1.150383927489475, 1.5091736340707136)\n",
      "('Number of neighbours: ', 10)\n"
     ]
    },
    {
     "ename": "KeyboardInterrupt",
     "evalue": "",
     "output_type": "error",
     "traceback": [
      "\u001b[1;31m---------------------------------------------------------------------------\u001b[0m",
      "\u001b[1;31mKeyboardInterrupt\u001b[0m                         Traceback (most recent call last)",
      "\u001b[1;32m<ipython-input-177-07de8e17f77a>\u001b[0m in \u001b[0;36m<module>\u001b[1;34m()\u001b[0m\n\u001b[0;32m      8\u001b[0m \u001b[1;32mfor\u001b[0m \u001b[0mneighb_val\u001b[0m \u001b[1;32min\u001b[0m \u001b[0mnp_arr\u001b[0m\u001b[1;33m:\u001b[0m\u001b[1;33m\u001b[0m\u001b[0m\n\u001b[0;32m      9\u001b[0m     \u001b[1;32mprint\u001b[0m \u001b[1;33m(\u001b[0m\u001b[1;34m\"Number of neighbours: \"\u001b[0m\u001b[1;33m,\u001b[0m \u001b[0mneighb_val\u001b[0m\u001b[1;33m)\u001b[0m\u001b[1;33m\u001b[0m\u001b[0m\n\u001b[1;32m---> 10\u001b[1;33m     \u001b[0mitemsim\u001b[0m\u001b[1;33m=\u001b[0m\u001b[0mcalculateSimilarItems\u001b[0m\u001b[1;33m(\u001b[0m\u001b[0mprefs_train\u001b[0m\u001b[1;33m,\u001b[0m\u001b[0mn\u001b[0m\u001b[1;33m=\u001b[0m\u001b[0mneighb_val\u001b[0m\u001b[1;33m,\u001b[0m \u001b[0mverbose\u001b[0m \u001b[1;33m=\u001b[0m \u001b[0mFalse\u001b[0m\u001b[1;33m)\u001b[0m\u001b[1;33m\u001b[0m\u001b[0m\n\u001b[0m\u001b[0;32m     11\u001b[0m     \u001b[0mmae_error_val\u001b[0m \u001b[1;33m=\u001b[0m \u001b[0mget_error_score_for_test_data\u001b[0m \u001b[1;33m(\u001b[0m\u001b[0mprefs_test\u001b[0m\u001b[1;33m,\u001b[0m \u001b[0mprefs_train\u001b[0m\u001b[1;33m,\u001b[0m \u001b[0mitemsim\u001b[0m \u001b[1;33m=\u001b[0m \u001b[0mitemsim\u001b[0m\u001b[1;33m,\u001b[0m \u001b[0mpow_val\u001b[0m \u001b[1;33m=\u001b[0m \u001b[1;36m1\u001b[0m\u001b[1;33m)\u001b[0m\u001b[1;33m\u001b[0m\u001b[0m\n\u001b[0;32m     12\u001b[0m     \u001b[0mrmse_error_val\u001b[0m \u001b[1;33m=\u001b[0m \u001b[0mget_error_score_for_test_data\u001b[0m \u001b[1;33m(\u001b[0m\u001b[0mprefs_test\u001b[0m\u001b[1;33m,\u001b[0m \u001b[0mprefs_train\u001b[0m\u001b[1;33m,\u001b[0m \u001b[0mitemsim\u001b[0m \u001b[1;33m=\u001b[0m \u001b[0mitemsim\u001b[0m\u001b[1;33m,\u001b[0m \u001b[0mpow_val\u001b[0m \u001b[1;33m=\u001b[0m \u001b[1;36m2\u001b[0m\u001b[1;33m)\u001b[0m\u001b[1;33m\u001b[0m\u001b[0m\n",
      "\u001b[1;32m<ipython-input-15-8fbaaa362c1a>\u001b[0m in \u001b[0;36mcalculateSimilarItems\u001b[1;34m(prefs, n, verbose)\u001b[0m\n\u001b[0;32m     12\u001b[0m             \u001b[1;32mif\u001b[0m \u001b[0mc\u001b[0m\u001b[1;33m%\u001b[0m\u001b[1;36m100\u001b[0m\u001b[1;33m==\u001b[0m\u001b[1;36m0\u001b[0m\u001b[1;33m:\u001b[0m \u001b[1;32mprint\u001b[0m \u001b[1;34m\"%d / %d\"\u001b[0m \u001b[1;33m%\u001b[0m \u001b[1;33m(\u001b[0m\u001b[0mc\u001b[0m\u001b[1;33m,\u001b[0m\u001b[0mlen\u001b[0m\u001b[1;33m(\u001b[0m\u001b[0mitemPrefs\u001b[0m\u001b[1;33m)\u001b[0m\u001b[1;33m)\u001b[0m\u001b[1;33m\u001b[0m\u001b[0m\n\u001b[0;32m     13\u001b[0m     \u001b[1;31m# Найти образцы, максимально похожие на данный\u001b[0m\u001b[1;33m\u001b[0m\u001b[1;33m\u001b[0m\u001b[0m\n\u001b[1;32m---> 14\u001b[1;33m         \u001b[0mscores\u001b[0m\u001b[1;33m=\u001b[0m\u001b[0mtopMatches\u001b[0m\u001b[1;33m(\u001b[0m\u001b[0mitemPrefs\u001b[0m\u001b[1;33m,\u001b[0m\u001b[0mitem\u001b[0m\u001b[1;33m,\u001b[0m\u001b[0mn\u001b[0m\u001b[1;33m=\u001b[0m\u001b[0mn\u001b[0m\u001b[1;33m,\u001b[0m\u001b[0msimilarity\u001b[0m\u001b[1;33m=\u001b[0m\u001b[0msim_distance\u001b[0m\u001b[1;33m)\u001b[0m\u001b[1;33m\u001b[0m\u001b[0m\n\u001b[0m\u001b[0;32m     15\u001b[0m         \u001b[0mresult\u001b[0m\u001b[1;33m[\u001b[0m\u001b[0mitem\u001b[0m\u001b[1;33m]\u001b[0m\u001b[1;33m=\u001b[0m\u001b[0mscores\u001b[0m\u001b[1;33m\u001b[0m\u001b[0m\n\u001b[0;32m     16\u001b[0m     \u001b[1;32mreturn\u001b[0m \u001b[0mresult\u001b[0m\u001b[1;33m\u001b[0m\u001b[0m\n",
      "\u001b[1;32m<ipython-input-69-f8a4d24841a5>\u001b[0m in \u001b[0;36mtopMatches\u001b[1;34m(prefs, person, n, similarity)\u001b[0m\n\u001b[0;32m      4\u001b[0m \u001b[1;32mdef\u001b[0m \u001b[0mtopMatches\u001b[0m\u001b[1;33m(\u001b[0m\u001b[0mprefs\u001b[0m\u001b[1;33m,\u001b[0m\u001b[0mperson\u001b[0m\u001b[1;33m,\u001b[0m\u001b[0mn\u001b[0m\u001b[1;33m=\u001b[0m\u001b[1;36m5\u001b[0m\u001b[1;33m,\u001b[0m\u001b[0msimilarity\u001b[0m\u001b[1;33m=\u001b[0m\u001b[0msim_pearson\u001b[0m\u001b[1;33m)\u001b[0m\u001b[1;33m:\u001b[0m\u001b[1;33m\u001b[0m\u001b[0m\n\u001b[0;32m      5\u001b[0m     scores=[(similarity(prefs,person,other),other)\n\u001b[1;32m----> 6\u001b[1;33m     for other in prefs if other!=person]\n\u001b[0m\u001b[0;32m      7\u001b[0m     \u001b[1;31m# Отсортировать список по убыванию оценок\u001b[0m\u001b[1;33m\u001b[0m\u001b[1;33m\u001b[0m\u001b[0m\n\u001b[0;32m      8\u001b[0m     \u001b[0mscores\u001b[0m\u001b[1;33m.\u001b[0m\u001b[0msort\u001b[0m\u001b[1;33m(\u001b[0m \u001b[1;33m)\u001b[0m\u001b[1;33m\u001b[0m\u001b[0m\n",
      "\u001b[1;32m<ipython-input-65-9c12fb5b4ce7>\u001b[0m in \u001b[0;36msim_distance\u001b[1;34m(prefs, person1, person2)\u001b[0m\n\u001b[0;32m      1\u001b[0m \u001b[1;32mfrom\u001b[0m \u001b[0mmath\u001b[0m \u001b[1;32mimport\u001b[0m \u001b[0msqrt\u001b[0m\u001b[1;33m\u001b[0m\u001b[0m\n\u001b[0;32m      2\u001b[0m \u001b[1;31m# Возвращает сходство person1 и person2 на основе расстояния\u001b[0m\u001b[1;33m\u001b[0m\u001b[1;33m\u001b[0m\u001b[0m\n\u001b[1;32m----> 3\u001b[1;33m \u001b[1;32mdef\u001b[0m \u001b[0msim_distance\u001b[0m\u001b[1;33m(\u001b[0m\u001b[0mprefs\u001b[0m\u001b[1;33m,\u001b[0m\u001b[0mperson1\u001b[0m\u001b[1;33m,\u001b[0m\u001b[0mperson2\u001b[0m\u001b[1;33m)\u001b[0m\u001b[1;33m:\u001b[0m\u001b[1;33m\u001b[0m\u001b[0m\n\u001b[0m\u001b[0;32m      4\u001b[0m \u001b[1;31m# Получить список предметов, оцененных обоими\u001b[0m\u001b[1;33m\u001b[0m\u001b[1;33m\u001b[0m\u001b[0m\n\u001b[0;32m      5\u001b[0m     \u001b[0msi\u001b[0m\u001b[1;33m=\u001b[0m\u001b[1;33m{\u001b[0m\u001b[1;33m}\u001b[0m\u001b[1;33m\u001b[0m\u001b[0m\n",
      "\u001b[1;31mKeyboardInterrupt\u001b[0m: "
     ]
    }
   ],
   "source": [
    "##\n",
    "##  Get item-based recommendations errors\n",
    "##\n",
    "\n",
    "mae_array = []\n",
    "rmse_array = []\n",
    "\n",
    "for neighb_val in np_arr:\n",
    "    print (\"Number of neighbours: \", neighb_val)\n",
    "    itemsim=calculateSimilarItems(prefs_train,n=neighb_val, verbose = False)\n",
    "    mae_error_val = get_error_score_for_test_data (prefs_test, prefs_train, itemsim = itemsim, pow_val = 1)\n",
    "    rmse_error_val = get_error_score_for_test_data (prefs_test, prefs_train, itemsim = itemsim, pow_val = 2)\n",
    "    print (mae_error_val, rmse_error_val)\n",
    "    mae_array +=[mae_error_val]\n",
    "    rmse_array +=[rmse_error_val]\n",
    "    "
   ]
  },
  {
   "cell_type": "code",
   "execution_count": 113,
   "metadata": {
    "collapsed": false
   },
   "outputs": [
    {
     "data": {
      "image/png": "[encoded data removed]",
      "text/plain": [
       "<matplotlib.figure.Figure at 0x7f68d41f90d0>"
      ]
     },
     "metadata": {},
     "output_type": "display_data"
    }
   ],
   "source": [
    "##\n",
    "##  Graph item based recommendations errors\n",
    "##\n",
    "\n",
    "plt.plot(np_arr, mae_array, label='MAE')\n",
    "plt.plot(np_arr, rmse_array, label = 'RMSE')\n",
    "\n",
    "plt.legend()\n",
    "plt.ylabel('error val')\n",
    "plt.xlabel('number of neigbours')\n",
    "\n",
    "plt.show()"
   ]
  },
  {
   "cell_type": "code",
   "execution_count": 114,
   "metadata": {
    "collapsed": false,
    "scrolled": true
   },
   "outputs": [
    {
     "data": {
      "text/plain": [
       "array([[  1.        ,   1.18340738],\n",
       "       [  5.        ,   1.15038393],\n",
       "       [ 10.        ,   1.12903211],\n",
       "       [ 15.        ,   1.09962359],\n",
       "       [ 20.        ,   1.07585107],\n",
       "       [ 25.        ,   1.07806431],\n",
       "       [ 30.        ,   1.06387532],\n",
       "       [ 35.        ,   1.04952155],\n",
       "       [ 40.        ,   1.05311589],\n",
       "       [ 45.        ,   1.05476518]])"
      ]
     },
     "execution_count": 114,
     "metadata": {},
     "output_type": "execute_result"
    }
   ],
   "source": [
    "## Минимум стабилизируется на 30 соседях\n",
    "\n",
    "np.column_stack ([np_arr,mae_array])[0:10]"
   ]
  },
  {
   "cell_type": "code",
   "execution_count": 115,
   "metadata": {
    "collapsed": false
   },
   "outputs": [],
   "source": [
    "def calculateSimilarUsers(prefs_train, prefs_test, n = 40, similarity=sim_pearson, verbose = True):\n",
    "    # Создать словарь, содержащий для каждого образца те образцы, которые\n",
    "    # больше всего похожи на него.\n",
    "    result={}\n",
    "    c=0\n",
    "\n",
    "    for user in prefs_test.keys():\n",
    "        c+=1\n",
    "        if verbose:\n",
    "            if c%100==0: print \"%d / %d\" % (c,len(prefs_test.keys()))\n",
    "                \n",
    "        matches = topMatches (prefs_train, user, n=n, similarity=sim_pearson)\n",
    "        result.setdefault(user,[])\n",
    "        result [user] = matches\n",
    "    return result\n",
    "\n"
   ]
  },
  {
   "cell_type": "code",
   "execution_count": 116,
   "metadata": {
    "collapsed": false
   },
   "outputs": [
    {
     "name": "stdout",
     "output_type": "stream",
     "text": [
      "('Number of neighbours: ', 1)\n",
      "974\n",
      "974\n",
      "(1.1139630390143738, 0.03381862236550432)\n",
      "('Number of neighbours: ', 5)\n",
      "3228\n",
      "3228\n",
      "(1.070338882937175, 0.01820932672001902)\n",
      "('Number of neighbours: ', 10)\n",
      "4775\n",
      "4775\n",
      "(1.0351232453057773, 0.014723441759208747)\n",
      "('Number of neighbours: ', 15)\n",
      "5937\n",
      "5937\n",
      "(1.0212361245943915, 0.01311534019090335)\n",
      "('Number of neighbours: ', 20)\n",
      "6939\n",
      "6939\n",
      "(0.9941357796864864, 0.011969455889400156)\n",
      "('Number of neighbours: ', 25)\n",
      "7783\n",
      "7783\n",
      "(0.9829414081067129, 0.011238032926444652)\n",
      "('Number of neighbours: ', 30)\n",
      "8623\n",
      "8623\n",
      "(0.9680824506983491, 0.010595634789727344)\n",
      "('Number of neighbours: ', 35)\n",
      "9405\n",
      "9405\n",
      "(0.9611271342629553, 0.010109065702857224)\n",
      "('Number of neighbours: ', 40)\n",
      "10204\n",
      "10204\n",
      "(0.9467473146031321, 0.009632340270512647)\n",
      "('Number of neighbours: ', 45)\n",
      "11034\n",
      "11034\n",
      "(0.9355611337104225, 0.009208090858506561)\n",
      "('Number of neighbours: ', 50)\n",
      "11797\n",
      "11797\n",
      "(0.9300202011488066, 0.008878925281827672)\n",
      "('Number of neighbours: ', 55)\n",
      "12618\n",
      "12618\n",
      "(0.917953330721559, 0.008529332393170861)\n",
      "('Number of neighbours: ', 60)\n",
      "13341\n",
      "13341\n",
      "(0.9110005681475773, 0.008263520937745144)\n",
      "('Number of neighbours: ', 65)\n",
      "13997\n",
      "13997\n",
      "(0.9054906104051773, 0.008043119000980052)\n",
      "('Number of neighbours: ', 70)\n",
      "14588\n",
      "14588\n",
      "(0.9013408256848153, 0.00786043614444624)\n",
      "('Number of neighbours: ', 75)\n",
      "15132\n",
      "15132\n",
      "(0.8955667940722616, 0.00769309020700649)\n",
      "('Number of neighbours: ', 80)\n",
      "15594\n",
      "15594\n",
      "(0.88562594678588, 0.007536095632704557)\n",
      "('Number of neighbours: ', 85)\n",
      "16021\n",
      "16021\n",
      "(0.8811094038470978, 0.007416006605704334)\n",
      "('Number of neighbours: ', 90)\n",
      "16505\n",
      "16505\n",
      "(0.8767510448616278, 0.007288369494725596)\n",
      "('Number of neighbours: ', 95)\n",
      "16879\n",
      "16879\n",
      "(0.8710182903140229, 0.007183569217667455)\n",
      "('Number of neighbours: ', 100)\n",
      "17174\n",
      "17174\n",
      "(0.861013777425351, 0.007080587941570145)\n"
     ]
    }
   ],
   "source": [
    "##  User based recommendations\n",
    "##\n",
    "\n",
    "mae_array = []\n",
    "rmse_array = []\n",
    "\n",
    "for neighb_val in np_arr:\n",
    "    \n",
    "    print (\"Number of neighbours: \", neighb_val)\n",
    "    item_sim = calculateSimilarUsers (prefs_train, prefs_train, n = neighb_val, verbose = False)\n",
    "    mae_error_val  = get_error_score_for_test_data (prefs_test, prefs_train,  itemsim = item_sim, n_neighb = neighb_val, recom_type = \"user-based\", pow_val = 1)\n",
    "    rmse_error_val = get_error_score_for_test_data (prefs_test, prefs_train,  itemsim = item_sim, n_neighb = neighb_val, recom_type = \"user-based\", pow_val = 2)\n",
    "    print (mae_error_val, rmse_error_val)\n",
    "    mae_array +=[mae_error_val]\n",
    "    rmse_array +=[rmse_error_val]\n",
    "    "
   ]
  },
  {
   "cell_type": "code",
   "execution_count": 117,
   "metadata": {
    "collapsed": false
   },
   "outputs": [
    {
     "data": {
      "image/png": "[encoded data removed]",
      "text/plain": [
       "<matplotlib.figure.Figure at 0x7f68cd99c4d0>"
      ]
     },
     "metadata": {},
     "output_type": "display_data"
    }
   ],
   "source": [
    "##\n",
    "##  Graph user based recommendations errors\n",
    "##\n",
    "\n",
    "plt.plot(np_arr, mae_array, label='MAE')\n",
    "plt.plot(np_arr, rmse_array, label = 'RMSE')\n",
    "\n",
    "plt.legend()\n",
    "plt.ylabel('error val')\n",
    "plt.xlabel('number of neigbours')\n",
    "\n",
    "plt.show()"
   ]
  },
  {
   "cell_type": "code",
   "execution_count": 118,
   "metadata": {
    "collapsed": false
   },
   "outputs": [
    {
     "data": {
      "text/plain": [
       "array([[  1.        ,   1.11396304],\n",
       "       [  5.        ,   1.07033888],\n",
       "       [ 10.        ,   1.03512325],\n",
       "       [ 15.        ,   1.02123612],\n",
       "       [ 20.        ,   0.99413578],\n",
       "       [ 25.        ,   0.98294141],\n",
       "       [ 30.        ,   0.96808245],\n",
       "       [ 35.        ,   0.96112713],\n",
       "       [ 40.        ,   0.94674731],\n",
       "       [ 45.        ,   0.93556113]])"
      ]
     },
     "execution_count": 118,
     "metadata": {},
     "output_type": "execute_result"
    }
   ],
   "source": [
    "## Минимум продолжает уменьшаться при увеличении количества пользователей.\n",
    "\n",
    "np.column_stack ([np_arr,mae_array])[0:10]"
   ]
  },
  {
   "cell_type": "markdown",
   "metadata": {},
   "source": [
    "3. Если качество предсказаний слишком низкое (MAE>2,0), то попробуйте формулы 2.6 и 2.7 из обзора http://files.grouplens.org/papers/FnT%20CF%20Recsys%20Survey.pdf.\n",
    "Можно использовать альтернативные формулы для исходной модели $r_{u,i} = k\\sum\\limits_{u^\\prime \\in U}\\operatorname{sim}(u,u^\\prime)r_{u^\\prime, i} \\mbox{ (случай user-based модели):}$\n",
    "$$r_{u,i} = \\frac{1}{N}\\sum\\limits_{u^\\prime \\in U}r_{u^\\prime, i}$$\n",
    "$$r_{u,i} = \\bar{r_u} +  k\\sum\\limits_{u^\\prime \\in U} sim(u,u^\\prime)(r_{u^\\prime, i}-\\bar{r_{u^\\prime}} ) \\mbox{, где } k =1/\\sum_{u^\\prime \\in U}|\\operatorname{sim}(u,u^\\prime)|.$$"
   ]
  },
  {
   "cell_type": "code",
   "execution_count": 128,
   "metadata": {
    "collapsed": true
   },
   "outputs": [],
   "source": [
    "###\n",
    "###  User based recommendations\n",
    "###\n",
    "\n",
    "## with mean substraction\n",
    "\n",
    "def getRecommended_User_based_v2 (prefs_test, prefs_train, item_sim, user):\n",
    "    \n",
    "    prefs_top_matches = item_sim[user]\n",
    "    totals={}\n",
    "    simSums={}\n",
    "    \n",
    "    mean_user = sum(prefs_train[user][item] for item in prefs_train[user])/len(prefs_train[user])\n",
    "    \n",
    "    \n",
    "    for (sim, other) in prefs_top_matches:\n",
    "    # сравнивать меня с собой же не нужно\n",
    "        if other == user: continue\n",
    "        mean_other = sum(prefs_train[other][item] for item in prefs_train[other])/len(prefs_train[other])\n",
    "        \n",
    "    # игнорировать нулевые и отрицательные оценки\n",
    "        if sim<=0: continue\n",
    "        for item in prefs_train[other]:\n",
    "    # оценивать только фильмы, которые есть в тесте\n",
    "            if item in prefs_test[user]:\n",
    "    # Коэффициент подобия * Оценка\n",
    "                totals.setdefault(item,0)\n",
    "                totals[item] += (prefs_train[other][item] - mean_other) *sim\n",
    "        # Сумма коэффициентов подобия\n",
    "                simSums.setdefault(item,0)\n",
    "                simSums[item] += sim\n",
    "                \n",
    "\n",
    "                \n",
    "    # Создать нормированный список\n",
    "    rankings=[(mean_user + total/simSums[item],item) for item,total in totals.items( )]\n",
    "    # Вернуть отсортированный список\n",
    "    rankings.sort( )\n",
    "    rankings.reverse( )\n",
    "    return rankings"
   ]
  },
  {
   "cell_type": "code",
   "execution_count": 129,
   "metadata": {
    "collapsed": false
   },
   "outputs": [],
   "source": [
    "item_sim = calculateSimilarUsers (prefs_train, prefs_train, n = 30, verbose = False)\n"
   ]
  },
  {
   "cell_type": "code",
   "execution_count": 137,
   "metadata": {
    "collapsed": false
   },
   "outputs": [
    {
     "name": "stdout",
     "output_type": "stream",
     "text": [
      "old recommendation list:\n",
      "[(4.513167019494862, 'Secrets & Lies (1996)'), (4.510333259442322, 'Clueless (1995)'), (4.39329978324303, 'Godfather, The (1972)'), (4.30056337382839, 'Tomorrow Never Dies (1997)'), (4.244776452610301, 'Full Monty, The (1997)'), (4.16271173892865, \"Ulee's Gold (1997)\"), (4.0, 'Mighty Aphrodite (1995)'), (4.0, 'Heat (1995)'), (3.973849333685201, 'Leaving Las Vegas (1995)'), (3.9207896100569415, 'Wings of the Dove, The (1997)'), (3.690711997094568, 'Silence of the Lambs, The (1991)'), (3.0, 'Wrong Trousers, The (1993)'), (3.0, 'First Wives Club, The (1996)'), (3.0, 'Aladdin (1992)')]\n",
      "\n",
      "\n",
      "new recommendation list:\n",
      "[(4.629305258575195, 'Godfather, The (1972)'), (4.46342812163157, 'Secrets & Lies (1996)'), (4.416972192942474, \"Ulee's Gold (1997)\"), (4.413432395363291, 'Clueless (1995)'), (4.391707234977075, 'Full Monty, The (1997)'), (4.388154257552725, 'Tomorrow Never Dies (1997)'), (4.289499171405507, 'Wings of the Dove, The (1997)'), (4.193392477414005, 'Silence of the Lambs, The (1991)'), (4.173283575973565, 'Leaving Las Vegas (1995)'), (3.745873874665813, 'Mighty Aphrodite (1995)'), (3.4276315789473686, 'Heat (1995)'), (3.106203007518797, 'Wrong Trousers, The (1993)'), (3.0776315789473685, 'Aladdin (1992)'), (2.730263157894737, 'First Wives Club, The (1996)')]\n"
     ]
    }
   ],
   "source": [
    "print (\"old recommendation list:\")\n",
    "print (getRecommended_User_based (prefs_test, prefs_train, item_sim, '344'))\n",
    "\n",
    "print (\"\\n\")\n",
    "print (\"new recommendation list:\")\n",
    "print (getRecommended_User_based_v2 (prefs_test, prefs_train, item_sim, '344'))"
   ]
  },
  {
   "cell_type": "code",
   "execution_count": 145,
   "metadata": {
    "collapsed": false
   },
   "outputs": [
    {
     "name": "stdout",
     "output_type": "stream",
     "text": [
      "('Number of neighbours: ', 1)\n",
      "974\n",
      "974\n",
      "(1.1048103811817984, 0.033679403786384995)\n",
      "('Number of neighbours: ', 5)\n",
      "3228\n",
      "3228\n",
      "(1.0597483495228304, 0.018119016121338868)\n",
      "('Number of neighbours: ', 10)\n",
      "4775\n",
      "4775\n",
      "(1.0233788223979357, 0.01463967800977652)\n",
      "('Number of neighbours: ', 15)\n",
      "5937\n",
      "5937\n",
      "(1.005834836938332, 0.013016068100315026)\n",
      "('Number of neighbours: ', 20)\n",
      "6939\n",
      "6939\n",
      "(0.9744212535343494, 0.011850179538088564)\n",
      "('Number of neighbours: ', 25)\n",
      "7783\n",
      "7783\n",
      "(0.9626122539415799, 0.011121213487340928)\n",
      "('Number of neighbours: ', 30)\n",
      "8623\n",
      "8623\n",
      "(0.948646692216957, 0.010488733606609109)\n",
      "('Number of neighbours: ', 35)\n",
      "9405\n",
      "9405\n",
      "(0.9414603519897505, 0.010005104236890392)\n",
      "('Number of neighbours: ', 40)\n",
      "10204\n",
      "10204\n",
      "(0.9289377066760013, 0.009541311416531613)\n",
      "('Number of neighbours: ', 45)\n",
      "11034\n",
      "11034\n",
      "(0.9156148192528134, 0.009109403022334175)\n",
      "('Number of neighbours: ', 50)\n",
      "11797\n",
      "11797\n",
      "(0.9065442806398335, 0.008766146441940086)\n",
      "('Number of neighbours: ', 55)\n",
      "12618\n",
      "12618\n",
      "(0.8943733776745365, 0.008419070962907378)\n",
      "('Number of neighbours: ', 60)\n",
      "13341\n",
      "13341\n",
      "(0.886618848060713, 0.008152189898393761)\n",
      "('Number of neighbours: ', 65)\n",
      "13997\n",
      "13997\n",
      "(0.8792661709951153, 0.007925792549634277)\n",
      "('Number of neighbours: ', 70)\n",
      "14588\n",
      "14588\n",
      "(0.8742165031274598, 0.007741259447200012)\n",
      "('Number of neighbours: ', 75)\n",
      "15132\n",
      "15132\n",
      "(0.864515819612174, 0.007558546793754158)\n",
      "('Number of neighbours: ', 80)\n",
      "15594\n",
      "15594\n",
      "(0.8560462428836737, 0.007409174917391329)\n",
      "('Number of neighbours: ', 85)\n",
      "16021\n",
      "16021\n",
      "(0.8503315506958243, 0.007285331810581917)\n",
      "('Number of neighbours: ', 90)\n",
      "16505\n",
      "16505\n",
      "(0.8435961995135735, 0.00714923450762747)\n",
      "('Number of neighbours: ', 95)\n",
      "16879\n",
      "16879\n",
      "(0.8345112076585632, 0.0070314149862908525)\n",
      "('Number of neighbours: ', 100)\n",
      "17174\n",
      "17174\n",
      "(0.8243988864852083, 0.006928400254410501)\n"
     ]
    }
   ],
   "source": [
    "##  User based recommendations\n",
    "##\n",
    "\n",
    "mae_array = []\n",
    "rmse_array = []\n",
    "\n",
    "for neighb_val in np_arr:\n",
    "    \n",
    "    print (\"Number of neighbours: \", neighb_val)\n",
    "    item_sim = calculateSimilarUsers (prefs_train, prefs_train, n = neighb_val, verbose = False)\n",
    "    mae_error_val  = get_error_score_for_test_data (prefs_test, prefs_train,  itemsim = item_sim, n_neighb = neighb_val, recom_type = \"user-based2\", pow_val = 1)\n",
    "    rmse_error_val = get_error_score_for_test_data (prefs_test, prefs_train,  itemsim = item_sim, n_neighb = neighb_val, recom_type = \"user-based2\", pow_val = 2)\n",
    "    print (mae_error_val, rmse_error_val)\n",
    "    mae_array +=[mae_error_val]\n",
    "    rmse_array +=[rmse_error_val]"
   ]
  },
  {
   "cell_type": "code",
   "execution_count": 146,
   "metadata": {
    "collapsed": false
   },
   "outputs": [
    {
     "data": {
      "image/png": "[encoded data removed]",
      "text/plain": [
       "<matplotlib.figure.Figure at 0x7f68d6acb710>"
      ]
     },
     "metadata": {},
     "output_type": "display_data"
    }
   ],
   "source": [
    "##\n",
    "##  Graph user based recommendations errors with mean substracted\n",
    "##\n",
    "\n",
    "plt.plot(np_arr, mae_array, label='MAE')\n",
    "plt.plot(np_arr, rmse_array, label = 'RMSE')\n",
    "\n",
    "plt.legend()\n",
    "plt.ylabel('error val')\n",
    "plt.xlabel('number of neigbours')\n",
    "\n",
    "plt.show()"
   ]
  },
  {
   "cell_type": "code",
   "execution_count": 155,
   "metadata": {
    "collapsed": false
   },
   "outputs": [],
   "source": [
    "###\n",
    "###  User based recommendations\n",
    "###\n",
    "\n",
    "##  with mean and std substraction\n",
    "##\n",
    "\n",
    "def getRecommended_User_based_v3 (prefs_test, prefs_train, item_sim, user):\n",
    "    \n",
    "    prefs_top_matches = item_sim[user]\n",
    "    totals={}\n",
    "    simSums={}\n",
    "    \n",
    "    mean_user = sum(prefs_train[user][item] for item in prefs_train[user])/len(prefs_train[user])\n",
    "    std_user  = np.std(list(prefs_train[user][item] for item in prefs_train[user]))\n",
    "    \n",
    "    for (sim, other) in prefs_top_matches:\n",
    "    # сравнивать меня с собой же не нужно\n",
    "        if other == user: continue\n",
    "        mean_other = sum(prefs_train[other][item] for item in prefs_train[other])/len(prefs_train[other])\n",
    "        std_other  = np.std(list(prefs_train[other][item] for item in prefs_train[other]))\n",
    "                           \n",
    "    # игнорировать нулевые и отрицательные оценки\n",
    "        if sim<=0: continue\n",
    "        for item in prefs_train[other]:\n",
    "    # оценивать только фильмы, которые есть в тесте\n",
    "            if item in prefs_test[user]:\n",
    "    # Коэффициент подобия * Оценка\n",
    "                totals.setdefault(item,0)\n",
    "                totals[item] += (prefs_train[other][item] - mean_other) *sim / std_other\n",
    "        # Сумма коэффициентов подобия\n",
    "                simSums.setdefault(item,0)\n",
    "                simSums[item] += sim\n",
    "                \n",
    "\n",
    "                \n",
    "    # Создать нормированный список\n",
    "    rankings=[(mean_user + std_user * total/simSums[item],item) for item,total in totals.items( )]\n",
    "    # Вернуть отсортированный список\n",
    "    rankings.sort( )\n",
    "    rankings.reverse( )\n",
    "    return rankings"
   ]
  },
  {
   "cell_type": "code",
   "execution_count": 156,
   "metadata": {
    "collapsed": false
   },
   "outputs": [
    {
     "name": "stdout",
     "output_type": "stream",
     "text": [
      "old recommendation list:\n",
      "[(5.0, 'Beautiful Thing (1996)'), (4.552004480775902, 'Local Hero (1983)'), (4.482393162712514, 'Godfather, The (1972)'), (4.354656753935738, 'Secrets & Lies (1996)'), (4.28628478179148, 'Strictly Ballroom (1992)'), (4.192336245439397, 'Philadelphia Story, The (1940)'), (4.138206746680092, 'Full Monty, The (1997)'), (4.13250921706428, 'Remains of the Day, The (1993)'), (4.08168348309007, 'Silence of the Lambs, The (1991)'), (4.009339232524528, 'Lion King, The (1994)'), (4.0, 'Persuasion (1995)'), (3.944860537495577, 'Wings of the Dove, The (1997)'), (3.9318231529209036, 'Leaving Las Vegas (1995)'), (3.868875935471928, \"Ulee's Gold (1997)\"), (3.844333059148385, 'Mighty Aphrodite (1995)'), (3.8352370234569495, 'Get Shorty (1995)'), (3.5796017574932044, 'Unforgiven (1992)'), (3.5399598892880633, 'Seven (Se7en) (1995)'), (3.5133884217515052, 'His Girl Friday (1940)'), (3.5129924428235286, 'Brothers McMullen, The (1995)'), (3.4720312596111307, 'Tomorrow Never Dies (1997)'), (3.365228334004978, 'Heat (1995)'), (3.3448132429589275, 'Terminator 2: Judgment Day (1991)'), (3.343286652543617, 'Clueless (1995)'), (3.2854021740060504, 'Wrong Trousers, The (1993)'), (3.248609701779783, 'Othello (1995)'), (3.1482699677585835, 'Twister (1996)'), (3.094173000527302, 'Ransom (1996)'), (3.0, 'Female Perversions (1996)'), (2.926286895017758, 'River Wild, The (1994)'), (2.839954429299015, 'Mars Attacks! (1996)'), (2.521650553930222, 'Craft, The (1996)'), (2.4741313724481833, 'My Fellow Americans (1996)'), (2.4002746425611714, 'Aladdin (1992)'), (2.3875838015612247, 'Cable Guy, The (1996)'), (2.3428070274066597, 'First Wives Club, The (1996)'), (1.0, 'Quick and the Dead, The (1995)')]\n",
      "\n",
      "\n",
      "new recommendation list:\n",
      "[(4.6841250079206205, 'Godfather, The (1972)'), (4.4225984216363159, 'Lion King, The (1994)'), (4.4188576012130714, 'Secrets & Lies (1996)'), (4.4103355369192778, 'Beautiful Thing (1996)'), (4.38109393463745, 'Silence of the Lambs, The (1991)'), (4.3377856479449139, 'Full Monty, The (1997)'), (4.2983732418790348, 'Local Hero (1983)'), (4.2485866698504635, 'Strictly Ballroom (1992)'), (4.1511305113170796, 'Philadelphia Story, The (1940)'), (4.0985311421365589, 'Remains of the Day, The (1993)'), (4.0797057141165487, 'Wings of the Dove, The (1997)'), (3.9930903047948689, 'Leaving Las Vegas (1995)'), (3.9709883131119463, 'Female Perversions (1996)'), (3.9644837673727582, 'Mighty Aphrodite (1995)'), (3.956038340113758, 'Get Shorty (1995)'), (3.9524559483295447, \"Ulee's Gold (1997)\"), (3.7316406300737492, 'Othello (1995)'), (3.6837980815896674, 'Seven (Se7en) (1995)'), (3.6193894050234272, 'Unforgiven (1992)'), (3.569870494657005, 'Twister (1996)'), (3.543485603672325, 'Persuasion (1995)'), (3.4919264601985063, 'Wrong Trousers, The (1993)'), (3.4775691964775599, 'Clueless (1995)'), (3.4650721806950142, 'Tomorrow Never Dies (1997)'), (3.4346292065580877, 'Terminator 2: Judgment Day (1991)'), (3.4331013824826435, 'Heat (1995)'), (3.3554394111849897, 'His Girl Friday (1940)'), (3.2633514127480221, 'River Wild, The (1994)'), (3.176365863689405, 'Brothers McMullen, The (1995)'), (3.1381169232394637, 'Cable Guy, The (1996)'), (3.1157148651779001, 'Ransom (1996)'), (3.1022427891238076, 'Mars Attacks! (1996)'), (2.9795235227483765, 'Craft, The (1996)'), (2.8999745417559875, 'My Fellow Americans (1996)'), (2.8168907699927033, 'First Wives Club, The (1996)'), (2.8150772846754943, 'Aladdin (1992)'), (1.8481319943510075, 'Quick and the Dead, The (1995)')]\n"
     ]
    }
   ],
   "source": [
    "print (\"old recommendation list:\")\n",
    "print (getRecommended_User_based (prefs_test, prefs_train, item_sim, '344'))\n",
    "\n",
    "print (\"\\n\")\n",
    "print (\"new recommendation list:\")\n",
    "print (getRecommended_User_based_v3 (prefs_test, prefs_train, item_sim, '344'))"
   ]
  },
  {
   "cell_type": "code",
   "execution_count": 157,
   "metadata": {
    "collapsed": false
   },
   "outputs": [
    {
     "name": "stdout",
     "output_type": "stream",
     "text": [
      "('Number of neighbours: ', 1)\n",
      "974\n",
      "974\n",
      "(1.0846672949716039, 0.03337096721317678)\n",
      "('Number of neighbours: ', 5)\n",
      "3228\n",
      "3228\n",
      "(1.0355053629341651, 0.017910570239713174)\n",
      "('Number of neighbours: ', 10)\n",
      "4775\n",
      "4775\n",
      "(1.0033147636610391, 0.014495457050823182)\n",
      "('Number of neighbours: ', 15)\n",
      "5937\n",
      "5937\n",
      "(0.98681788603139475, 0.012892435928312318)\n",
      "('Number of neighbours: ', 20)\n",
      "6939\n",
      "6939\n",
      "(0.95799892220847971, 0.011749897186946006)\n",
      "('Number of neighbours: ', 25)\n",
      "7783\n",
      "7783\n",
      "(0.94620064724520103, 0.011026002971129784)\n",
      "('Number of neighbours: ', 30)\n",
      "8623\n",
      "8623\n",
      "(0.93570775045240329, 0.010416958172315548)\n",
      "('Number of neighbours: ', 35)\n",
      "9405\n",
      "9405\n",
      "(0.93004070263048577, 0.009944239555282916)\n",
      "('Number of neighbours: ', 40)\n",
      "10204\n",
      "10204\n",
      "(0.91793844903560351, 0.009484655379874935)\n",
      "('Number of neighbours: ', 45)\n",
      "11034\n",
      "11034\n",
      "(0.90484079584964239, 0.009055649332500143)\n",
      "('Number of neighbours: ', 50)\n",
      "11797\n",
      "11797\n",
      "(0.89648800013448182, 0.008717389492104093)\n",
      "('Number of neighbours: ', 55)\n",
      "12618\n",
      "12618\n",
      "(0.88456029893592913, 0.008372756482328478)\n",
      "('Number of neighbours: ', 60)\n",
      "13341\n",
      "13341\n",
      "(0.87569996179706588, 0.0081018364755203)\n",
      "('Number of neighbours: ', 65)\n",
      "13997\n",
      "13997\n",
      "(0.87104900130414797, 0.007888670423313655)\n",
      "('Number of neighbours: ', 70)\n",
      "14588\n",
      "14588\n",
      "(0.86574409989924361, 0.007703656202436179)\n",
      "('Number of neighbours: ', 75)\n",
      "15132\n",
      "15132\n",
      "(0.85767343254060202, 0.007528575541154257)\n",
      "('Number of neighbours: ', 80)\n",
      "15594\n",
      "15594\n",
      "(0.84868490535808316, 0.007377249540547738)\n",
      "('Number of neighbours: ', 85)\n",
      "16021\n",
      "16021\n",
      "(0.84303404733597198, 0.00725400327191443)\n",
      "('Number of neighbours: ', 90)\n",
      "16505\n",
      "16505\n",
      "(0.83692299525167257, 0.007120901624270835)\n",
      "('Number of neighbours: ', 95)\n",
      "16879\n",
      "16879\n",
      "(0.82749090444810758, 0.0070017767266391745)\n",
      "('Number of neighbours: ', 100)\n",
      "17174\n",
      "17174\n",
      "(0.81766900093396533, 0.0069000627037603245)\n"
     ]
    }
   ],
   "source": [
    "##  User based recommendations\n",
    "##\n",
    "\n",
    "mae_array = []\n",
    "rmse_array = []\n",
    "\n",
    "for neighb_val in np_arr:\n",
    "    \n",
    "    print (\"Number of neighbours: \", neighb_val)\n",
    "    item_sim = calculateSimilarUsers (prefs_train, prefs_train, n = neighb_val, verbose = False)\n",
    "    mae_error_val  = get_error_score_for_test_data (prefs_test, prefs_train,  itemsim = item_sim, n_neighb = neighb_val, recom_type = \"user-based3\", pow_val = 1)\n",
    "    rmse_error_val = get_error_score_for_test_data (prefs_test, prefs_train,  itemsim = item_sim, n_neighb = neighb_val, recom_type = \"user-based3\", pow_val = 2)\n",
    "    print (mae_error_val, rmse_error_val)\n",
    "    mae_array +=[mae_error_val]\n",
    "    rmse_array +=[rmse_error_val]"
   ]
  },
  {
   "cell_type": "code",
   "execution_count": 158,
   "metadata": {
    "collapsed": false
   },
   "outputs": [
    {
     "data": {
      "image/png": "[encoded data removed]",
      "text/plain": [
       "<matplotlib.figure.Figure at 0x7f68d6631a50>"
      ]
     },
     "metadata": {},
     "output_type": "display_data"
    }
   ],
   "source": [
    "##\n",
    "##  Graph user based recommendations errors with mean substracted\n",
    "##\n",
    "\n",
    "plt.plot(np_arr, mae_array, label='MAE')\n",
    "plt.plot(np_arr, rmse_array, label = 'RMSE')\n",
    "\n",
    "plt.legend()\n",
    "plt.ylabel('error val')\n",
    "plt.xlabel('number of neigbours')\n",
    "\n",
    "plt.show()"
   ]
  },
  {
   "cell_type": "markdown",
   "metadata": {},
   "source": [
    "##### Сравните подходы на основе полученных результатов по аналогии с пунктами 1 и 2:\n",
    "\n",
    "формулы 2.6 и 2.7 дают лучшие результаты по сравнению с обычными формулами для user_based и item_based. Для 30 соседей видим улучшение с 0.982 (user-based) до 0.946 (user-based + mean + std)\n"
   ]
  },
  {
   "cell_type": "markdown",
   "metadata": {},
   "source": [
    "#####  Как изменяется величина MAE (RMSE) от числа выдаваемых рекомендаций (top-n): $n \\in \\{1,3,5,10,15,20,30,40,50,100\\}$? \n"
   ]
  },
  {
   "cell_type": "code",
   "execution_count": 162,
   "metadata": {
    "collapsed": true
   },
   "outputs": [],
   "source": [
    "n_reco_arr = [1,3,5,10,15,20,30,40,50,100]"
   ]
  },
  {
   "cell_type": "code",
   "execution_count": 165,
   "metadata": {
    "collapsed": false
   },
   "outputs": [
    {
     "name": "stdout",
     "output_type": "stream",
     "text": [
      "('Number of recommendations: ', 1)\n",
      "857\n",
      "857\n",
      "(0.98305074600815234, 0.03386862438347794)\n",
      "('Number of recommendations: ', 3)\n",
      "2425\n",
      "2425\n",
      "(0.92936360809444651, 0.01957658614231298)\n",
      "('Number of recommendations: ', 5)\n",
      "3714\n",
      "3714\n",
      "(0.90570277971983126, 0.015616075521063071)\n",
      "('Number of recommendations: ', 10)\n",
      "5852\n",
      "5852\n",
      "(0.91406273309656161, 0.012497865389142528)\n",
      "('Number of recommendations: ', 15)\n",
      "6980\n",
      "6980\n",
      "(0.91859956260127962, 0.011471901405723793)\n",
      "('Number of recommendations: ', 20)\n",
      "7593\n",
      "7593\n",
      "(0.92227730836538202, 0.011021077637582007)\n",
      "('Number of recommendations: ', 30)\n",
      "8215\n",
      "8215\n",
      "(0.92832146176630415, 0.010630297321915293)\n",
      "('Number of recommendations: ', 40)\n",
      "8441\n",
      "8441\n",
      "(0.93234724049385365, 0.010509738126403942)\n",
      "('Number of recommendations: ', 50)\n",
      "8523\n",
      "8523\n",
      "(0.93403106680682679, 0.01046849901572531)\n",
      "('Number of recommendations: ', 100)\n",
      "8622\n",
      "8622\n",
      "(0.93568972077222134, 0.010417461880695712)\n"
     ]
    }
   ],
   "source": [
    "mae_array = []\n",
    "rmse_array = []\n",
    "\n",
    "neighb_val = 30\n",
    "for n_reco_val in n_reco_arr:\n",
    "    \n",
    "    print (\"Number of recommendations: \", n_reco_val)\n",
    "    item_sim = calculateSimilarUsers (prefs_train, prefs_train, n = neighb_val, verbose = False)\n",
    "    mae_error_val  = get_error_score_for_test_data (prefs_test, prefs_train,  itemsim = item_sim, n_neighb = neighb_val, \n",
    "                                                    recom_type = \"user-based3\", pow_val = 1, n_reco = n_reco_val)\n",
    "    rmse_error_val = get_error_score_for_test_data (prefs_test, prefs_train,  itemsim = item_sim, n_neighb = neighb_val, \n",
    "                                                    recom_type = \"user-based3\", pow_val = 2, n_reco = n_reco_val)\n",
    "    print (mae_error_val, rmse_error_val)\n",
    "    mae_array +=[mae_error_val]\n",
    "    rmse_array +=[rmse_error_val]"
   ]
  },
  {
   "cell_type": "code",
   "execution_count": 166,
   "metadata": {
    "collapsed": false
   },
   "outputs": [
    {
     "data": {
      "image/png": "[encoded data removed]",
      "text/plain": [
       "<matplotlib.figure.Figure at 0x7f68d48527d0>"
      ]
     },
     "metadata": {},
     "output_type": "display_data"
    }
   ],
   "source": [
    "##\n",
    "##  Graph user based recommendations errors with mean substracted\n",
    "##\n",
    "\n",
    "plt.plot(n_reco_arr, mae_array, label='MAE')\n",
    "plt.plot(n_reco_arr, rmse_array, label = 'RMSE')\n",
    "\n",
    "plt.legend()\n",
    "plt.ylabel('error val')\n",
    "plt.xlabel('number of neigbours')\n",
    "\n",
    "plt.show()"
   ]
  },
  {
   "cell_type": "markdown",
   "metadata": {},
   "source": [
    "#####  Как Вы считаете, какие фильмы чаще рекомендуются -- популярные с высокими оценками или редкие (те, которые редко оцениваются) с высокими оценками?\n",
    "\n",
    "Чаще всего рекомедуют фильмы популярные с высокими оценками. Фильмы, для которых мало оценок не рекомендуют, потому что высока вероятность нерелевантности выдачи из-за недостоверности оценки.\n"
   ]
  },
  {
   "cell_type": "markdown",
   "metadata": {},
   "source": [
    "#####  Что делать, если соседей (то есть похожих на целевого пользователя или конкретный товар) мало? Нужно/можно ли как-то учитывать достоверность таких рекомендаций?\n",
    "\n",
    "Достоверность таких рекомендаций должна ставиться под вопрос. Из-за недостаточности данных оценки нельзя считать релевантными. \n",
    "\n",
    "В общем случае можно придумать отдельную модель для всех фильмов, у которых мало оценок и давать им оценку в зависимости от того, что будет показывать эта модель. Например, взять линейную регрессию с кучей фич на основе данных по фильмам (описания, год выпуска, жанра, режиссёра и тп.), плюс фичи на основе статистик по имеющимся оценкам (средние, отклонения и тп.).\n",
    "\n",
    "Также, как вариант, можно использовать метод, описанный в книге \"Баесовские методы для Хакеров\" - ранжирование фильмов на основе доверительных интервалов для оценки: http://nbviewer.jupyter.org/github/CamDavidsonPilon/Probabilistic-Programming-and-Bayesian-Methods-for-Hackers/blob/master/Chapter4_TheGreatestTheoremNeverTold/Chapter4.ipynb\n",
    "\n"
   ]
  },
  {
   "cell_type": "markdown",
   "metadata": {},
   "source": [
    "#####   *Необязательное подзадание.* Насколько различны списки из top-n рекомендаций. Попробуйте улучшить результаты подбором $\\beta$ для минимизации MAE (RMSE) в гибридных рекомендациях в зависимости от числа соседей:\n",
    "$$\\beta\\cdot r^{user-based}_{ui} + (1-\\beta)\\cdot r^{item-based}_{ui}, \\mbox{ где } 0 \\leq \\beta \\leq 1.$$ \n"
   ]
  },
  {
   "cell_type": "code",
   "execution_count": null,
   "metadata": {
    "collapsed": true
   },
   "outputs": [],
   "source": []
  }
 ],
 "metadata": {
  "kernelspec": {
   "display_name": "Python 2",
   "language": "python",
   "name": "python2"
  },
  "language_info": {
   "codemirror_mode": {
    "name": "ipython",
    "version": 2
   },
   "file_extension": ".py",
   "mimetype": "text/x-python",
   "name": "python",
   "nbconvert_exporter": "python",
   "pygments_lexer": "ipython2",
   "version": "2.7.11"
  },
  "name": "lesson11_recsys.ipynb"
 },
 "nbformat": 4,
 "nbformat_minor": 0
}
